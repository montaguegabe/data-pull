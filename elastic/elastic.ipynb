{
  "cells": [
    {
      "cell_type": "markdown",
      "source": [
        "## SETUP"
      ],
      "metadata": {}
    },
    {
      "cell_type": "code",
      "source": [
        "# First load credentials\n",
        "import json\n",
        "(access, secret) = json.load(open('../credentials/elasticsearch.json'))"
      ],
      "outputs": [],
      "execution_count": 1,
      "metadata": {
        "collapsed": false,
        "outputHidden": false,
        "inputHidden": false
      }
    },
    {
      "cell_type": "code",
      "source": [
        "# Set up the request object\n",
        "from elasticsearch import Elasticsearch\n",
        "from elasticsearch import Elasticsearch, RequestsHttpConnection\n",
        "from requests_aws4auth import AWS4Auth\n",
        "\n",
        "host = 'search-e5ud2nsmhsp52orvyvpqur0k09x-bkkbyr2hfjeiyujryuqkm5y3hu.us-east-1.es.amazonaws.com'\n",
        "region = 'us-east-1'\n",
        "\n",
        "awsauth = AWS4Auth(access, secret, region, 'es')\n",
        "\n",
        "es = Elasticsearch(\n",
        "    hosts=[{'host': host, 'port': 443}],\n",
        "    http_auth=awsauth,\n",
        "    use_ssl=True,\n",
        "    verify_certs=True,\n",
        "    connection_class=RequestsHttpConnection\n",
        ")"
      ],
      "outputs": [],
      "execution_count": 2,
      "metadata": {
        "collapsed": false,
        "outputHidden": false,
        "inputHidden": false
      }
    },
    {
      "cell_type": "code",
      "source": [
        "# Test that it is working\n",
        "es.info()"
      ],
      "outputs": [
        {
          "output_type": "execute_result",
          "execution_count": 3,
          "data": {
            "text/plain": [
              "{u'cluster_name': u'632795836081:e5ud2nsmhsp52orvyvpqur0k09x',\n",
              " u'cluster_uuid': u'ZtlOYew8SCS7wuE60S5QwQ',\n",
              " u'name': u'-w-P0bT',\n",
              " u'tagline': u'You Know, for Search',\n",
              " u'version': {u'build_date': u'2018-02-28T15:42:08.616107Z',\n",
              "  u'build_hash': u'10b1edd',\n",
              "  u'build_snapshot': False,\n",
              "  u'lucene_version': u'7.2.1',\n",
              "  u'minimum_index_compatibility_version': u'5.0.0',\n",
              "  u'minimum_wire_compatibility_version': u'5.6.0',\n",
              "  u'number': u'6.2.2'}}"
            ]
          },
          "metadata": {}
        }
      ],
      "execution_count": 3,
      "metadata": {
        "collapsed": false,
        "outputHidden": false,
        "inputHidden": false
      }
    },
    {
      "cell_type": "markdown",
      "source": [
        "## ANALYSIS"
      ],
      "metadata": {}
    },
    {
      "cell_type": "code",
      "source": [
        "# First we create a custom analyzer for the index\n",
        "ANALYZER_VERSION = '1'\n",
        "ANALYZER_NAME = 'english'\n",
        "analyzer_id = 'an-' + ANALYZER_VERSION + '-' + ANALYZER_NAME\n",
        "an_prefix = analyzer_id + '-'\n",
        "analyzer_settings = {\n",
        "    \"filter\": {\n",
        "        an_prefix + \"english_stop\": {\n",
        "            \"type\":       \"stop\",\n",
        "            \"stopwords\":  \"_english_\" \n",
        "        },\n",
        "        an_prefix + \"english_keywords\": {\n",
        "            \"type\":       \"keyword_marker\",\n",
        "            \"keywords\":   [\"example\"] \n",
        "        },\n",
        "        an_prefix + \"english_stemmer\": {\n",
        "            \"type\":       \"stemmer\",\n",
        "            \"language\":   \"english\"\n",
        "        },\n",
        "        an_prefix + \"english_possessive_stemmer\": {\n",
        "            \"type\":       \"stemmer\",\n",
        "            \"language\":   \"possessive_english\"\n",
        "        }\n",
        "    },\n",
        "    \"analyzer\": {\n",
        "        analyzer_id: {\n",
        "            \"tokenizer\":  \"standard\",\n",
        "            \"filter\": [\n",
        "                an_prefix + \"english_possessive_stemmer\",\n",
        "                \"lowercase\",\n",
        "                an_prefix + \"english_stop\",\n",
        "                an_prefix + \"english_keywords\",\n",
        "                an_prefix + \"english_stemmer\"\n",
        "            ]\n",
        "        }\n",
        "    }\n",
        "}"
      ],
      "outputs": [],
      "execution_count": 4,
      "metadata": {
        "collapsed": false,
        "outputHidden": false,
        "inputHidden": false
      }
    },
    {
      "cell_type": "code",
      "source": [
        "# Try out the analyzer\n",
        "# DO INDEX CREATION FIRST\n",
        "\n",
        "test = \"Please analyze this text for me.\"\n",
        "test_body = {\n",
        "    \"analyzer\": analyzer_id,\n",
        "    \"text\": test\n",
        "}\n",
        "es.indices.analyze(index=INDEX_NAME, body=test_body)"
      ],
      "outputs": [
        {
          "output_type": "error",
          "ename": "SyntaxError",
          "evalue": "invalid syntax (<ipython-input-5-06bd7d2945b9>, line 8)",
          "traceback": [
            "\u001b[0;36m  File \u001b[0;32m\"<ipython-input-5-06bd7d2945b9>\"\u001b[0;36m, line \u001b[0;32m8\u001b[0m\n\u001b[0;31m    }\u001b[0m\n\u001b[0m    ^\u001b[0m\n\u001b[0;31mSyntaxError\u001b[0m\u001b[0;31m:\u001b[0m invalid syntax\n"
          ]
        }
      ],
      "execution_count": 5,
      "metadata": {
        "collapsed": false,
        "outputHidden": false,
        "inputHidden": false
      }
    },
    {
      "cell_type": "markdown",
      "source": [
        "## MAPPINGS"
      ],
      "metadata": {}
    },
    {
      "cell_type": "code",
      "source": [
        "# Define the index mapping type\n",
        "MAPPING_NAME = '_doc'\n",
        "mapping_type = {\n",
        "    \"date_detection\": False,\n",
        "    \"properties\": {\n",
        "        \"article_date\": {\"type\": \"date\"},\n",
        "        \"article_title\": {\n",
        "            \"fields\": {\n",
        "                \"keyword\": {\n",
        "                    \"ignore_above\": 256,\n",
        "                    \"type\": \"keyword\"\n",
        "                }\n",
        "            },\n",
        "            \"type\": \"text\",\n",
        "            \"analyzer\": analyzer_id\n",
        "        },\n",
        "        \"text\": {\n",
        "            \"type\": \"text\",\n",
        "            \"analyzer\": analyzer_id\n",
        "        }\n",
        "    },\n",
        "    \n",
        "    # We want unknown string fields to be analyzed - no keywords\n",
        "    \"dynamic_templates\": [\n",
        "        {\n",
        "            \"strings\": {\n",
        "                \"match_mapping_type\": \"string\",\n",
        "                \"mapping\": {\n",
        "                    \"type\": \"text\",\n",
        "                    \"analyzer\": analyzer_id\n",
        "                }\n",
        "            }\n",
        "        }\n",
        "    ]\n",
        "}"
      ],
      "outputs": [],
      "execution_count": null,
      "metadata": {
        "collapsed": false,
        "outputHidden": false,
        "inputHidden": false
      }
    },
    {
      "cell_type": "markdown",
      "source": [
        "## INDEX CREATION"
      ],
      "metadata": {}
    },
    {
      "cell_type": "code",
      "source": [
        "INDEX_NAME = 'nature-papers-english'"
      ],
      "outputs": [],
      "execution_count": null,
      "metadata": {
        "collapsed": false,
        "outputHidden": false,
        "inputHidden": false
      }
    },
    {
      "cell_type": "code",
      "source": [
        "# Create the index with the analyzer\n",
        "creation_body = {\n",
        "    \"settings\": {\n",
        "        \"analysis\": analyzer_settings\n",
        "    },\n",
        "    \"mappings\": {\n",
        "        MAPPING_NAME: mapping_type\n",
        "    }\n",
        "}\n",
        "es.indices.create(index=INDEX_NAME, body=creation_body)"
      ],
      "outputs": [],
      "execution_count": null,
      "metadata": {
        "collapsed": false,
        "outputHidden": false,
        "inputHidden": false
      }
    },
    {
      "cell_type": "markdown",
      "source": [
        "## INDEX DESTRUCTION"
      ],
      "metadata": {}
    },
    {
      "cell_type": "code",
      "source": [
        "TO_DELETE = 'nature-papers-english123'\n",
        "es.indices.delete(index=TO_DELETE)"
      ],
      "outputs": [],
      "execution_count": null,
      "metadata": {
        "collapsed": false,
        "outputHidden": false,
        "inputHidden": false
      }
    },
    {
      "cell_type": "code",
      "source": [],
      "outputs": [],
      "execution_count": null,
      "metadata": {
        "collapsed": false,
        "outputHidden": false,
        "inputHidden": false
      }
    }
  ],
  "metadata": {
    "kernel_info": {
      "name": "python2"
    },
    "kernelspec": {
      "name": "python2",
      "language": "python",
      "display_name": "Python 2"
    },
    "language_info": {
      "mimetype": "text/x-python",
      "nbconvert_exporter": "python",
      "name": "python",
      "pygments_lexer": "ipython2",
      "version": "2.7.14",
      "file_extension": ".py",
      "codemirror_mode": {
        "version": 2,
        "name": "ipython"
      }
    },
    "nteract": {
      "version": "0.8.4"
    }
  },
  "nbformat": 4,
  "nbformat_minor": 4
}