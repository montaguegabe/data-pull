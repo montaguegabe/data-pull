{
  "cells": [
    {
      "cell_type": "code",
      "source": [
        "import requests\n",
        "\n",
        "payload = {\n",
        "    'httpAccept': 'application/json',\n",
        "    'queryType': 'searchTerms',\n",
        "    'query': '+'.join(['climate', 'change'])\n",
        "}\n",
        "url = 'http://api.nature.com/content/opensearch/request'\n",
        "result = requests.get(url, params=payload)\n",
        "response = result.json()\n"
      ],
      "outputs": [],
      "execution_count": 20,
      "metadata": {
        "collapsed": false,
        "outputHidden": false,
        "inputHidden": false
      }
    },
    {
      "cell_type": "code",
      "source": [
        "import pyperclip, webbrowser\n",
        "\n",
        "def browseJSON(json_str):\n",
        "    pyperclip.copy(json_str)\n",
        "    webbrowser.open_new_tab('https://jsonformatter.curiousconcept.com/')\n",
        "    \n",
        "browseJSON(result.text)\n",
        "\n# then paste in your clipboard and set the JSON type away from default"
      ],
      "outputs": [],
      "execution_count": 23,
      "metadata": {
        "collapsed": false,
        "outputHidden": false,
        "inputHidden": false
      }
    },
    {
      "cell_type": "code",
      "source": [],
      "outputs": [],
      "execution_count": null,
      "metadata": {
        "collapsed": false,
        "outputHidden": false,
        "inputHidden": false
      }
    }
  ],
  "metadata": {
    "kernelspec": {
      "name": "python2",
      "language": "python",
      "display_name": "Python 2"
    },
    "kernel_info": {
      "name": "python2"
    },
    "language_info": {
      "mimetype": "text/x-python",
      "nbconvert_exporter": "python",
      "name": "python",
      "pygments_lexer": "ipython2",
      "version": "2.7.14",
      "file_extension": ".py",
      "codemirror_mode": {
        "version": 2,
        "name": "ipython"
      }
    },
    "nteract": {
      "version": "0.7.1"
    }
  },
  "nbformat": 4,
  "nbformat_minor": 4
}