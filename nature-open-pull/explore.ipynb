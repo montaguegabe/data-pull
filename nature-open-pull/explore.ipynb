{
  "cells": [
    {
      "cell_type": "code",
      "source": [
        "# Give access to utils\n",
        "import os\n",
        "import sys\n",
        "module_path = os.path.abspath(os.path.join('..'))\n",
        "if module_path not in sys.path:\n",
        "    sys.path.append(module_path)"
      ],
      "outputs": [],
      "execution_count": null,
      "metadata": {
        "collapsed": false,
        "outputHidden": false,
        "inputHidden": false
      }
    },
    {
      "cell_type": "code",
      "source": [
        "import requests\n",
        "\n",
        "keywords = ['ocean', 'rise']\n",
        "\n",
        "data = {\n",
        "    'httpAccept': 'application/json',\n",
        "    'queryType': 'searchTerms',\n",
        "    'query': '+'.join(keywords)\n",
        "}\n",
        "url = 'http://api.nature.com/content/opensearch/request'\n",
        "response = requests.get(url, params=data)\n",
        "body = result.json()\n"
      ],
      "outputs": [],
      "execution_count": null,
      "metadata": {
        "collapsed": false,
        "outputHidden": false,
        "inputHidden": false
      }
    },
    {
      "cell_type": "code",
      "source": [
        "import pyperclip, webbrowser\n",
        "# to do this little trick you need to pip install pyperclip\n",
        "\n",
        "def browseJSON(json_str):\n",
        "    pyperclip.copy(json_str)\n",
        "    webbrowser.open_new_tab('https://jsonformatter.curiousconcept.com/')\n",
        "    \n",
        "browseJSON(response.text)\n",
        "\n# then paste in your clipboard"
      ],
      "outputs": [],
      "execution_count": null,
      "metadata": {
        "collapsed": false,
        "outputHidden": false,
        "inputHidden": false
      }
    },
    {
      "cell_type": "code",
      "source": [
        "results = body['feed']['entry']\n",
        "\n",
        "# An example result:\n",
        "example = results[6]\n",
        "url = example['link']"
      ],
      "outputs": [],
      "execution_count": null,
      "metadata": {
        "collapsed": false,
        "outputHidden": false,
        "inputHidden": false
      }
    },
    {
      "cell_type": "code",
      "source": [
        "# The URL of the example result (is a redirect)\n",
        "url"
      ],
      "outputs": [],
      "execution_count": null,
      "metadata": {
        "collapsed": false,
        "outputHidden": false,
        "inputHidden": false
      }
    },
    {
      "cell_type": "code",
      "source": [
        "# This will bring us to HTML versions, but PDF versions are better\n",
        "# (I think, assuming that the ordering of the text is not totally messed up)\n",
        "\n",
        "# Request the page to see which source it is\n",
        "\nresponse2 = requests.get(url)"
      ],
      "outputs": [],
      "execution_count": null,
      "metadata": {
        "collapsed": false,
        "outputHidden": false,
        "inputHidden": false
      }
    },
    {
      "cell_type": "code",
      "source": [
        "# URL has info on the source\n",
        "redirected_url = response2.url\n",
        "\n",
        "# I only know how to deal with 'nature' and 'springer' publication sources\n",
        "publication_source = redirected_url.split('.')[1]\n",
        "\nprint publication_source"
      ],
      "outputs": [],
      "execution_count": null,
      "metadata": {
        "collapsed": false,
        "outputHidden": false,
        "inputHidden": false
      }
    },
    {
      "cell_type": "markdown",
      "source": [
        "The final step (before cleaning haha) is the actual loading of the PDF and conversion to text"
      ],
      "metadata": {}
    },
    {
      "cell_type": "code",
      "source": [
        "redirected_url"
      ],
      "outputs": [],
      "execution_count": null,
      "metadata": {
        "collapsed": false,
        "outputHidden": false,
        "inputHidden": false
      }
    },
    {
      "cell_type": "code",
      "source": [
        "import util\n",
        "reload(util)\n",
        "\n",
        "if publication_source == 'springer':\n",
        "    \n",
        "    cookies = util.get_cookies('../credentials/gabe_springer.json')\n",
        "    \n",
        "    # They make it really hard – give up\n",
        "    assert False\n",
        "    \n",
        "elif publication_source == 'nature':\n",
        "    \n",
        "    cookies = util.get_cookies('../credentials/gabe_nature_com.json')\n",
        "    pdf_id = redirected_url.split('/')[-1]\n",
        "    pdf_url_fmt = 'http://www.nature.com.ezp-prod1.hul.harvard.edu/articles/%s.pdf'\n",
        "    \n",
        "pdf_url = pdf_url_fmt % pdf_id\n",
        "pdf_url\n",
        "#util.download_file(pdf_url, cookies)\n",
        "\n# With the PDF downloaded we can extract the text "
      ],
      "outputs": [],
      "execution_count": null,
      "metadata": {
        "collapsed": false,
        "outputHidden": false,
        "inputHidden": false
      }
    },
    {
      "cell_type": "code",
      "source": [
        "response2.text"
      ],
      "outputs": [],
      "execution_count": null,
      "metadata": {
        "collapsed": false,
        "outputHidden": false,
        "inputHidden": false
      }
    },
    {
      "cell_type": "code",
      "source": [],
      "outputs": [],
      "execution_count": null,
      "metadata": {
        "collapsed": false,
        "outputHidden": false,
        "inputHidden": false
      }
    }
  ],
  "metadata": {
    "kernelspec": {
      "name": "python2",
      "language": "python",
      "display_name": "Python 2"
    },
    "kernel_info": {
      "name": "python2"
    },
    "language_info": {
      "mimetype": "text/x-python",
      "nbconvert_exporter": "python",
      "name": "python",
      "pygments_lexer": "ipython2",
      "version": "2.7.14",
      "file_extension": ".py",
      "codemirror_mode": {
        "version": 2,
        "name": "ipython"
      }
    },
    "nteract": {
      "version": "0.7.1"
    }
  },
  "nbformat": 4,
  "nbformat_minor": 4
}