{
  "cells": [
    {
      "cell_type": "code",
      "source": [
        "# Give access to utils\n",
        "import os\n",
        "import sys\n",
        "module_path = os.path.abspath(os.path.join('..'))\n",
        "if module_path not in sys.path:\n",
        "    sys.path.append(module_path)"
      ],
      "outputs": [],
      "execution_count": 1,
      "metadata": {
        "collapsed": false,
        "outputHidden": false,
        "inputHidden": false
      }
    },
    {
      "cell_type": "code",
      "source": [
        "import requests\n",
        "\n",
        "search_include = [\n",
        "    'cql.keywords any climate',\n",
        "    'cql.keywords any earth'\n",
        "]\n",
        "\n",
        "# We apply this filter to be able to get the PDFs of each\n",
        "search_filter = [\n",
        "    'dc.publisher=Nature Publishing Group'\n",
        "]\n",
        "\n",
        "#'prism.productCode' to further narrow down on which nature\n",
        "\n",
        "cql_query = '(' + ' OR '.join(search_include) + ') AND ' + ' AND '.join(search_filter)\n",
        "print cql_query\n",
        "\n",
        "data = {\n",
        "    'httpAccept': 'application/json',\n",
        "    'queryType': 'cql',\n",
        "    'startRecord': '10970000',\n",
        "    'query': cql_query\n",
        "    \n",
        "}\n",
        "url = 'http://api.nature.com/content/opensearch/request'\n",
        "response = requests.get(url, params=data)\n",
        "body = response.json()"
      ],
      "outputs": [
        {
          "output_type": "stream",
          "name": "stdout",
          "text": [
            "(cql.keywords any climate OR cql.keywords any earth) AND dc.publisher=Nature Publishing Group\n"
          ]
        }
      ],
      "execution_count": 22,
      "metadata": {
        "collapsed": false,
        "outputHidden": false,
        "inputHidden": false
      }
    },
    {
      "cell_type": "code",
      "source": [
        "#body['feed']['sru:numberOfRecords']\n",
        "body['feed']['opensearch:startIndex']"
      ],
      "outputs": [
        {
          "output_type": "error",
          "ename": "KeyError",
          "evalue": "'opensearch:startIndex'",
          "traceback": [
            "\u001b[0;31m\u001b[0m",
            "\u001b[0;31mKeyError\u001b[0mTraceback (most recent call last)",
            "\u001b[0;32m<ipython-input-23-f91f27409dd0>\u001b[0m in \u001b[0;36m<module>\u001b[0;34m()\u001b[0m\n\u001b[1;32m      1\u001b[0m \u001b[0;31m#body['feed']['sru:numberOfRecords']\u001b[0m\u001b[0;34m\u001b[0m\u001b[0;34m\u001b[0m\u001b[0m\n\u001b[0;32m----> 2\u001b[0;31m \u001b[0mbody\u001b[0m\u001b[0;34m[\u001b[0m\u001b[0;34m'feed'\u001b[0m\u001b[0;34m]\u001b[0m\u001b[0;34m[\u001b[0m\u001b[0;34m'opensearch:startIndex'\u001b[0m\u001b[0;34m]\u001b[0m\u001b[0;34m\u001b[0m\u001b[0m\n\u001b[0m",
            "\u001b[0;31mKeyError\u001b[0m: 'opensearch:startIndex'"
          ]
        }
      ],
      "execution_count": 23,
      "metadata": {
        "collapsed": false,
        "outputHidden": false,
        "inputHidden": false
      }
    },
    {
      "cell_type": "code",
      "source": [
        "# OPTIONAL\n",
        "\n",
        "import pyperclip, webbrowser\n",
        "# to do this little trick you need to pip install pyperclip\n",
        "\n",
        "def browseJSON(json_str):\n",
        "    pyperclip.copy(json_str)\n",
        "    webbrowser.open_new_tab('https://jsonformatter.curiousconcept.com/')\n",
        "    \n",
        "browseJSON(response.text)\n",
        "\n# then paste in your clipboard"
      ],
      "outputs": [],
      "execution_count": 24,
      "metadata": {
        "collapsed": false,
        "outputHidden": false,
        "inputHidden": false
      }
    },
    {
      "cell_type": "code",
      "source": [
        "results = body['feed']['entry']\n",
        "\n",
        "# An example result:\n",
        "example = results[6]\n",
        "url = example['link']"
      ],
      "outputs": [],
      "execution_count": null,
      "metadata": {
        "collapsed": false,
        "outputHidden": false,
        "inputHidden": false
      }
    },
    {
      "cell_type": "code",
      "source": [
        "# The URL of the example result is a redirect\n",
        "import webbrowser\n",
        "url\n",
        "webbrowser.open_new_tab(url)"
      ],
      "outputs": [],
      "execution_count": null,
      "metadata": {
        "collapsed": false,
        "outputHidden": false,
        "inputHidden": false
      }
    },
    {
      "cell_type": "code",
      "source": [
        "# Get the redirected page - hopefully it should begin with nature.com\n",
        "response = requests.get(url, params=data)\n",
        "redirected_url = response.url\n",
        "print redirected_url"
      ],
      "outputs": [],
      "execution_count": null,
      "metadata": {
        "collapsed": false,
        "outputHidden": false,
        "inputHidden": false
      }
    },
    {
      "cell_type": "code",
      "source": [
        "# Build the URL of the HTML page with the full article\n",
        "\n",
        "doc_id = redirected_url.split('/')[-1]\n",
        "article_url_fmt = 'http://www.nature.com.ezp-prod1.hul.harvard.edu/articles/%s'\n",
        "article_url = article_url_fmt % doc_id\n",
        "print article_url"
      ],
      "outputs": [],
      "execution_count": null,
      "metadata": {
        "collapsed": false,
        "outputHidden": false,
        "inputHidden": false
      }
    },
    {
      "cell_type": "code",
      "source": [
        "\"\"\"\n",
        "OLD WAY: IGNORE\n",
        "\n",
        "# Download the PDF file. If this doesn't work then the cookie is expired.\n",
        "# In this case, copy the CURL from Chrome and use it to make a new .sh file\n",
        "import subprocess\n",
        "import os\n",
        "cwd = os.getcwd()\n",
        "\n",
        "env = {'PDF_URL': pdf_url, 'OUT_FILE': doc_id + '.pdf'}\n",
        "with open('python-sh.log', 'a') as log2:\n",
        "    p = subprocess.Popen('./nature-curl.sh', shell=True, cwd=cwd, env=env,\n",
        "                    stderr=log2, stdout=log2)\n",
        "p.wait()\n",
        "cwd\"\"\""
      ],
      "outputs": [],
      "execution_count": null,
      "metadata": {
        "collapsed": false,
        "outputHidden": false,
        "inputHidden": false
      }
    },
    {
      "cell_type": "code",
      "source": [
        "# Cleaner, more sharable way of downloading the file\n",
        "import requests\n",
        "import util\n",
        "\n",
        "cookies = util.get_cookies('../credentials/gabe_nature.json')\n",
        "article_fname = util.download_file(article_url, cookies)"
      ],
      "outputs": [],
      "execution_count": null,
      "metadata": {
        "collapsed": false,
        "outputHidden": false,
        "inputHidden": false
      }
    },
    {
      "cell_type": "code",
      "source": [
        "\n",
        "# Now we just have to convert the PDF to text with pdfminer\n",
        "# This assumes you have pdfminer on your python path\n",
        "\n",
        "# Abandoned for HTML\n",
        "\n",
        "OUTPUT_DIR = './corpus/'\n",
        "\n",
        "from pdf2txt import main as maketxt\n",
        "maketxt([\n",
        "    'pdf2txt',\n",
        "    '-o', OUTPUT_DIR + pdf_fname.split('.')[0] + '.txt',\n",
        "    pdf_fname\n",
        "])"
      ],
      "outputs": [],
      "execution_count": null,
      "metadata": {
        "collapsed": false,
        "outputHidden": false,
        "inputHidden": false
      }
    },
    {
      "cell_type": "code",
      "source": [],
      "outputs": [],
      "execution_count": null,
      "metadata": {
        "collapsed": false,
        "outputHidden": false,
        "inputHidden": false
      }
    }
  ],
  "metadata": {
    "kernelspec": {
      "name": "python2",
      "language": "python",
      "display_name": "Python 2"
    },
    "kernel_info": {
      "name": "python2"
    },
    "language_info": {
      "mimetype": "text/x-python",
      "nbconvert_exporter": "python",
      "name": "python",
      "pygments_lexer": "ipython2",
      "version": "2.7.14",
      "file_extension": ".py",
      "codemirror_mode": {
        "version": 2,
        "name": "ipython"
      }
    },
    "nteract": {
      "version": "0.7.1"
    }
  },
  "nbformat": 4,
  "nbformat_minor": 4
}