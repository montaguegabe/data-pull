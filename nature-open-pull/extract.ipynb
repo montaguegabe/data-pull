{
  "cells": [
    {
      "cell_type": "code",
      "source": [
        "# Give access to utils\n",
        "import os\n",
        "import sys\n",
        "module_path = os.path.abspath(os.path.join('..'))\n",
        "if module_path not in sys.path:\n",
        "    sys.path.append(module_path)\n",
        "import util"
      ],
      "outputs": [],
      "execution_count": 1,
      "metadata": {
        "collapsed": false,
        "outputHidden": false,
        "inputHidden": false
      }
    },
    {
      "cell_type": "code",
      "source": [
        "# Load an example publication returned\n",
        "with open('nature07365.html', 'r') as example_html:\n",
        "    html = example_html.read()"
      ],
      "outputs": [],
      "execution_count": 2,
      "metadata": {
        "collapsed": false,
        "outputHidden": false,
        "inputHidden": false
      }
    },
    {
      "cell_type": "code",
      "source": [
        "# Import into Beautiful Soup\n",
        "from bs4 import BeautifulSoup\n",
        "import re\n",
        "soup = BeautifulSoup(html, 'html.parser')\n",
        "\n",
        "# Find article sections\n",
        "sections = soup.findAll('section', {'aria-labelledby': re.compile(r\".*\")})\n",
        "len(sections)"
      ],
      "outputs": [
        {
          "output_type": "execute_result",
          "execution_count": 3,
          "data": {
            "text/plain": [
              "7"
            ]
          },
          "metadata": {}
        }
      ],
      "execution_count": 3,
      "metadata": {
        "collapsed": false,
        "outputHidden": false,
        "inputHidden": false
      }
    },
    {
      "cell_type": "code",
      "source": [
        "# We define a method that turns HTML into text\n",
        "# Source: https://stackoverflow.com/questions/328356/extracting-text-from-html-file-using-python\n",
        "def html2txt(html):\n",
        "    soup = BeautifulSoup(html, 'html.parser')\n",
        "\n",
        "    # Kill all script, style, and link elements\n",
        "    for script in soup(['script', 'style', 'a', 'h2']):\n",
        "        script.extract()    # rip it out\n",
        "        \n",
        "    # Get text\n",
        "    text = soup.get_text()\n",
        "    \n",
        "    return text"
      ],
      "outputs": [],
      "execution_count": 6,
      "metadata": {
        "collapsed": false,
        "outputHidden": false,
        "inputHidden": false
      }
    },
    {
      "cell_type": "code",
      "source": [
        "import re\n",
        "\n",
        "# Certain sections contain useless information\n",
        "skip_sections = set([\n",
        "    'acknowledgements',\n",
        "    'references',\n",
        "    'author-information',\n",
        "    'supplementary-information',\n",
        "    'article-comments'\n",
        "])\n",
        "\n",
        "section_texts = []\n",
        "\n",
        "# Turn each section that does have good info into text\n",
        "for section in sections:\n",
        "    \n",
        "    # Skip useless sections\n",
        "    s_title = section['aria-labelledby']\n",
        "    if s_title in skip_sections:\n",
        "        continue\n",
        "    \n",
        "    # Otherwise we turn the section into plain text\n",
        "    text = html2txt(unicode(section))\n",
        "    text = re.sub(r'[^\\x00-\\x7f]',r' ', text) # remove non-unicode\n",
        "    section_texts.append(text)\n",
        "    "
      ],
      "outputs": [],
      "execution_count": 7,
      "metadata": {
        "collapsed": false,
        "outputHidden": false,
        "inputHidden": false
      }
    },
    {
      "cell_type": "code",
      "source": [
        "texts = '\\n'.join(section_texts)\n",
        "#print texts"
      ],
      "outputs": [],
      "execution_count": 8,
      "metadata": {
        "collapsed": false,
        "outputHidden": false,
        "inputHidden": false
      }
    },
    {
      "cell_type": "markdown",
      "source": [
        "Certain forums have recommended number substition - could be worth looking into. Just tokens for negative, 0-1, and positive numbers. \n",
        "\nAdditionally we want to split by everything that is not a letter"
      ],
      "metadata": {}
    },
    {
      "cell_type": "code",
      "source": [
        "def is_number(s):\n",
        "    return s[0].isdigit()\n",
        "\n",
        "# Check if numbers can be identified\n",
        "is_number('18Ocal')"
      ],
      "outputs": [
        {
          "output_type": "execute_result",
          "execution_count": 9,
          "data": {
            "text/plain": [
              "True"
            ]
          },
          "metadata": {}
        }
      ],
      "execution_count": 9,
      "metadata": {
        "collapsed": false,
        "outputHidden": false,
        "inputHidden": false
      }
    },
    {
      "cell_type": "code",
      "source": [
        "import re\n",
        "\n",
        "# Split the string by space first\n",
        "texts_word_lists = []\n",
        "for text in section_texts:\n",
        "    text_list = text.split(' ')\n",
        "    text_list_out = []\n",
        "    for word in text_list:\n",
        "        if not word:\n",
        "            continue\n",
        "        elif is_number(word):\n",
        "            text_list_out.append('TOKEN_NUMBER')\n",
        "        else:\n",
        "            subwords = re.split('[^a-zA-Z]', word)\n",
        "            text_list_out.extend(filter(None, subwords))\n",
        "    texts_word_lists.append(text_list_out)\n",
        "    \n",
        "texts_word_lists"
      ],
      "outputs": [
        {
          "output_type": "execute_result",
          "execution_count": 44,
          "data": {
            "text/plain": [
              "[[u'Climate',\n",
              "  u'in',\n",
              "  u'the',\n",
              "  u'early',\n",
              "  u'Pleistocene',\n",
              "  u'varied',\n",
              "  u'with',\n",
              "  u'a',\n",
              "  u'period',\n",
              "  u'of',\n",
              "  'TOKEN_NUMBER',\n",
              "  u'kyr',\n",
              "  u'and',\n",
              "  u'was',\n",
              "  u'related',\n",
              "  u'to',\n",
              "  u'variations',\n",
              "  u'in',\n",
              "  u'Earth',\n",
              "  u's',\n",
              "  u'obliquity',\n",
              "  u'About',\n",
              "  'TOKEN_NUMBER',\n",
              "  u'kyr',\n",
              "  u'ago',\n",
              "  u'variability',\n",
              "  u'increased',\n",
              "  u'and',\n",
              "  u'oscillated',\n",
              "  u'primarily',\n",
              "  u'at',\n",
              "  u'a',\n",
              "  u'period',\n",
              "  u'of',\n",
              "  'TOKEN_NUMBER',\n",
              "  u'kyr',\n",
              "  u'suggesting',\n",
              "  u'that',\n",
              "  u'the',\n",
              "  u'link',\n",
              "  u'was',\n",
              "  u'then',\n",
              "  u'with',\n",
              "  u'the',\n",
              "  u'eccentricity',\n",
              "  u'of',\n",
              "  u'Earth',\n",
              "  u's',\n",
              "  u'orbit',\n",
              "  u'This',\n",
              "  u'transition',\n",
              "  u'has',\n",
              "  u'often',\n",
              "  u'been',\n",
              "  u'attributed',\n",
              "  u'to',\n",
              "  u'a',\n",
              "  u'nonlinear',\n",
              "  u'response',\n",
              "  u'to',\n",
              "  u'small',\n",
              "  u'changes',\n",
              "  u'in',\n",
              "  u'external',\n",
              "  u'boundary',\n",
              "  u'conditions',\n",
              "  u'Here',\n",
              "  u'we',\n",
              "  u'propose',\n",
              "  u'that',\n",
              "  u'increasing',\n",
              "  u'variablility',\n",
              "  u'within',\n",
              "  u'the',\n",
              "  u'past',\n",
              "  u'million',\n",
              "  u'years',\n",
              "  u'may',\n",
              "  u'indicate',\n",
              "  u'that',\n",
              "  u'the',\n",
              "  u'climate',\n",
              "  u'system',\n",
              "  u'was',\n",
              "  u'approaching',\n",
              "  u'a',\n",
              "  u'second',\n",
              "  u'climate',\n",
              "  u'bifurcation',\n",
              "  u'point',\n",
              "  u'after',\n",
              "  u'which',\n",
              "  u'it',\n",
              "  u'would',\n",
              "  u'transition',\n",
              "  u'again',\n",
              "  u'to',\n",
              "  u'a',\n",
              "  u'new',\n",
              "  u'stable',\n",
              "  u'state',\n",
              "  u'characterized',\n",
              "  u'by',\n",
              "  u'permanent',\n",
              "  u'mid',\n",
              "  u'latitude',\n",
              "  u'Northern',\n",
              "  u'Hemisphere',\n",
              "  u'glaciation',\n",
              "  u'From',\n",
              "  u'this',\n",
              "  u'perspective',\n",
              "  u'the',\n",
              "  u'past',\n",
              "  u'million',\n",
              "  u'years',\n",
              "  u'can',\n",
              "  u'be',\n",
              "  u'viewed',\n",
              "  u'as',\n",
              "  u'a',\n",
              "  u'transient',\n",
              "  u'interval',\n",
              "  u'in',\n",
              "  u'the',\n",
              "  u'evolution',\n",
              "  u'of',\n",
              "  u'Earth',\n",
              "  u's',\n",
              "  u'climate',\n",
              "  u'We',\n",
              "  u'support',\n",
              "  u'our',\n",
              "  u'hypothesis',\n",
              "  u'using',\n",
              "  u'a',\n",
              "  u'coupled',\n",
              "  u'energy',\n",
              "  u'balance',\n",
              "  u'ice',\n",
              "  u'sheet',\n",
              "  u'model',\n",
              "  u'which',\n",
              "  u'furthermore',\n",
              "  u'predicts',\n",
              "  u'that',\n",
              "  u'the',\n",
              "  u'future',\n",
              "  u'transition',\n",
              "  u'would',\n",
              "  u'involve',\n",
              "  u'a',\n",
              "  u'large',\n",
              "  u'expansion',\n",
              "  u'of',\n",
              "  u'the',\n",
              "  u'Eurasian',\n",
              "  u'ice',\n",
              "  u'sheet',\n",
              "  u'The',\n",
              "  u'process',\n",
              "  u'responsible',\n",
              "  u'for',\n",
              "  u'the',\n",
              "  u'abrupt',\n",
              "  u'change',\n",
              "  u'seems',\n",
              "  u'to',\n",
              "  u'be',\n",
              "  u'the',\n",
              "  u'albedo',\n",
              "  u'discontinuity',\n",
              "  u'at',\n",
              "  u'the',\n",
              "  u'snow',\n",
              "  u'ice',\n",
              "  u'edge',\n",
              "  u'The',\n",
              "  u'best',\n",
              "  u'fit',\n",
              "  u'model',\n",
              "  u'run',\n",
              "  u'which',\n",
              "  u'explains',\n",
              "  u'almost',\n",
              "  'TOKEN_NUMBER',\n",
              "  u'of',\n",
              "  u'the',\n",
              "  u'variance',\n",
              "  u'in',\n",
              "  u'global',\n",
              "  u'ice',\n",
              "  u'volume',\n",
              "  u'during',\n",
              "  u'the',\n",
              "  u'past',\n",
              "  'TOKEN_NUMBER',\n",
              "  u'kyr',\n",
              "  u'predicts',\n",
              "  u'a',\n",
              "  u'rapid',\n",
              "  u'transition',\n",
              "  u'in',\n",
              "  u'the',\n",
              "  u'geologically',\n",
              "  u'near',\n",
              "  u'future',\n",
              "  u'to',\n",
              "  u'the',\n",
              "  u'proposed',\n",
              "  u'glacial',\n",
              "  u'state',\n",
              "  u'Should',\n",
              "  u'it',\n",
              "  u'be',\n",
              "  u'attained',\n",
              "  u'this',\n",
              "  u'state',\n",
              "  u'would',\n",
              "  u'be',\n",
              "  u'more',\n",
              "  u'symmetric',\n",
              "  u'than',\n",
              "  u'the',\n",
              "  u'present',\n",
              "  u'climate',\n",
              "  u'with',\n",
              "  u'comparable',\n",
              "  u'areas',\n",
              "  u'of',\n",
              "  u'ice',\n",
              "  u'sea',\n",
              "  u'ice',\n",
              "  u'cover',\n",
              "  u'in',\n",
              "  u'each',\n",
              "  u'hemisphere',\n",
              "  u'and',\n",
              "  u'would',\n",
              "  u'represent',\n",
              "  u'the',\n",
              "  u'culmination',\n",
              "  u'of',\n",
              "  'TOKEN_NUMBER',\n",
              "  u'million',\n",
              "  u'years',\n",
              "  u'of',\n",
              "  u'evolution',\n",
              "  u'from',\n",
              "  u'bipolar',\n",
              "  u'nonglacial',\n",
              "  u'climates',\n",
              "  u'to',\n",
              "  u'bipolar',\n",
              "  u'glacial',\n",
              "  u'climates']]"
            ]
          },
          "metadata": {}
        }
      ],
      "execution_count": 44,
      "metadata": {
        "collapsed": false,
        "outputHidden": false,
        "inputHidden": false
      }
    },
    {
      "cell_type": "code",
      "source": [
        "section_texts[0]"
      ],
      "outputs": [
        {
          "output_type": "execute_result",
          "execution_count": 43,
          "data": {
            "text/plain": [
              "u\"Climate in the early Pleistocene varied with a period of 41 kyr and was related to variations in Earth's obliquity. About 900 kyr ago, variability increased and oscillated primarily at a period of  100 kyr, suggesting that the link was then with the eccentricity of Earth's orbit. This transition has often,,, been attributed to a nonlinear response to small changes in external boundary conditions. Here we propose that increasing variablility within the past million years may indicate that the climate system was approaching a second climate bifurcation point, after which it would transition again to a new stable state characterized by permanent mid-latitude Northern Hemisphere glaciation. From this perspective the past million years can be viewed as a transient interval in the evolution of Earth's climate. We support our hypothesis using a coupled energy-balance/ice-sheet model, which furthermore predicts that the future transition would involve a large expansion of the Eurasian ice sheet. The process responsible for the abrupt change seems to be the albedo discontinuity at the snow ice edge. The best-fit model run, which explains almost 60% of the variance in global ice volume during the past 400 kyr, predicts a rapid transition in the geologically near future to the proposed glacial state. Should it be attained, this state would be more  symmetric  than the present climate, with comparable areas of ice/sea-ice cover in each hemisphere, and would represent the culmination of 50 million years of evolution from bipolar nonglacial climates to bipolar glacial climates.\""
            ]
          },
          "metadata": {}
        }
      ],
      "execution_count": 43,
      "metadata": {
        "collapsed": false,
        "outputHidden": false,
        "inputHidden": false
      }
    },
    {
      "cell_type": "code",
      "source": [],
      "outputs": [],
      "execution_count": null,
      "metadata": {
        "collapsed": false,
        "outputHidden": false,
        "inputHidden": false
      }
    }
  ],
  "metadata": {
    "kernelspec": {
      "name": "python2",
      "language": "python",
      "display_name": "Python 2"
    },
    "kernel_info": {
      "name": "python2"
    },
    "language_info": {
      "mimetype": "text/x-python",
      "nbconvert_exporter": "python",
      "name": "python",
      "pygments_lexer": "ipython2",
      "version": "2.7.14",
      "file_extension": ".py",
      "codemirror_mode": {
        "version": 2,
        "name": "ipython"
      }
    },
    "nteract": {
      "version": "0.7.1"
    }
  },
  "nbformat": 4,
  "nbformat_minor": 4
}