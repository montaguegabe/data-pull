{
  "cells": [
    {
      "cell_type": "code",
      "source": [
        "# Give access to utils\n",
        "import os\n",
        "import sys\n",
        "module_path = os.path.abspath(os.path.join('..'))\n",
        "if module_path not in sys.path:\n",
        "    sys.path.append(module_path)\n",
        "import util"
      ],
      "outputs": [],
      "execution_count": 1,
      "metadata": {
        "collapsed": false,
        "outputHidden": false,
        "inputHidden": false
      }
    },
    {
      "cell_type": "code",
      "source": [
        "# Load an example publication returned\n",
        "fname = 'nature07365.html'\n",
        "with open(fname, 'r') as example_html:\n",
        "    html = example_html.read()"
      ],
      "outputs": [],
      "execution_count": 2,
      "metadata": {
        "collapsed": false,
        "outputHidden": false,
        "inputHidden": false
      }
    },
    {
      "cell_type": "code",
      "source": [
        "# Import into Beautiful Soup\n",
        "from bs4 import BeautifulSoup\n",
        "import re\n",
        "soup = BeautifulSoup(html, 'html.parser')\n",
        "\n",
        "# Find article sections\n",
        "sections = soup.findAll('section', {'aria-labelledby': re.compile(r\".*\")})\n",
        "len(sections)\n",
        "\n",
        "title_el = soup.find('h1', {'data-article-title': re.compile(r\".*\")})\n",
        "title_el"
      ],
      "outputs": [
        {
          "output_type": "execute_result",
          "execution_count": 3,
          "data": {
            "text/plain": [
              "<h1 class=\"tighten-line-height small-space-below\" data-article-title=\"\" itemprop=\"name headline\">Transient nature of late Pleistocene climate variability</h1>"
            ]
          },
          "metadata": {}
        }
      ],
      "execution_count": 3,
      "metadata": {
        "collapsed": false,
        "outputHidden": false,
        "inputHidden": false
      }
    },
    {
      "cell_type": "code",
      "source": [
        "time_el = soup.find('time')\n",
        "time_el"
      ],
      "outputs": [
        {
          "output_type": "execute_result",
          "execution_count": 4,
          "data": {
            "text/plain": [
              "<time datetime=\"2008-03-21\">21 March 2008</time>"
            ]
          },
          "metadata": {}
        }
      ],
      "execution_count": 4,
      "metadata": {
        "collapsed": false,
        "outputHidden": false,
        "inputHidden": false
      }
    },
    {
      "cell_type": "code",
      "source": [
        "# We define a method that turns HTML into text\n",
        "# Source: https://stackoverflow.com/questions/328356/extracting-text-from-html-file-using-python\n",
        "def html2txt(html):\n",
        "    soup = BeautifulSoup(html, 'html.parser')\n",
        "\n",
        "    # Kill all script, style, and link elements\n",
        "    for script in soup(['script', 'style', 'a', 'h2']):\n",
        "        script.extract()    # rip it out\n",
        "        \n",
        "    # Get text\n",
        "    text = soup.get_text()\n",
        "    \n",
        "    return text"
      ],
      "outputs": [],
      "execution_count": 5,
      "metadata": {
        "collapsed": false,
        "outputHidden": false,
        "inputHidden": false
      }
    },
    {
      "cell_type": "code",
      "source": [
        "title = html2txt(str(title_el))\n",
        "time = html2txt(str(time_el))"
      ],
      "outputs": [],
      "execution_count": 6,
      "metadata": {
        "collapsed": false,
        "outputHidden": false,
        "inputHidden": false
      }
    },
    {
      "cell_type": "code",
      "source": [
        "import re\n",
        "\n",
        "# Certain sections contain useless information\n",
        "skip_sections = set([\n",
        "    'acknowledgements',\n",
        "    'references',\n",
        "    'author-information',\n",
        "    'supplementary-information',\n",
        "    'article-comments'\n",
        "])\n",
        "\n",
        "section_texts = []\n",
        "section_titles = []\n",
        "\n",
        "# Turn each section that does have good info into text\n",
        "for section in sections:\n",
        "    \n",
        "    # Skip useless sections\n",
        "    s_title = section['aria-labelledby']\n",
        "    if s_title in skip_sections:\n",
        "        continue\n",
        "    \n",
        "    # Otherwise we turn the section into plain text\n",
        "    text = html2txt(unicode(section))\n",
        "    text = re.sub(r'[^\\x00-\\x7f]',r' ', text) # remove non-unicode\n",
        "    section_texts.append(text)\n",
        "    section_titles.append(s_title)\n",
        "    "
      ],
      "outputs": [],
      "execution_count": 7,
      "metadata": {
        "collapsed": false,
        "outputHidden": false,
        "inputHidden": false
      }
    },
    {
      "cell_type": "code",
      "source": [
        "texts = '\\n'.join(section_texts)\n",
        "#print texts"
      ],
      "outputs": [],
      "execution_count": 8,
      "metadata": {
        "collapsed": false,
        "outputHidden": false,
        "inputHidden": false
      }
    },
    {
      "cell_type": "markdown",
      "source": [
        "Certain forums have recommended number substition - could be worth looking into. Just tokens for negative, 0-1, and positive numbers. \n",
        "\nAdditionally we want to split by everything that is not a letter"
      ],
      "metadata": {}
    },
    {
      "cell_type": "code",
      "source": [
        "def is_number(s):\n",
        "    return s[0].isdigit()\n",
        "\n",
        "# Check if numbers can be identified\n",
        "is_number('18Ocal')"
      ],
      "outputs": [
        {
          "output_type": "execute_result",
          "execution_count": 9,
          "data": {
            "text/plain": [
              "True"
            ]
          },
          "metadata": {}
        }
      ],
      "execution_count": 9,
      "metadata": {
        "collapsed": false,
        "outputHidden": false,
        "inputHidden": false
      }
    },
    {
      "cell_type": "code",
      "source": [
        "import re\n",
        "\n",
        "# Split the string by space first\n",
        "texts_word_lists = []\n",
        "for text in section_texts:\n",
        "    text_list = text.split(' ')\n",
        "    text_list_out = []\n",
        "    for word in text_list:\n",
        "        if not word:\n",
        "            continue\n",
        "        elif is_number(word):\n",
        "            text_list_out.append('TOKEN_NUMBER')\n",
        "        else:\n",
        "            subwords = re.split('[^a-zA-Z]', word)\n",
        "            text_list_out.extend(filter(None, subwords))\n",
        "    texts_word_lists.append(text_list_out)\n",
        "    \n",
        "#texts_word_lists"
      ],
      "outputs": [],
      "execution_count": 10,
      "metadata": {
        "collapsed": false,
        "outputHidden": false,
        "inputHidden": false
      }
    },
    {
      "cell_type": "code",
      "source": [
        "section_texts[1]"
      ],
      "outputs": [
        {
          "output_type": "execute_result",
          "execution_count": 11,
          "data": {
            "text/plain": [
              "u'A recent composite of benthic  18Ocal (that is, calcite) records summarizes the general pattern of climate back to 3.0 Myr ago (). A 500-kyr moving boxcar window (see ref. ) highlights long-term changes in  18Ocal variability (). This window length was chosen to mute glacial interglacial variations and any possible influence of the 413-kyr eccentricity cycle. There is an increase in variability after the Pliocene/Pleistocene boundary ( 1.8 Myr ago), with clear evidence for steps  665 kyr and  885 kyr ago. The trend is similar () to strontium isotope changes that are sometimes interpreted to reflect variations in continental weathering.Figure 1: Evidence for trends in climate variability in the Plio-Pleistocene.a, Plio-Pleistocene composite  18Ocal record from ref. ; more positive values indicate colder climates. ( 18O = (18O/16O)sample/(18O/16O)standard - 1 is a measure of the difference in a sample, with respect to a standard, in the stable isotope ratios of 18O to 16O, usually expressed in parts per thousand.) b, 500-kyr moving-boxcar-windowed standard deviation of the record in a (termed LR in label) compared with the 87Sr/86Sr isotope record from ref. ; the trend in  18Ocal variability is relatively robust to changes in window width. c, Histograms of  18Ocal composite (with mean removed) for the past 900 kyr (see text), divided into two equal subsamples; more negative values are interpreted as having less ice volume. d, Standard deviations of two indices of variability within the five glacial stages of the last 0.5 Myr in densely sampled parts of a subpolar North Atlantic core, showing a general increase in within-stage variations (towards the present) of lithic (ice-rafted) grains and the  18Ocal of cold-water planktonic foraminifer Neogloboquadrina pachyderma sinistral (left-coiling). This general  increase towards the present  is similar to that found in orbital-scale variations (see text).Histograms () of equal-sized, 450-kyr sections of the latest Pleistocene indicate continued evolution and bimodality, with an interglacial mode being more common in the earlier section. Despite the presence of more extreme interglacial states in the later section (), its mean  18Ocal value is isotopically heavier (about 0.1 , equivalent to  10 m in sea-level change), and the glacial mode is more common. Two of the four most extreme  18Ocal maxima occurred during the last two glacial periods (). The above changes, plus a smaller step  1.12 Myr ago, correspond to Pleistocene  megacycle  boundaries identified in major European glacial advances and European and Chinese loess sequences.Trends in variability may also apply on millennial scales. A core from the subpolar North Atlantic () suggests generally enhanced variability from glacial stage 12 ( 430 kyr ago) to stages 2 4 of the last glacial cycle. However, this interpretation requires further testing.Because prior energy-balance modelling (EBM) work (see  of ref. ) suggests that enhanced variability may indicate a system near a climate bifurcation point, one interpretation of the observed Pleistocene trend is that the system was poised to flip to a different climate state. We test this hypothesis by employing, without significant modification, a published version of an energy-balance/ice-sheet model. The coupled model consists of four submodels that predict ice flow, mass balance, temperature and bedrock sinking. Ice is assumed to flow subject to a temperature-independent rheology. Ice sheets are driven by a uniform precipitation of 0.6 m yr-1 that decreases with height and temperature. This value is characteristic of current Northern Hemisphere mid-latitude land areas. Precipitation is computed according to statistical models, which themselves take as input monthly temperatures from a nonlinear, two-dimensional (latitude longitude grid), diffusive seasonal EBM. Bedrock sinking is assumed to occur with a time constant of 4 kyr. The ice-sheet model has a resolution of 0.5    0.5 . The time step for the EBM is 40 yr, whereas for the ice-sheet model it is never more than 20 yr and, during times of rapid change, is as small as 2.5 yr. The coupled model has been previously applied to topics ranging from millennial variability to Neoproterozoic glaciation,.Figure 4: Principal results of the ramp model runs.a, Plio-Pleistocene CO2 scenarios for runs (see text); b, plots of Northern Hemisphere ice volume as a function of CO2 for the different ramp scenarios. Labels refer to CO2 values (p.p.m.) used for each run. In each label, the first value is the starting point, 3.0 Myr ago, and the second value is the end point, 0.0 Myr ago (except for run 19, in which the ramp stopped 1.0 Myr ago and constant CO2 levels were used for the remaining 1.0 Myr). Where there is a third value, it refers to the future projection using the trend line for the corresponding run. In run 23, the best-fit run (run 17) was modified with a stochastic forcing of  0.4 W m-2 to mimic decadal-scale oscillations. We note that, regardless of forcing scenario, runs generally transition to the large Eurasian ice sheet at a background CO2 level of  240 p.p.m. c, Details of the best-fit run (see ) with respect to total ice volume and contribution from each ice sheet (see ).The coupled model is forced with orbital insolation variations as derived in ref. . To isolate as much as possible the inherent response of the ice sheet, we do not consider glacial interglacial changes in CO2 or North Atlantic heat sources.Plotting operating curves () is a standard method of depicting model behaviour, with solar constant changes used as a proxy for other changes in boundary conditions. As radiative forcing decreases, there is an approximately linear increase in ice volume until the model reaches a critical point. Over an interval of 1.4 W m-2 (less than the ice age change in radiative forcing from CO2), variability increases substantially. The solution then stabilizes on a second branch, after which ice volume again changes nearly linearly with forcing. Simulated ice sheets () indicate that the North American and Eurasian ice sheets are broadly similar in location to, but only about half the volume of, those observed for the last glacial maximum. Glacial interglacial CO2 variations are a plausible explanation for the principal difference, with the lack of a variable North Atlantic heat source perhaps contributing additionally to Eurasian ice-volume changes.Figure 2: Operating curves for climate/ice-sheet model as a function of the solar constant (abscissa).The standard value of the solar constant for the present is 1.0 (average for Earth,  340 W m-2). These units can be translated into equivalent CO2 changes: a 1.5% change in the solar constant is approximately equivalent to a doubling of CO2 ( 3.7 W m-2), after factoring in the 30% albedo of the Earth. a, Ice-volume changes for North America and Eurasia; (b) North American ice volume versus standard deviation for the 150 200-kyr interval of each of 36 model runs. Note that variability increases sharply near the bifurcation.Figure 3: Simulated ice extent for different stages of North American and Eurasian ice-sheet growth.a, Small North American ice sheet; b, large North American ice sheet; c, small Eurasian ice sheet; d, large Eurasian ice sheet that is the postulated second stable state for Northern Hemisphere glaciation.As suggested by theory, variability reaches a maximum in the transition zone () and is virtually the same for the two stable states, despite their having very different ice-volume levels. In the middle of the rapid growth phase of the North American ice sheet, a very large Eurasian ice sheet () develops from a perturbation of only 0.07 W m-2 (three times smaller than the radiative forcing from the 11-yr solar cycle). This ice sheet () is more than twice the volume of the modelled North American ice sheet. Because our ice-sheet model does not allow for multi-doming, we probably overestimate its volume by  20%. Nevertheless, the general success of model simulations for the Pleistocene suggests that the prediction of a very large Eurasian ice sheet is not implausible; such a response has already been found in another model.To determine whether patterns in the operating curves are within the range of inferred Plio-Pleistocene changes, we simulate the last 3.0 Myr using only orbital forcing plus long-term CO2 changes. Although the strontium isotope curve () suggests a sigmoidal variation in weathering (and perhaps CO2) since 3.0 Myr ago, for the sake of simplicity we mainly use linear ramp forcing (; in one run, CO2 stabilized at 240 p.p.m. 1.0 Myr ago). The initial Pliocene CO2 level is constrained by leaf stomata data at about 360 p.p.m., and the level at 0 Myr is set at the mean CO2 level of the last 20 kyr ( 240 p.p.m.). Because the original CO2 reference level of the coupled ice-sheet model was 360 p.p.m., we adjust the outgoing radiative forcing term in the energy balance model to account for the anthropogenic effect. As the model may have some biases, relative changes in radiative forcing are probably a more reliable indicator of model behaviour than the absolute value of CO2 at any particular time.There are a number of interesting features of the model response to one small ( 1.0 2.0 W m-2), linear change in boundary conditions (). All runs extended beyond the present day () transition to the postulated second equilibrium climate state within a strikingly narrow mean CO2 value of about 240   5 p.p.m. The run with the smallest change (295 240 p.p.m.) has the highest correlation (r = 0.70) with the Plio-Pleistocene composite of ref.  (see ). Separation of the Northern Hemisphere trend into individual ice-sheet responses () indicates that, as in the operating curves, the North American ice sheet first crossed the bifurcation threshold  1.14 Myr ago, during a low-eccentricity interval. This coincides almost exactly with the beginning of one of the small steps (see above) in the variability curve (). These responses are consistent with one explanation for glacial inception: because North America is smaller than Eurasia, it will not warm up in the summer as much as Eurasia and, therefore, will respond earlier than Eurasia at a glaciation threshold.In the last 0.6 0.7 Myr () of the best-fit run, lower frequency oscillations occur with  100-kyr periods (as in observations). Although low-frequency oscillations are present in other runs, the flatter CO2 ramp for the 295 240-p.p.m. run allows more time for  100-kyr variability before transitioning to the large Eurasian ice sheet. Deglaciations are similar to  terminations  in the marine  18Ocal record. In our model, rapid melting can be attributed to continued southward flow of the ice sheet into the isostatic depression it created. An initial attempt to superimpose observed CO2 changes during the last 650 kyr triggered the Eurasian ice-sheet instability, most probably because of the model constraints addressed above.Figure 5: Further analyses of best-fit run.a, Comparison with best-guess seawater ( 18Osw) reconstruction of ref. , and projection into the future. b, Multi-taper-method frequency-domain comparison of the best-fit model with the results of ref.  and the  18Ocal records, and two earlier intervals of the best-fit model run. The ice-volume record for the best-fit run was converted to  18Osw by setting the last interglacial best-guess value to -0.04  and matching the model to the preceding maximum in  18Osw (see ). The mean value of the  18Osw record of ref.  was also adjusted to set the last interglacial value to -0.04 . All analyses were done for identical intervals of 410 kyr. Solid lines indicate a run was significant at the 95% level for 100-kyr-ago power (higher frequency intervals at 23 kyr and 41 kyr were always significant).There is agreement in both the time (r = 0.77) and the frequency domains () of the scaled best-fit run with the  18Osw best-guess seawater reconstruction of global ice volume, with both records having substantially less  100-kyr-ago power than the  18Ocal record (). This difference reflects the deep-water temperature overprint on observed  18Osw. Model variability in the last 410 kyr is about 25% greater than in the preceding segment () and is primarily manifested in the  23-kyr precession and 41-kyr obliquity bands (). Model  100-kyr-ago power is greater than a  background  level from earlier in the record and is most strongly present in the North American ice sheet (), first emerging in the 820 410-kyr segment and then increasing in the Eurasian ice sheet over the last 410-kyr segment. Again, it is necessary to recall that some frequency-domain differences between model and observations may be partly due to lack of glacial interglacial CO2 fluctuations in our runs, plus no attempt to simulate variable North Atlantic heat sources. Regardless, our results clearly indicate that  100-kyr-ago power is embedded in the physics of the coupled climate/ice-sheet system and is not just a consequence of, for example, glacial interglacial CO2 variations.For the best-fit run, transition to the large Eurasian ice sheet occurs shortly after the present (). Our results therefore suggest that the actual climate system may have been geologically close (104 105 yr) to the final phase of a 50-Myr evolution from bipolar warm climates to permanent bipolar glaciation. (Presumably, future society could prevent this transition indefinitely with very modest adjustments to the atmospheric CO2 level.)Because our model has no ocean dynamics, rapid change requires a different explanation than the oft-discussed thermohaline instability. In our simulations, the instability resembles the well-known albedo discontinuity at the snow ice boundary. To persist, an ice cap must be stable against warming. This stability is conferred by the balance between the energy sink provided by the ice cap and the energy source (transport) onto the ice cap from warmer regions. The energy sink is a function of the ice cap s higher albedo (ameliorated by reduced infrared output from the higher, colder surface) and the size of the ice cap.For radiative adjustment and transport values typical of the Earth, it has been analytically determined that at a bifurcation point snow cover expands on a scale of  1500 2000 km. This length scale can be found in mid/high-latitude instrumental records, some modelling studies,, and the latitudinal shift associated with the large Eurasian ice sheet (see ). Our model also displays hysteresis behaviour characteristic of such systems.In addition to the tests outlined in this paper, more complex ice-sheet models could be used. Even though these models are more  realistic , we are not convinced that they would show a fundamentally different result. There is already a huge difference in complexity between the original EBM and the model we use, yet to first order the bifurcation diagrams are the same. We hypothesize that the future behaviour of more complicated coupled models will be influenced as much by the albedo discontinuity as by any added features of ice-sheet complexity.Observational tests involve the  200 kyr before 400 kyr ago (). If our agreement with the  18Osw record is not a coincidence, then we predict that sea level/ice volume differences from present during the precession peaks  480 and 500 kyr ago would be significantly less (on the order of 0   10 m) than the  20 25-m sea level drop suggested by the  18Ocal record (). Because the  18O of atmospheric oxygen ( 18Oatm) is a good approximation to the  18Osw estimate (r = 0.92), publication of the extended Dome C (Antarctica)  18Oatm record will be one test of our hypothesis.Older geological intervals can also be used to test whether the entire transition to an alternative stable state may have occurred before. The advance of the Antarctic ice sheet to the edge of the continent near the Eocene/Oligocene boundary ( 33.6 Myr ago) represents one possible case. A composite benthic  18Ocal reconstruction indicates that  18Ocal standard deviations of the  400-kyr time intervals before and after the transition are nearly  0.14 , whereas during the transition (see ) the standard deviation is 80% higher (20% detrended). This response is consistent with our interpretation of multiple stable states. There were also numerous late Cenozoic oscillations of a wet-based East Antarctic ice sheet before it transitioned to a cold-based glacier  14 Myr ago, following which at least parts of it have apparently remained stable.Finally, our hypothesis may be relevant to interpretation of millennial-scale variability in the late Pleistocene. The tentative link in  between orbital- and millennial-scale variability suggests that the many studies and interpretations of the latter may be missing a fundamental perspective, unless they are interpreted within the framework of the overall higher and (we suggest) transient variability on longer timescales.'"
            ]
          },
          "metadata": {}
        }
      ],
      "execution_count": 11,
      "metadata": {
        "collapsed": false,
        "outputHidden": false,
        "inputHidden": false
      }
    },
    {
      "cell_type": "code",
      "source": [
        "# The last step is to ingest each section text\n",
        "# We want to include: section title, section text, article title\n",
        "import json\n",
        "import dateutil.parser\n",
        "\n",
        "date = dateutil.parser.parse(time)\n",
        "\n",
        "result = {}\n",
        "result['article_title'] = title\n",
        "result['article_date'] = date\n",
        "result['section_title'] = section_titles[0]\n",
        "result['text'] = section_texts[0]\n",
        "\nresult"
      ],
      "outputs": [
        {
          "output_type": "execute_result",
          "execution_count": 15,
          "data": {
            "text/plain": [
              "{'article_date': datetime.datetime(2008, 3, 21, 0, 0),\n",
              " 'article_title': u'Transient nature of late Pleistocene climate variability',\n",
              " 'section_title': u'abstract',\n",
              " 'text': u\"Climate in the early Pleistocene varied with a period of 41 kyr and was related to variations in Earth's obliquity. About 900 kyr ago, variability increased and oscillated primarily at a period of  100 kyr, suggesting that the link was then with the eccentricity of Earth's orbit. This transition has often,,, been attributed to a nonlinear response to small changes in external boundary conditions. Here we propose that increasing variablility within the past million years may indicate that the climate system was approaching a second climate bifurcation point, after which it would transition again to a new stable state characterized by permanent mid-latitude Northern Hemisphere glaciation. From this perspective the past million years can be viewed as a transient interval in the evolution of Earth's climate. We support our hypothesis using a coupled energy-balance/ice-sheet model, which furthermore predicts that the future transition would involve a large expansion of the Eurasian ice sheet. The process responsible for the abrupt change seems to be the albedo discontinuity at the snow ice edge. The best-fit model run, which explains almost 60% of the variance in global ice volume during the past 400 kyr, predicts a rapid transition in the geologically near future to the proposed glacial state. Should it be attained, this state would be more  symmetric  than the present climate, with comparable areas of ice/sea-ice cover in each hemisphere, and would represent the culmination of 50 million years of evolution from bipolar nonglacial climates to bipolar glacial climates.\"}"
            ]
          },
          "metadata": {}
        }
      ],
      "execution_count": 15,
      "metadata": {
        "collapsed": false,
        "outputHidden": false,
        "inputHidden": false
      }
    },
    {
      "cell_type": "code",
      "source": [
        "# We have a good bit of data. But we still need an index and mapping\n",
        "from datetime import datetime\n",
        "from elasticsearch import Elasticsearch\n",
        "from elasticsearch import Elasticsearch, RequestsHttpConnection\n",
        "\n",
        "host = 'search-earth-data-joihn22ik6zepetuzpa4hdvik4.us-east-1.es.amazonaws.com'\n",
        "\n",
        "es = Elasticsearch(\n",
        "    hosts=[{'host': host, 'port': 443}],\n",
        "    use_ssl=True,\n",
        "    verify_certs=True,\n",
        "    connection_class=RequestsHttpConnection\n",
        ")"
      ],
      "outputs": [],
      "execution_count": 16,
      "metadata": {
        "collapsed": false,
        "outputHidden": false,
        "inputHidden": false
      }
    },
    {
      "cell_type": "code",
      "source": [
        "es.info()"
      ],
      "outputs": [
        {
          "output_type": "execute_result",
          "execution_count": 17,
          "data": {
            "text/plain": [
              "{u'cluster_name': u'632795836081:earth-data',\n",
              " u'cluster_uuid': u'MEcY8X53QLKrkYhp4RgFnA',\n",
              " u'name': u'dTPFcJ8',\n",
              " u'tagline': u'You Know, for Search',\n",
              " u'version': {u'build_date': u'2017-12-07T01:43:54.348Z',\n",
              "  u'build_hash': u'd951bbf',\n",
              "  u'build_snapshot': False,\n",
              "  u'lucene_version': u'7.0.1',\n",
              "  u'minimum_index_compatibility_version': u'5.0.0',\n",
              "  u'minimum_wire_compatibility_version': u'5.6.0',\n",
              "  u'number': u'6.0.1'}}"
            ]
          },
          "metadata": {}
        }
      ],
      "execution_count": 17,
      "metadata": {
        "collapsed": false,
        "outputHidden": false,
        "inputHidden": false
      }
    },
    {
      "cell_type": "code",
      "source": [
        "res = es.index(index='nature', doc_type='section', id=1, body=result)"
      ],
      "outputs": [],
      "execution_count": 19,
      "metadata": {
        "collapsed": false,
        "outputHidden": false,
        "inputHidden": false
      }
    },
    {
      "cell_type": "code",
      "source": [
        "res"
      ],
      "outputs": [
        {
          "output_type": "execute_result",
          "execution_count": 20,
          "data": {
            "text/plain": [
              "{u'_id': u'1',\n",
              " u'_index': u'nature',\n",
              " u'_primary_term': 1,\n",
              " u'_seq_no': 2,\n",
              " u'_shards': {u'failed': 0, u'successful': 1, u'total': 2},\n",
              " u'_type': u'section',\n",
              " u'_version': 3,\n",
              " u'result': u'updated'}"
            ]
          },
          "metadata": {}
        }
      ],
      "execution_count": 20,
      "metadata": {
        "collapsed": false,
        "outputHidden": false,
        "inputHidden": false
      }
    },
    {
      "cell_type": "code",
      "source": [
        "# However we still want the mapping type of the section to be English\n",
        "mapping = es.indices.get_mapping(index='nature', doc_type='section')\n",
        "\n",
        "import json\n",
        "mapping_str = json.dumps(mapping)\n",
        "print mapping_str"
      ],
      "outputs": [
        {
          "output_type": "stream",
          "name": "stdout",
          "text": [
            "{\"nature\": {\"mappings\": {\"section\": {\"properties\": {\"article_title\": {\"fields\": {\"keyword\": {\"ignore_above\": 256, \"type\": \"keyword\"}}, \"type\": \"text\"}, \"text\": {\"fields\": {\"keyword\": {\"ignore_above\": 256, \"type\": \"keyword\"}}, \"type\": \"text\"}, \"article_date\": {\"type\": \"date\"}, \"section_title\": {\"fields\": {\"keyword\": {\"ignore_above\": 256, \"type\": \"keyword\"}}, \"type\": \"text\"}}}}}}\n"
          ]
        }
      ],
      "execution_count": 48,
      "metadata": {
        "collapsed": false,
        "outputHidden": false,
        "inputHidden": false
      }
    },
    {
      "cell_type": "code",
      "source": [
        "# Now let's tweak the mapping so that document bodies are analyzed as English\n",
        "mapping_body = mapping['nature']['mappings']['section']\n",
        "mapping_body['properties']['text'] = {\n",
        "    u'type': u'text',\n",
        "    u'analyzer': u'english'\n",
        "}\n",
        "mapping_body\n"
      ],
      "outputs": [
        {
          "output_type": "execute_result",
          "execution_count": 49,
          "data": {
            "text/plain": [
              "{u'properties': {u'article_date': {u'type': u'date'},\n",
              "  u'article_title': {u'fields': {u'keyword': {u'ignore_above': 256,\n",
              "     u'type': u'keyword'}},\n",
              "   u'type': u'text'},\n",
              "  u'section_title': {u'fields': {u'keyword': {u'ignore_above': 256,\n",
              "     u'type': u'keyword'}},\n",
              "   u'type': u'text'},\n",
              "  u'text': {u'analyzer': u'english', u'type': u'text'}}}"
            ]
          },
          "metadata": {}
        }
      ],
      "execution_count": 49,
      "metadata": {
        "collapsed": false,
        "outputHidden": false,
        "inputHidden": false
      }
    },
    {
      "cell_type": "code",
      "source": [
        "resp = es.indices.create(index='nature-english')\n",
        "resp"
      ],
      "outputs": [
        {
          "output_type": "execute_result",
          "execution_count": 50,
          "data": {
            "text/plain": [
              "{u'acknowledged': True,\n",
              " u'index': u'nature-english',\n",
              " u'shards_acknowledged': True}"
            ]
          },
          "metadata": {}
        }
      ],
      "execution_count": 50,
      "metadata": {
        "collapsed": false,
        "outputHidden": false,
        "inputHidden": false
      }
    },
    {
      "cell_type": "code",
      "source": [
        "es.indices.put_mapping(index='nature-english', doc_type='section', body=mapping_body)"
      ],
      "outputs": [
        {
          "output_type": "execute_result",
          "execution_count": 52,
          "data": {
            "text/plain": [
              "{u'acknowledged': True}"
            ]
          },
          "metadata": {}
        }
      ],
      "execution_count": 52,
      "metadata": {
        "collapsed": false,
        "outputHidden": false,
        "inputHidden": false
      }
    },
    {
      "cell_type": "code",
      "source": [
        "# Make sure we still have result\n",
        "result"
      ],
      "outputs": [
        {
          "output_type": "execute_result",
          "execution_count": 53,
          "data": {
            "text/plain": [
              "{'article_date': datetime.datetime(2008, 3, 21, 0, 0),\n",
              " 'article_title': u'Transient nature of late Pleistocene climate variability',\n",
              " 'section_title': u'abstract',\n",
              " 'text': u\"Climate in the early Pleistocene varied with a period of 41 kyr and was related to variations in Earth's obliquity. About 900 kyr ago, variability increased and oscillated primarily at a period of  100 kyr, suggesting that the link was then with the eccentricity of Earth's orbit. This transition has often,,, been attributed to a nonlinear response to small changes in external boundary conditions. Here we propose that increasing variablility within the past million years may indicate that the climate system was approaching a second climate bifurcation point, after which it would transition again to a new stable state characterized by permanent mid-latitude Northern Hemisphere glaciation. From this perspective the past million years can be viewed as a transient interval in the evolution of Earth's climate. We support our hypothesis using a coupled energy-balance/ice-sheet model, which furthermore predicts that the future transition would involve a large expansion of the Eurasian ice sheet. The process responsible for the abrupt change seems to be the albedo discontinuity at the snow ice edge. The best-fit model run, which explains almost 60% of the variance in global ice volume during the past 400 kyr, predicts a rapid transition in the geologically near future to the proposed glacial state. Should it be attained, this state would be more  symmetric  than the present climate, with comparable areas of ice/sea-ice cover in each hemisphere, and would represent the culmination of 50 million years of evolution from bipolar nonglacial climates to bipolar glacial climates.\"}"
            ]
          },
          "metadata": {}
        }
      ],
      "execution_count": 53,
      "metadata": {
        "collapsed": false,
        "outputHidden": false,
        "inputHidden": false
      }
    },
    {
      "cell_type": "code",
      "source": [
        "#resp = es.index(index='nature-english', doc_type='section', id=1, body=result)\n",
        "#resp\n",
        "import copy\n",
        "\n",
        "doc = copy.deepcopy(result)\n",
        "#doc['_type'] = 'section'\n",
        "docs = [doc]\n",
        "\n",
        "from elasticsearch.helpers import bulk\n",
        "resp = bulk(es, docs, stats_only=True, index='nature-english', doc_type='section')\n"
      ],
      "outputs": [],
      "execution_count": 70,
      "metadata": {
        "collapsed": false,
        "outputHidden": false,
        "inputHidden": false
      }
    },
    {
      "cell_type": "code",
      "source": [
        "resp"
      ],
      "outputs": [
        {
          "output_type": "execute_result",
          "execution_count": 71,
          "data": {
            "text/plain": [
              "(1, 0)"
            ]
          },
          "metadata": {}
        }
      ],
      "execution_count": 71,
      "metadata": {
        "collapsed": false,
        "outputHidden": false,
        "inputHidden": false
      }
    },
    {
      "cell_type": "code",
      "source": [
        "# The final piece is in the script: ingest all docs in data-html\n",
        "# let's examine the output\n",
        "\n",
        "import cPickle as pickle\n",
        "REVISION_NUM = 1\n",
        "doc_list = pickle.load(open('doc%d.p' % REVISION_NUM, 'rb'))"
      ],
      "outputs": [],
      "execution_count": 56,
      "metadata": {
        "collapsed": false,
        "outputHidden": false,
        "inputHidden": false
      }
    },
    {
      "cell_type": "code",
      "source": [
        "len(doc_list)"
      ],
      "outputs": [
        {
          "output_type": "execute_result",
          "execution_count": 57,
          "data": {
            "text/plain": [
              "187"
            ]
          },
          "metadata": {}
        }
      ],
      "execution_count": 57,
      "metadata": {
        "collapsed": false,
        "outputHidden": false,
        "inputHidden": false
      }
    },
    {
      "cell_type": "code",
      "source": [],
      "outputs": [],
      "execution_count": null,
      "metadata": {
        "collapsed": false,
        "outputHidden": false,
        "inputHidden": false
      }
    }
  ],
  "metadata": {
    "kernelspec": {
      "name": "python2",
      "language": "python",
      "display_name": "Python 2"
    },
    "kernel_info": {
      "name": "python2"
    },
    "language_info": {
      "mimetype": "text/x-python",
      "nbconvert_exporter": "python",
      "name": "python",
      "pygments_lexer": "ipython2",
      "version": "2.7.14",
      "file_extension": ".py",
      "codemirror_mode": {
        "version": 2,
        "name": "ipython"
      }
    },
    "nteract": {
      "version": "0.7.1"
    }
  },
  "nbformat": 4,
  "nbformat_minor": 4
}