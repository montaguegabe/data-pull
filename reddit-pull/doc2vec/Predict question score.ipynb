{
 "cells": [
  {
   "cell_type": "code",
   "execution_count": 1,
   "metadata": {},
   "outputs": [
    {
     "name": "stderr",
     "output_type": "stream",
     "text": [
      "c:\\program files\\python36\\lib\\site-packages\\gensim\\utils.py:1197: UserWarning: detected Windows; aliasing chunkize to chunkize_serial\n",
      "  warnings.warn(\"detected Windows; aliasing chunkize to chunkize_serial\")\n"
     ]
    }
   ],
   "source": [
    "from gensim.models.doc2vec import Doc2Vec"
   ]
  },
  {
   "cell_type": "code",
   "execution_count": 54,
   "metadata": {},
   "outputs": [],
   "source": [
    "# Format data for input into Doc2Vec\n",
    "import nltk\n",
    "import csv\n",
    "from collections import namedtuple\n",
    "from numpy.random import choice\n",
    "\n",
    "ScoreDocument = namedtuple('ScoreDocument', 'words tags split score')\n",
    "elements = ['train', 'test', 'validate'] \n",
    "weights = [0.7, 0.2, 0.1]\n",
    "\n",
    "titles = []\n",
    "with open('all_submissions.csv','r', encoding='utf-8') as infile:\n",
    "    reader = csv.DictReader(infile)\n",
    "    counter = 0\n",
    "    for row in reader:\n",
    "        title = row['title'].lower()\n",
    "        if '[removed]' in title or '[deleted]' in title: continue\n",
    "        selftext = row['selftext'].lower()\n",
    "        if '[removed]' in selftext or '[deleted]' in selftext: continue\n",
    "        words = nltk.word_tokenize(title + \" \" + selftext)\n",
    "        score = int(row['ups']) - int(row['downs'])\n",
    "        titles.append(ScoreDocument(words, tags=[counter], split=choice(elements, p=weights), score=score))\n",
    "        counter += 1"
   ]
  },
  {
   "cell_type": "code",
   "execution_count": 55,
   "metadata": {},
   "outputs": [
    {
     "name": "stdout",
     "output_type": "stream",
     "text": [
      "404513\n",
      "115928\n",
      "57287\n"
     ]
    }
   ],
   "source": [
    "train_docs = [doc for doc in titles if doc.split == 'train']\n",
    "test_docs = [doc for doc in titles if doc.split == 'test']\n",
    "val_docs = [doc for doc in titles if doc.split == 'validate']\n",
    "\n",
    "print(len(train_docs))\n",
    "print(len(test_docs))\n",
    "print(len(val_docs))\n",
    "# Access document vectors with test_model.docvecs[doc.tags[0]]"
   ]
  },
  {
   "cell_type": "code",
   "execution_count": 56,
   "metadata": {},
   "outputs": [
    {
     "name": "stderr",
     "output_type": "stream",
     "text": [
      "c:\\program files\\python36\\lib\\site-packages\\gensim\\models\\doc2vec.py:366: UserWarning: The parameter `size` is deprecated, will be removed in 4.0.0, use `vector_size` instead.\n",
      "  warnings.warn(\"The parameter `size` is deprecated, will be removed in 4.0.0, use `vector_size` instead.\")\n"
     ]
    }
   ],
   "source": [
    "import multiprocessing\n",
    "cores = multiprocessing.cpu_count()\n",
    "model = Doc2Vec(titles, size=100, workers=cores, window=8, min_count=5)\n",
    "model.save('queries.doc2vec')"
   ]
  },
  {
   "cell_type": "code",
   "execution_count": 69,
   "metadata": {
    "scrolled": true
   },
   "outputs": [
    {
     "name": "stdout",
     "output_type": "stream",
     "text": [
      "Error rate: 0.26482816920847424\n",
      "False positives: 5062\n",
      "False negatives: 25639\n"
     ]
    }
   ],
   "source": [
    "import numpy as np\n",
    "import statsmodels.api as sm\n",
    "from random import sample\n",
    "\n",
    "threshold = 1 #Can set this parameter to make more/fewer passes to the test. 0 is 89%, 1 is 0.28\n",
    "\n",
    "def logistic_predictor_from_data(train_targets, train_regressors):\n",
    "    logit = sm.Logit(train_targets, train_regressors)\n",
    "    predictor = logit.fit(disp=0)\n",
    "    # print(predictor.summary())\n",
    "    return predictor\n",
    "\n",
    "def error_rate_for_model(test_model, train_set, test_set, infer=False, infer_steps=3, infer_alpha=0.1, infer_subsample=0.1):\n",
    "    \"\"\"Report error rate on test_doc sentiments, using supplied model and train_docs\"\"\"\n",
    "\n",
    "    train_targets, train_regressors = zip(*[(1 if (doc.score > threshold) else 0, test_model.docvecs[doc.tags[0]]) for doc in train_set])\n",
    "    train_regressors = sm.add_constant(train_regressors)\n",
    "    predictor = logistic_predictor_from_data(train_targets, train_regressors)\n",
    "\n",
    "    test_data = test_set\n",
    "    test_regressors = [test_model.docvecs[doc.tags[0]] for doc in test_docs]\n",
    "    test_regressors = sm.add_constant(test_regressors)\n",
    "    \n",
    "    # Predict & evaluate\n",
    "    test_predictions = predictor.predict(test_regressors)\n",
    "    rounded_predictions = np.rint(test_predictions)\n",
    "    correct_set = rounded_predictions == [1 if (doc.score > threshold) else 0 for doc in test_data]\n",
    "    false_pos = 0\n",
    "    false_neg = 0\n",
    "    for i in range(len(correct_set)):\n",
    "        if rounded_predictions[i] == 1 and correct_set[i] == 0: false_pos += 1\n",
    "        if rounded_predictions[i] == 0 and correct_set[i] == 0: false_neg += 1\n",
    "    corrects = sum(correct_set)\n",
    "    errors = len(test_predictions) - corrects\n",
    "    error_rate = float(errors) / len(test_predictions)\n",
    "    return (error_rate, errors, len(test_predictions), false_pos, false_neg)\n",
    "\n",
    "err, err_count, test_count, false_pos, false_neg = error_rate_for_model(model, train_docs, test_docs)\n",
    "print(\"Error rate: \" + str(err))\n",
    "print(\"False positives: \" + str(false_pos))\n",
    "print(\"False negatives: \" + str(false_neg))"
   ]
  },
  {
   "cell_type": "code",
   "execution_count": 70,
   "metadata": {},
   "outputs": [
    {
     "name": "stdout",
     "output_type": "stream",
     "text": [
      "32751\n"
     ]
    }
   ],
   "source": [
    "print(sum([1 if (doc.score > 1) else 0 for doc in test_docs]))"
   ]
  },
  {
   "cell_type": "code",
   "execution_count": 74,
   "metadata": {},
   "outputs": [
    {
     "name": "stdout",
     "output_type": "stream",
     "text": [
      "TARGET (105824): «when i put on my friends glasses , is what i see equivalent to what they see without their glasses ? i think everyone has wondered this at some point havent they ? is what i see while wearing my friends glasses equal in distortion as what they see without their glasses on . or if they are nearsighted , when i wear their glasses does my vision become as nearsighted as they are naturally ?»\n",
      "\n",
      "SIMILAR/DISSIMILAR DOCS PER MODEL Doc2Vec(dm/m,d100,n5,w8,mc5,s0.001,t4):\n",
      "\n",
      "MOST (304794, 0.8584342002868652): «if there were a group of healthy infant children on an island with a vocally mute caregiver to raise them , what would their vocalizations and communications be like ?»\n",
      "\n",
      "MEDIAN (204492, 0.5854758620262146): «how do hormonal birth control pills change the behavior of women who use them ? do the altered amounts of estrogen and progesterone that occur while women use the pill produce a difference in behavior ? do birth control pills subdue certain behavioral patterns ? are there relevant studies on this topic ?»\n",
      "\n",
      "LEAST (511759, -0.6921087503433228): «why do we head bang to music ?»\n",
      "\n"
     ]
    }
   ],
   "source": [
    "import random\n",
    "\n",
    "doc_id = np.random.randint(model.docvecs.count)  # pick random doc, re-run cell for more examples\n",
    "sims = model.docvecs.most_similar(doc_id, topn=model.docvecs.count)  # get *all* similar documents\n",
    "print(u'TARGET (%d): «%s»\\n' % (doc_id, ' '.join(titles[doc_id].words)))\n",
    "print(u'SIMILAR/DISSIMILAR DOCS PER MODEL %s:\\n' % model)\n",
    "for label, index in [('MOST', 0), ('MEDIAN', len(sims)//2), ('LEAST', len(sims) - 1)]:\n",
    "    print(u'%s %s: «%s»\\n' % (label, sims[index], ' '.join(titles[sims[index][0]].words)))"
   ]
  },
  {
   "cell_type": "code",
   "execution_count": null,
   "metadata": {},
   "outputs": [],
   "source": []
  }
 ],
 "metadata": {
  "kernelspec": {
   "display_name": "Python 3",
   "language": "python",
   "name": "python3"
  },
  "language_info": {
   "codemirror_mode": {
    "name": "ipython",
    "version": 3
   },
   "file_extension": ".py",
   "mimetype": "text/x-python",
   "name": "python",
   "nbconvert_exporter": "python",
   "pygments_lexer": "ipython3",
   "version": "3.6.4"
  }
 },
 "nbformat": 4,
 "nbformat_minor": 2
}
