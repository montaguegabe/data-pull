{
 "cells": [
  {
   "cell_type": "code",
   "execution_count": 1,
   "metadata": {},
   "outputs": [
    {
     "name": "stderr",
     "output_type": "stream",
     "text": [
      "c:\\program files\\python36\\lib\\site-packages\\gensim\\utils.py:1197: UserWarning: detected Windows; aliasing chunkize to chunkize_serial\n",
      "  warnings.warn(\"detected Windows; aliasing chunkize to chunkize_serial\")\n"
     ]
    }
   ],
   "source": [
    "from gensim.models.doc2vec import Doc2Vec"
   ]
  },
  {
   "cell_type": "code",
   "execution_count": 12,
   "metadata": {},
   "outputs": [],
   "source": [
    "# Format data for input into Doc2Vec\n",
    "import nltk\n",
    "import csv\n",
    "from collections import namedtuple\n",
    "from numpy.random import choice\n",
    "\n",
    "ScoreDocument = namedtuple('ScoreDocument', 'words tags split score')\n",
    "elements = ['train', 'test', 'validate'] \n",
    "weights = [0.7, 0.2, 0.1]\n",
    "\n",
    "titles = []\n",
    "with open('all_comments.csv','r', encoding='utf-8') as infile:\n",
    "    reader = csv.DictReader(infile)\n",
    "    counter = 0\n",
    "    for row in reader:\n",
    "        title = row['title'].lower()\n",
    "        selftext = row['selftext'].lower()\n",
    "        words = nltk.word_tokenize(title + \" \" + selftext)\n",
    "        score = int(row['ups']) - int(row['downs'])\n",
    "        titles.append(ScoreDocument(words, tags=[counter], split=choice(elements, p=weights), score=score))\n",
    "        counter += 1"
   ]
  },
  {
   "cell_type": "code",
   "execution_count": 13,
   "metadata": {},
   "outputs": [
    {
     "name": "stdout",
     "output_type": "stream",
     "text": [
      "596868\n",
      "169904\n",
      "85672\n"
     ]
    }
   ],
   "source": [
    "train_docs = [doc for doc in titles if doc.split == 'train']\n",
    "test_docs = [doc for doc in titles if doc.split == 'test']\n",
    "val_docs = [doc for doc in titles if doc.split == 'validate']\n",
    "\n",
    "print(len(train_docs))\n",
    "print(len(test_docs))\n",
    "print(len(val_docs))\n",
    "# Access document vectors with test_model.docvecs[doc.tags[0]]"
   ]
  },
  {
   "cell_type": "code",
   "execution_count": 14,
   "metadata": {},
   "outputs": [
    {
     "name": "stderr",
     "output_type": "stream",
     "text": [
      "c:\\program files\\python36\\lib\\site-packages\\gensim\\models\\doc2vec.py:366: UserWarning: The parameter `size` is deprecated, will be removed in 4.0.0, use `vector_size` instead.\n",
      "  warnings.warn(\"The parameter `size` is deprecated, will be removed in 4.0.0, use `vector_size` instead.\")\n"
     ]
    }
   ],
   "source": [
    "import multiprocessing\n",
    "cores = multiprocessing.cpu_count()\n",
    "model = Doc2Vec(titles, size=100, workers=cores, window=8, min_count=5)\n",
    "model.save('queries.doc2vec')"
   ]
  },
  {
   "cell_type": "code",
   "execution_count": 41,
   "metadata": {
    "scrolled": true
   },
   "outputs": [
    {
     "name": "stdout",
     "output_type": "stream",
     "text": [
      "Error rate: 0.3679313023825219\n",
      "False positives: 27689\n",
      "False negatives: 34824\n",
      "Total num wrong: 62513\n"
     ]
    }
   ],
   "source": [
    "import numpy as np\n",
    "import statsmodels.api as sm\n",
    "from random import sample\n",
    "\n",
    "threshold = 3 #Can set this parameter to make more/fewer passes to the test. 3 is at ~50% of test data\n",
    "\n",
    "def logistic_predictor_from_data(train_targets, train_regressors):\n",
    "    logit = sm.Logit(train_targets, train_regressors)\n",
    "    predictor = logit.fit(disp=0)\n",
    "    # print(predictor.summary())\n",
    "    return predictor\n",
    "\n",
    "def error_rate_for_model(test_model, train_set, test_set, infer=False, infer_steps=3, infer_alpha=0.1, infer_subsample=0.1):\n",
    "    \"\"\"Report error rate on test_doc sentiments, using supplied model and train_docs\"\"\"\n",
    "\n",
    "    train_targets, train_regressors = zip(*[(1 if (doc.score > threshold) else 0, test_model.docvecs[doc.tags[0]]) for doc in train_set])\n",
    "    train_regressors = sm.add_constant(train_regressors)\n",
    "    predictor = logistic_predictor_from_data(train_targets, train_regressors)\n",
    "\n",
    "    test_data = test_set\n",
    "    test_regressors = [test_model.docvecs[doc.tags[0]] for doc in test_docs]\n",
    "    test_regressors = sm.add_constant(test_regressors)\n",
    "    \n",
    "    # Predict & evaluate\n",
    "    test_predictions = predictor.predict(test_regressors)\n",
    "    rounded_predictions = np.rint(test_predictions)\n",
    "    correct_set = rounded_predictions == [1 if (doc.score > threshold) else 0 for doc in test_data]\n",
    "    false_pos = 0\n",
    "    false_neg = 0\n",
    "    for i in range(len(correct_set)):\n",
    "        if rounded_predictions[i] == 1 and correct_set[i] == 0: false_pos += 1\n",
    "        if rounded_predictions[i] == 0 and correct_set[i] == 0: false_neg += 1\n",
    "    corrects = sum(correct_set)\n",
    "    errors = len(test_predictions) - corrects\n",
    "    error_rate = float(errors) / len(test_predictions)\n",
    "    return (error_rate, errors, len(test_predictions), false_pos, false_neg)\n",
    "\n",
    "err, err_count, test_count, false_pos, false_neg = error_rate_for_model(model, train_docs, test_docs)\n",
    "print(\"Error rate: \" + str(err))\n",
    "print(\"False positives: \" + str(false_pos))\n",
    "print(\"False negatives: \" + str(false_neg))"
   ]
  },
  {
   "cell_type": "code",
   "execution_count": 42,
   "metadata": {},
   "outputs": [
    {
     "data": {
      "text/plain": [
       "625"
      ]
     },
     "execution_count": 42,
     "metadata": {},
     "output_type": "execute_result"
    }
   ],
   "source": []
  },
  {
   "cell_type": "code",
   "execution_count": null,
   "metadata": {},
   "outputs": [],
   "source": []
  }
 ],
 "metadata": {
  "kernelspec": {
   "display_name": "Python 3",
   "language": "python",
   "name": "python3"
  },
  "language_info": {
   "codemirror_mode": {
    "name": "ipython",
    "version": 3
   },
   "file_extension": ".py",
   "mimetype": "text/x-python",
   "name": "python",
   "nbconvert_exporter": "python",
   "pygments_lexer": "ipython3",
   "version": "3.6.4"
  }
 },
 "nbformat": 4,
 "nbformat_minor": 2
}
