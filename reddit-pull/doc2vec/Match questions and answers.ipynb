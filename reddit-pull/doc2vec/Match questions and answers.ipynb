{
 "cells": [
  {
   "cell_type": "code",
   "execution_count": 1,
   "metadata": {},
   "outputs": [
    {
     "name": "stderr",
     "output_type": "stream",
     "text": [
      "c:\\program files\\python36\\lib\\site-packages\\gensim\\utils.py:1197: UserWarning: detected Windows; aliasing chunkize to chunkize_serial\n",
      "  warnings.warn(\"detected Windows; aliasing chunkize to chunkize_serial\")\n"
     ]
    }
   ],
   "source": [
    "from gensim.models.doc2vec import Doc2Vec"
   ]
  },
  {
   "cell_type": "code",
   "execution_count": null,
   "metadata": {},
   "outputs": [],
   "source": [
    "# Format data for input into Doc2Vec\n",
    "import nltk\n",
    "import csv\n",
    "from collections import namedtuple\n",
    "from numpy.random import choice\n",
    "\n",
    "MatchDocument = namedtuple('MatchDocument', 'words tags split is_query query_tag')\n",
    "elements = ['train', 'test', 'validate'] \n",
    "weights = [0.7, 0.2, 0.1]\n",
    "\n",
    "all_docs = []\n",
    "with open('all_comments.csv','r', encoding='utf-8') as infile:\n",
    "    reader = csv.DictReader(infile)\n",
    "    counter = 0\n",
    "    last_seen_query = \"\"\n",
    "    query_tag = 0\n",
    "    for row in reader:\n",
    "        title = row['title'].lower()\n",
    "        if '[removed]' in title or '[deleted]' in title: continue\n",
    "        selftext = row['selftext'].lower()\n",
    "        if '[removed]' in selftext or '[deleted]' in selftext: continue\n",
    "        if title != last_seen_query:\n",
    "            words = nltk.word_tokenize(title + \" \" + selftext)\n",
    "            last_seen_query = title\n",
    "            query_tag = counter\n",
    "            all_docs.append(MatchDocument(words, tags=[counter], split=choice(elements, p=weights),\n",
    "                                         is_query=True, query_tag = counter))\n",
    "            counter += 1\n",
    "        words = nltk.word_tokenize(row['comment'].lower())\n",
    "        all_docs.append(MatchDocument(words, tags=[counter], split=choice(elements, p=weights),\n",
    "                                         is_query=True, query_tag = counter))\n",
    "        counter += 1"
   ]
  }
 ],
 "metadata": {
  "kernelspec": {
   "display_name": "Python 3",
   "language": "python",
   "name": "python3"
  },
  "language_info": {
   "codemirror_mode": {
    "name": "ipython",
    "version": 3
   },
   "file_extension": ".py",
   "mimetype": "text/x-python",
   "name": "python",
   "nbconvert_exporter": "python",
   "pygments_lexer": "ipython3",
   "version": "3.6.4"
  }
 },
 "nbformat": 4,
 "nbformat_minor": 2
}
