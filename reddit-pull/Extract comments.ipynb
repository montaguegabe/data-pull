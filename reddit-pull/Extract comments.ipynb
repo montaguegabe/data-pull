{
 "cells": [
  {
   "cell_type": "code",
   "execution_count": 1,
   "metadata": {},
   "outputs": [],
   "source": [
    "import praw\n",
    "import datetime\n",
    "import csv"
   ]
  },
  {
   "cell_type": "code",
   "execution_count": 2,
   "metadata": {},
   "outputs": [],
   "source": [
    "user_agent = \"Test/0.1 by maxoboe\"\n",
    "with open('account_info.txt', 'r') as file:\n",
    "    lines = file.read().splitlines()\n",
    "    username = lines[0]\n",
    "    password = lines[1]\n",
    "    clientID = lines[2]\n",
    "    secretID = lines[3]\n",
    "reddit = praw.Reddit(client_id=clientID,\n",
    "                     client_secret=secretID,\n",
    "                     user_agent=user_agent)\n",
    "\n",
    "with open('climate_submissions.csv', 'r', encoding='utf-8') as infile, \\\n",
    "    open('climate_comments.csv', 'w+', encoding='utf-8', newline='') as outfile:\n",
    "    reader = csv.DictReader(infile)\n",
    "    fieldnames = ['title', 'date', 'time', 'comment']\n",
    "    writer = csv.DictWriter(outfile, fieldnames=fieldnames)\n",
    "    writer.writeheader()\n",
    "    for row in reader:\n",
    "        if row['comments'] is '0':\n",
    "            continue\n",
    "        submission = reddit.submission(id=row['id'])\n",
    "        submission.comments.replace_more(limit=None)\n",
    "        for top_level_comment in submission.comments:\n",
    "            dateTime = datetime.datetime.fromtimestamp(top_level_comment.created)\n",
    "            writer.writerow({'title':submission.title, 'date': dateTime.date(), 'time': dateTime.time(), \n",
    "                             'comment': top_level_comment.body})"
   ]
  },
  {
   "cell_type": "code",
   "execution_count": null,
   "metadata": {},
   "outputs": [],
   "source": []
  }
 ],
 "metadata": {
  "kernelspec": {
   "display_name": "Python 3",
   "language": "python",
   "name": "python3"
  },
  "language_info": {
   "codemirror_mode": {
    "name": "ipython",
    "version": 3
   },
   "file_extension": ".py",
   "mimetype": "text/x-python",
   "name": "python",
   "nbconvert_exporter": "python",
   "pygments_lexer": "ipython3",
   "version": "3.6.4"
  }
 },
 "nbformat": 4,
 "nbformat_minor": 2
}
