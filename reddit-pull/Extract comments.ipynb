{
 "cells": [
  {
   "cell_type": "code",
   "execution_count": 1,
   "metadata": {},
   "outputs": [],
   "source": [
    "import praw\n",
    "import datetime\n",
    "import csv\n",
    "import pickle\n",
    "import os"
   ]
  },
  {
   "cell_type": "code",
   "execution_count": 22,
   "metadata": {},
   "outputs": [
    {
     "name": "stdout",
     "output_type": "stream",
     "text": [
      "423959\n"
     ]
    }
   ],
   "source": [
    "visited = set()\n",
    "if os.path.isfile('visited_comments.txt'):\n",
    "    with open(\"visited_comments.txt\", 'r') as infile:\n",
    "        for line in infile:\n",
    "            visited.add(line.strip())\n",
    "print(len(visited))"
   ]
  },
  {
   "cell_type": "code",
   "execution_count": 21,
   "metadata": {},
   "outputs": [
    {
     "name": "stdout",
     "output_type": "stream",
     "text": [
      "Execution failed on Near Death Experiences?\n",
      "Execution failed on What do you think about the parallel universes theory?\n"
     ]
    }
   ],
   "source": [
    "user_agent = \"Test/0.1 by maxoboe\"\n",
    "with open('account_info.txt', 'r') as file:\n",
    "    lines = file.read().splitlines()\n",
    "    username = lines[0]\n",
    "    password = lines[1]\n",
    "    clientID = lines[2]\n",
    "    secretID = lines[3]\n",
    "reddit = praw.Reddit(client_id=clientID,\n",
    "                     client_secret=secretID,\n",
    "                     user_agent=user_agent)\n",
    "\n",
    "with open('all_submissions.csv', 'r', encoding='utf-8') as infile, \\\n",
    "    open('all_comments.csv', 'a+', encoding='utf-8', newline='') as outfile:\n",
    "    reader = csv.DictReader(infile)\n",
    "    fieldnames = ['title', 'selftext', 'ups', 'downs', 'date', 'time', 'comment', 'c_ups', 'c_downs']\n",
    "    writer = csv.DictWriter(outfile, fieldnames=fieldnames)\n",
    "#     writer.writeheader()\n",
    "    for row in reader:\n",
    "        if row['comments'] is '0':\n",
    "            continue\n",
    "        if row['id'] in visited: continue\n",
    "        try:\n",
    "            submission = reddit.submission(id=row['id'])\n",
    "            submission.comments.replace_more(limit=None)\n",
    "            for top_level_comment in submission.comments:\n",
    "                dateTime = datetime.datetime.fromtimestamp(top_level_comment.created)\n",
    "                writer.writerow({'title':submission.title, 'selftext': row['selftext'], 'ups': row['ups'], 'downs': row['downs'],\n",
    "                                 'date': dateTime.date(), 'time': dateTime.time(), 'comment': top_level_comment.body, \n",
    "                                 'c_ups': top_level_comment.ups, 'c_downs': top_level_comment.downs})\n",
    "            visited.add(row['id'])\n",
    "            with open('visited_comments.txt', 'a+') as outfile:\n",
    "                outfile.write(row['id'] + '\\n')\n",
    "        except:\n",
    "            print('Execution failed on ' + row['title'])"
   ]
  },
  {
   "cell_type": "code",
   "execution_count": 26,
   "metadata": {},
   "outputs": [],
   "source": [
    "import csv \n",
    "with open('all_comments.csv', 'r', encoding='utf-8') as infile, \\\n",
    "    open('processed_comments.csv', 'w+', encoding='utf-8', newline='') as outfile:\n",
    "    reader = csv.DictReader(infile)\n",
    "    fieldnames = ['title', 'selftext', 'ups', 'downs', 'date', 'time', 'comment', 'c_ups', 'c_downs']\n",
    "    writer = csv.DictWriter(outfile, fieldnames=fieldnames)\n",
    "    writer.writeheader()\n",
    "    for row in reader:\n",
    "        if row['comment'] == '[deleted]': continue\n",
    "        if row['comment'] == '[removed]': continue\n",
    "        if 'This message was automatic' in row['comment']: continue\n",
    "        if 'Thank you for your submission! Unfortunately' in row['comment']: continue\n",
    "        writer.writerow(row)\n"
   ]
  },
  {
   "cell_type": "code",
   "execution_count": null,
   "metadata": {},
   "outputs": [],
   "source": []
  }
 ],
 "metadata": {
  "kernelspec": {
   "display_name": "Python 3",
   "language": "python",
   "name": "python3"
  },
  "language_info": {
   "codemirror_mode": {
    "name": "ipython",
    "version": 3
   },
   "file_extension": ".py",
   "mimetype": "text/x-python",
   "name": "python",
   "nbconvert_exporter": "python",
   "pygments_lexer": "ipython3",
   "version": "3.6.4"
  }
 },
 "nbformat": 4,
 "nbformat_minor": 2
}
