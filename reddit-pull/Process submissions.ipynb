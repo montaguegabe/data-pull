{
 "cells": [
  {
   "cell_type": "code",
   "execution_count": 4,
   "metadata": {},
   "outputs": [],
   "source": [
    "# Remove duplicates and blanks\n",
    "already_seen = set()\n",
    "with open(\"raw_submissions.txt\", 'r', encoding='utf-8') as infile, \\\n",
    "     open('processed_submissions.txt', 'w+', encoding='utf-8') as outfile:\n",
    "    for line in infile:\n",
    "        if line in already_seen :\n",
    "            continue\n",
    "        already_seen.add(line)\n",
    "        outfile.write(line)"
   ]
  },
  {
   "cell_type": "code",
   "execution_count": 8,
   "metadata": {},
   "outputs": [
    {
     "name": "stdout",
     "output_type": "stream",
     "text": [
      "JSON decoding failed. {\"downs\":4,\"link_flair_text\":null,\"distinguished\":null,\"media\":null,\"url\":\"http://www.reddit.com/r/askscience/comments/ccamo/can_all_of_math_be_compressed_into_a_short_list/\",\"link_flair_css_class\":null,\"id\":\"ccamo\",\"edited\":true,\"num_reports\":null,\"created_utc\":1275913150,\"banned_by\":null,\"name\":\"t3_ccamo\",\"subreddit\":\"askscience\",\"title\":\"can all of math be compressed into a short list of equations?\",\"author_flair_text\":null,\"is_self\":true,\"author\":\"Enieublis_McShlaggrm\",\"media_embed\":{},\"permalink\":\"/r/askscience/comments/ccamo/can_all_of_math_be_compressed_into_a_short_list/\",\"author_flair_css_class\":null,\"selftext\":\"So far I'm through calculus one.\\n\\nall of the math before me seems to be derivable from:\\n\\nlim h to 0 (f(x+h)-f(x))/h\\n         -all of calculus\\n         -all geometry\\n\\na^2+b^2=c^2\\n         -sin (angle)= opp/hyp\\n         -cos (angle)= adj/hyp\\n         -all trigonometry\\n\\narithmetic(1+1=10, 1+0=1, 0+0=0, 1-1=0, 1-0=1, 1x1=1, 1x0=0, 0/1=0, 1/0=  {\"downs\":1,\"link_flair_text\":null,\"distinguished\":null,\"media\":null,\"url\":\"http://www.reddit.com/r/askscience/comments/caguh/how_can_a_solid_object_like_a_mirror_retain_a/\",\"link_flair_css_class\":null,\"id\":\"caguh\",\"edited\":false,\"num_reports\":null,\"created_utc\":1275446508,\"banned_by\":null,\"name\":\"t3_caguh\",\"subreddit\":\"askscience\",\"title\":\"How can a solid object, like a mirror, retain a smell?\",\"author_flair_text\":null,\"is_self\":true,\"author\":\"mkgr4boski\",\"media_embed\":{},\"permalink\":\"/r/askscience/comments/caguh/how_can_a_solid_object_like_a_mirror_retain_a/\",\"author_flair_css_class\":null,\"selftext\":\"i keep a box of incense in a closed drawer with various items in it. today, i took out an old cell phone that was in the drawer to give away, and it smelled like incense! and the smell didn't dissipate over the course of the day. then just now i took out a mirror from the drawer, and it smelled too. can anyone explain?\",\"domain\":\"self.askscience\",\"num_comments\":2,\"likes\":null,\"clicked\":false,\"thumbnail\":\"self\",\"saved\":false,\"subreddit_id\":\"t5_2qm4e\",\"ups\":4,\"approved_by\":null,\"score\":3,\"selftext_html\":\"&lt;!-- SC_OFF --&gt;&lt;div class=\\\"md\\\"&gt;&lt;p&gt;i keep a box of incense in a closed drawer with various items in it. today, i took out an old cell phone that was in the drawer to give away, and it smelled like incense! and the smell didn&amp;#39;t dissipate over the course of the day. then just now i took out a mirror from the drawer, and it smelled too. can anyone explain?&lt;/p&gt;\\n&lt;/div&gt;&lt;!-- SC_ON --&gt;\",\"created\":1275450108,\"hidden\":false,\"over_18\":false}\n",
      "\n",
      "JSON decoding failed. \n",
      "\n"
     ]
    }
   ],
   "source": [
    "# Filter for climate terms\n",
    "import csv\n",
    "import json\n",
    "import datetime\n",
    "with open('processed_submissions.txt','r', encoding='utf-8') as infile, \\\n",
    "          open('all_submissions.csv', 'w+', encoding='utf-8', newline='') as outfile:\n",
    "    fieldnames = ['title', 'url', 'permalink', 'selftext', 'date', 'time', 'comments', 'id', 'ups', 'downs'] \n",
    "    #Maybe include ups, downs to weight entries by popular reception?\n",
    "    writer = csv.DictWriter(outfile, fieldnames=fieldnames)\n",
    "    writer.writeheader()\n",
    "    for line in infile:\n",
    "        try:\n",
    "            entry = json.loads(line)\n",
    "        except ValueError:\n",
    "            print(\"JSON decoding failed. \" + line)\n",
    "            continue\n",
    "        title = entry['title'].lower()\n",
    "        if '?' in title:\n",
    "#         if ('climate change' in title or 'global warming' in title) and '?' in title:\n",
    "            dateTime = datetime.datetime.fromtimestamp(int(entry['created_utc']))\n",
    "            ups = entry['ups'] if 'ups' in entry else entry['score']\n",
    "            downs = entry['downs'] if 'downs' in entry else 0\n",
    "            writer.writerow({'title':entry['title'], 'url':entry['url'], 'permalink':entry['permalink'], \n",
    "                             'selftext':entry['selftext'], 'date': dateTime.date(), 'time': dateTime.time(), \n",
    "                             'comments': entry['num_comments'], 'id': entry['id'], 'ups': ups, 'downs': downs})"
   ]
  },
  {
   "cell_type": "code",
   "execution_count": 6,
   "metadata": {},
   "outputs": [
    {
     "name": "stdout",
     "output_type": "stream",
     "text": [
      "{'author_flair_text': None, 'edited': False, 'hide_score': False, 'link_flair_text': None, 'is_self': True, 'media_embed': {}, 'over_18': False, 'brand_safe': True, 'gilded': 0, 'selftext': '[removed]', 'archived': False, 'permalink': '/r/askscience/comments/5rdmyx/humans_are_the_cancer_of_nature_our_human/', 'contest_mode': False, 'subreddit_id': 't5_2qm4e', 'url': 'https://www.reddit.com/r/askscience/comments/5rdmyx/humans_are_the_cancer_of_nature_our_human/', 'subreddit': 'askscience', 'author_flair_css_class': None, 'suggested_sort': None, 'score': 1, 'media': None, 'quarantine': False, 'stickied': False, 'hidden': False, 'retrieved_on': 1489496052, 'author': 'Mfvd', 'secure_media_embed': {}, 'title': 'Humans are the cancer of nature; our human activities and inventions have caused detrimental effects to nature and accelerated climate change. What other animals are like us?', 'secure_media': None, 'domain': 'self.askscience', 'num_comments': 1, 'id': '5rdmyx', 'link_flair_css_class': None, 'locked': False, 'spoiler': False, 'created_utc': 1485925673, 'thumbnail': 'default', 'distinguished': None}\n"
     ]
    }
   ],
   "source": [
    "print(entry)"
   ]
  },
  {
   "cell_type": "code",
   "execution_count": null,
   "metadata": {},
   "outputs": [],
   "source": []
  }
 ],
 "metadata": {
  "kernelspec": {
   "display_name": "Python 3",
   "language": "python",
   "name": "python3"
  },
  "language_info": {
   "codemirror_mode": {
    "name": "ipython",
    "version": 3
   },
   "file_extension": ".py",
   "mimetype": "text/x-python",
   "name": "python",
   "nbconvert_exporter": "python",
   "pygments_lexer": "ipython3",
   "version": "3.6.4"
  }
 },
 "nbformat": 4,
 "nbformat_minor": 2
}
