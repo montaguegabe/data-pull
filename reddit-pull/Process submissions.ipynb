{
 "cells": [
  {
   "cell_type": "code",
   "execution_count": 4,
   "metadata": {},
   "outputs": [],
   "source": [
    "# Remove duplicates and blanks\n",
    "already_seen = set()\n",
    "with open(\"raw_submissions.txt\", 'r', encoding='utf-8') as infile, \\\n",
    "     open('processed_submissions.txt', 'w+', encoding='utf-8') as outfile:\n",
    "    for line in infile:\n",
    "        if line in already_seen :\n",
    "            continue\n",
    "        already_seen.add(line)\n",
    "        outfile.write(line)"
   ]
  },
  {
   "cell_type": "code",
   "execution_count": 15,
   "metadata": {},
   "outputs": [
    {
     "name": "stdout",
     "output_type": "stream",
     "text": [
      "JSON decoding failed. {\"downs\":4,\"link_flair_text\":null,\"distinguished\":null,\"media\":null,\"url\":\"http://www.reddit.com/r/askscience/comments/ccamo/can_all_of_math_be_compressed_into_a_short_list/\",\"link_flair_css_class\":null,\"id\":\"ccamo\",\"edited\":true,\"num_reports\":null,\"created_utc\":1275913150,\"banned_by\":null,\"name\":\"t3_ccamo\",\"subreddit\":\"askscience\",\"title\":\"can all of math be compressed into a short list of equations?\",\"author_flair_text\":null,\"is_self\":true,\"author\":\"Enieublis_McShlaggrm\",\"media_embed\":{},\"permalink\":\"/r/askscience/comments/ccamo/can_all_of_math_be_compressed_into_a_short_list/\",\"author_flair_css_class\":null,\"selftext\":\"So far I'm through calculus one.\\n\\nall of the math before me seems to be derivable from:\\n\\nlim h to 0 (f(x+h)-f(x))/h\\n         -all of calculus\\n         -all geometry\\n\\na^2+b^2=c^2\\n         -sin (angle)= opp/hyp\\n         -cos (angle)= adj/hyp\\n         -all trigonometry\\n\\narithmetic(1+1=10, 1+0=1, 0+0=0, 1-1=0, 1-0=1, 1x1=1, 1x0=0, 0/1=0, 1/0=  {\"downs\":1,\"link_flair_text\":null,\"distinguished\":null,\"media\":null,\"url\":\"http://www.reddit.com/r/askscience/comments/caguh/how_can_a_solid_object_like_a_mirror_retain_a/\",\"link_flair_css_class\":null,\"id\":\"caguh\",\"edited\":false,\"num_reports\":null,\"created_utc\":1275446508,\"banned_by\":null,\"name\":\"t3_caguh\",\"subreddit\":\"askscience\",\"title\":\"How can a solid object, like a mirror, retain a smell?\",\"author_flair_text\":null,\"is_self\":true,\"author\":\"mkgr4boski\",\"media_embed\":{},\"permalink\":\"/r/askscience/comments/caguh/how_can_a_solid_object_like_a_mirror_retain_a/\",\"author_flair_css_class\":null,\"selftext\":\"i keep a box of incense in a closed drawer with various items in it. today, i took out an old cell phone that was in the drawer to give away, and it smelled like incense! and the smell didn't dissipate over the course of the day. then just now i took out a mirror from the drawer, and it smelled too. can anyone explain?\",\"domain\":\"self.askscience\",\"num_comments\":2,\"likes\":null,\"clicked\":false,\"thumbnail\":\"self\",\"saved\":false,\"subreddit_id\":\"t5_2qm4e\",\"ups\":4,\"approved_by\":null,\"score\":3,\"selftext_html\":\"&lt;!-- SC_OFF --&gt;&lt;div class=\\\"md\\\"&gt;&lt;p&gt;i keep a box of incense in a closed drawer with various items in it. today, i took out an old cell phone that was in the drawer to give away, and it smelled like incense! and the smell didn&amp;#39;t dissipate over the course of the day. then just now i took out a mirror from the drawer, and it smelled too. can anyone explain?&lt;/p&gt;\\n&lt;/div&gt;&lt;!-- SC_ON --&gt;\",\"created\":1275450108,\"hidden\":false,\"over_18\":false}\n",
      "\n",
      "JSON decoding failed. \n",
      "\n"
     ]
    }
   ],
   "source": [
    "# Filter for climate terms\n",
    "import csv\n",
    "import json\n",
    "import datetime\n",
    "with open('processed_submissions.txt','r', encoding='utf-8') as infile, \\\n",
    "          open('climate_submissions.csv', 'w+', encoding='utf-8', newline='') as outfile:\n",
    "    fieldnames = ['title', 'url', 'permalink', 'selftext', 'date', 'time', 'comments', 'id'] \n",
    "    #Maybe include ups, downs to weight entries by popular reception?\n",
    "    writer = csv.DictWriter(outfile, fieldnames=fieldnames)\n",
    "    writer.writeheader()\n",
    "    for line in infile:\n",
    "        try:\n",
    "            entry = json.loads(line)\n",
    "        except ValueError:\n",
    "            print(\"JSON decoding failed. \" + line)\n",
    "            continue\n",
    "        title = entry['title'].lower()\n",
    "        if (('climate change' in title) or ('global warming') in title) and '?' in title:\n",
    "            dateTime = datetime.datetime.fromtimestamp(int(entry['created_utc']))\n",
    "            writer.writerow({'title':entry['title'], 'url':entry['url'], 'permalink':entry['permalink'], \n",
    "                             'selftext':entry['selftext'], 'date': dateTime.date(), 'time': dateTime.time(), \n",
    "                             'comments': entry['num_comments'], 'id': entry['id']})"
   ]
  },
  {
   "cell_type": "code",
   "execution_count": 5,
   "metadata": {},
   "outputs": [
    {
     "name": "stdout",
     "output_type": "stream",
     "text": [
      "2017-01-31\n",
      "18:53:01\n"
     ]
    }
   ],
   "source": [
    "import datetime\n",
    "thingy = datetime.datetime.fromtimestamp(\n",
    "        int(\"1485906781\")\n",
    "    )\n",
    "print(thingy.date())\n",
    "print(thingy.time())\n",
    "# Can do maybe LDA/word2vec of all queries? Get a graph of what topics people have asked over time?"
   ]
  },
  {
   "cell_type": "code",
   "execution_count": 14,
   "metadata": {},
   "outputs": [
    {
     "name": "stdout",
     "output_type": "stream",
     "text": [
      "{\"subreddit\":\"askscience\",\"media\":null,\"report_reasons\":null,\"created_utc\":1346533680,\"banned_by\":null,\"subreddit_id\":\"t5_2qm4e\",\"author_flair_text\":null,\"score\":3,\"selftext\":\"I think the question is rather self-explanatory, but I can add more if necessary.\\n\\nWill we ever be able to \\\"solve\\\" the worst impacts of global warming in the short term if we don't first replace fossil fuels?\\n\\nAnd what are the most accurate measures of how much of the emissions we are suffering from come from cars and how much could be replaced by clean nuclear power or some other ideal alternative tech? I keep seeing the number for emissions from cars at around 10% of the total.\\n\\nLinks to articles (scholarly or news) explaining what you're saying in more depth would be greatly appreciated. \",\"link_flair_css_class\":null,\"retrieved_on\":1413612427,\"num_comments\":0,\"author\":\"[deleted]\",\"permalink\":\"/r/askscience/comments/z7868/can_climate_change_be_mitigated_by_nuclear_power/\",\"gilded\":0,\"distinguished\":null,\"downs\":0,\"selftext_html\":\"&lt;!-- SC_OFF --&gt;&lt;div class=\\\"md\\\"&gt;&lt;p&gt;I think the question is rather self-explanatory, but I can add more if necessary.&lt;/p&gt;\\n\\n&lt;p&gt;Will we ever be able to &amp;quot;solve&amp;quot; the worst impacts of global warming in the short term if we don&amp;#39;t first replace fossil fuels?&lt;/p&gt;\\n\\n&lt;p&gt;And what are the most accurate measures of how much of the emissions we are suffering from come from cars and how much could be replaced by clean nuclear power or some other ideal alternative tech? I keep seeing the number for emissions from cars at around 10% of the total.&lt;/p&gt;\\n\\n&lt;p&gt;Links to articles (scholarly or news) explaining what you&amp;#39;re saying in more depth would be greatly appreciated. &lt;/p&gt;\\n&lt;/div&gt;&lt;!-- SC_ON --&gt;\",\"stickied\":false,\"thumbnail\":\"default\",\"secure_media_embed\":{},\"ups\":3,\"author_flair_css_class\":null,\"secure_media\":null,\"domain\":\"self.askscience\",\"edited\":false,\"link_flair_text\":null,\"title\":\"Can climate change be mitigated by nuclear power, or will it continue as long as we burn fossil fuels? \",\"is_self\":true,\"over_18\":false,\"url\":\"http://www.reddit.com/r/askscience/comments/z7868/can_climate_change_be_mitigated_by_nuclear_power/\",\"id\":\"z7868\",\"user_reports\":[],\"media_embed\":{},\"mod_reports\":[]}\n",
      "\n"
     ]
    }
   ],
   "source": [
    "print(line)"
   ]
  },
  {
   "cell_type": "code",
   "execution_count": null,
   "metadata": {},
   "outputs": [],
   "source": []
  }
 ],
 "metadata": {
  "kernelspec": {
   "display_name": "Python 3",
   "language": "python",
   "name": "python3"
  },
  "language_info": {
   "codemirror_mode": {
    "name": "ipython",
    "version": 3
   },
   "file_extension": ".py",
   "mimetype": "text/x-python",
   "name": "python",
   "nbconvert_exporter": "python",
   "pygments_lexer": "ipython3",
   "version": "3.6.4"
  }
 },
 "nbformat": 4,
 "nbformat_minor": 2
}
