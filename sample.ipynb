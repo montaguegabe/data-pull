{
  "cells": [
    {
      "cell_type": "markdown",
      "source": [
        "In this notebook we will attempt to sample randomly from collections or granules. This will give us a starting database to work with, but also provide us with details about complications of working with different datatypes."
      ],
      "metadata": {}
    },
    {
      "cell_type": "code",
      "source": [
        "from pyCMR.pyCMR import CMR\n",
        "cmr = CMR(\"cmr.cfg\")"
      ],
      "outputs": [],
      "execution_count": 1,
      "metadata": {
        "collapsed": false,
        "outputHidden": false,
        "inputHidden": false
      }
    },
    {
      "cell_type": "markdown",
      "source": [
        "Idea: sample randomly using a uniform index into the data. What is the maximum index?"
      ],
      "metadata": {}
    },
    {
      "cell_type": "code",
      "source": [
        "# Get all CMR results - how high can we boost the page number?\n",
        "results = cmr.searchCollection(page_num=10000000)\n",
        "len(results)"
      ],
      "outputs": [
        {
          "output_type": "execute_result",
          "execution_count": 2,
          "data": {
            "text/plain": [
              "100"
            ]
          },
          "metadata": {}
        }
      ],
      "execution_count": 2,
      "metadata": {
        "collapsed": false,
        "outputHidden": false,
        "inputHidden": false
      }
    },
    {
      "cell_type": "code",
      "source": [
        "import json\n",
        "js1 = json.dumps(results[0])\n",
        "# print js1"
      ],
      "outputs": [],
      "execution_count": null,
      "metadata": {
        "collapsed": false,
        "outputHidden": false,
        "inputHidden": false
      }
    },
    {
      "cell_type": "markdown",
      "source": [
        "This method is not working – it's all from Bowen Island with slightly different revision dates?\n",
        "\nNew strategy: randomly sample from around the globe."
      ],
      "metadata": {}
    },
    {
      "cell_type": "code",
      "source": [
        "import random\n",
        "\n",
        "TRIALS = 10\n",
        "BB_SIZE = 5 # 5x5 random bounding box\n",
        "\n",
        "sampled_results_place = []\n",
        "\n",
        "for trial in xrange(TRIALS):\n",
        "    \n",
        "    # Generate a random lat/lng bounding box\n",
        "    lowerLat = random.uniform(-90.0, 90.0 - BB_SIZE)\n",
        "    lowerLng = random.uniform(-180.0, 180.0 - BB_SIZE)\n",
        "    upperLat = lowerLat + BB_SIZE\n",
        "    upperLng = lowerLng + BB_SIZE\n",
        "    bounding_box = \"%d,%d,%d,%d\" % (lowerLng, lowerLat, upperLng, upperLat)\n",
        "    \n",
        "    # Request URL\n",
        "    query_results = cmr.searchCollection(bounding_box=bounding_box)\n",
        "    sampled_results_place.append(query_results)\n",
        "    \n",
        "len(results)\n"
      ],
      "outputs": [
        {
          "output_type": "execute_result",
          "execution_count": 13,
          "data": {
            "text/plain": [
              "100"
            ]
          },
          "metadata": {}
        }
      ],
      "execution_count": 13,
      "metadata": {
        "collapsed": false,
        "outputHidden": false,
        "inputHidden": false,
        "outputExpanded": true
      }
    },
    {
      "cell_type": "markdown",
      "source": [
        "The same 10 are always returned. This is not an effective way to sample. The creation dates of the datasets may be a better way."
      ],
      "metadata": {}
    },
    {
      "cell_type": "code",
      "source": [
        "\"\"\"\n",
        "WARNING: ERASES\n",
        "sampled_results = []\n",
        "short_names = set([])\n",
        "\"\"\"\n",
        "\n",
        "# Pick up from where we left off\n",
        "import pickle\n",
        "short_names, sampled_results = pickle.load(open('metadata.p', 'rb'))\n"
      ],
      "outputs": [],
      "execution_count": 3,
      "metadata": {
        "collapsed": false,
        "outputHidden": false,
        "inputHidden": false
      }
    },
    {
      "cell_type": "code",
      "source": [
        "import random\n",
        "import time\n",
        "from datetime import datetime as dt\n",
        "\n",
        "TRIALS = 50\n",
        "TIME_WINDOW_DAYS = 365\n",
        "FORMAT = '%Y-%m-%dT%H:%M:%SZ'\n",
        "\n",
        "new_found = 0\n",
        "for trial in xrange(TRIALS):\n",
        "    \n",
        "    print '*',\n",
        "    \n",
        "    # Generate a random time window\n",
        "    \n",
        "    range_start = time.mktime(time.strptime('1995-01-01T12:00:00Z', FORMAT))\n",
        "    range_end = time.mktime(time.strptime('2017-01-01T12:00:00Z', FORMAT))\n",
        "    start_time = range_start + random.random() * (range_end - range_start)\n",
        "    end_time = start_time + 86400 * TIME_WINDOW_DAYS\n",
        "        \n",
        "    query_time1 = time.strftime(FORMAT, time.gmtime(start_time))\n",
        "    query_time2 = time.strftime(FORMAT, time.gmtime(end_time))\n",
        "    # print '[%s TO\\n%s]' % (query_time1, query_time2)\n",
        "    \n",
        "    query_results = cmr.searchCollection(created_at=query_time1 + ',' + query_time2)\n",
        "    \n",
        "    # Add if they have a unique short name\n",
        "    for collection in query_results:\n",
        "        sn = collection['Collection']['ShortName']\n",
        "        if sn not in short_names:\n",
        "            sampled_results.append(collection)\n",
        "            short_names.add(sn)\n",
        "            new_found += 1\n",
        "    \n",
        "    # Don't overload the API\n",
        "    time.sleep(random.random() * 2.0)\n",
        "    \n",
        "print 'Found %d new results' % new_found\n",
        "\n    "
      ],
      "outputs": [
        {
          "output_type": "stream",
          "name": "stdout",
          "text": [
            "* * * * * * * * * * * * * * * * * * * * * * * * * * * * * * * * * * * * * * * * * * * * * * * * * * Found 337 new results\n"
          ]
        }
      ],
      "execution_count": 21,
      "metadata": {
        "collapsed": false,
        "outputHidden": false,
        "inputHidden": false
      }
    },
    {
      "cell_type": "code",
      "source": [
        "# For debugging\n",
        "\"\"\"range2 = '1997-11-17T22:25:35Z,1997-12-17T22:25:35Z'\n",
        "results = cmr.searchCollection(created_at=range2)\n",
        "len(results)\"\"\""
      ],
      "outputs": [],
      "execution_count": null,
      "metadata": {
        "collapsed": false,
        "outputHidden": false,
        "inputHidden": false
      }
    },
    {
      "cell_type": "code",
      "source": [
        "short_names"
      ],
      "outputs": [],
      "execution_count": null,
      "metadata": {
        "collapsed": false,
        "outputHidden": false,
        "inputHidden": false
      }
    },
    {
      "cell_type": "markdown",
      "source": [
        "Now that we have an adequate sampling method, lets save some of this data to a \"database\" (right now just a file)."
      ],
      "metadata": {}
    },
    {
      "cell_type": "code",
      "source": [
        "len(sampled_results)"
      ],
      "outputs": [
        {
          "output_type": "execute_result",
          "execution_count": 22,
          "data": {
            "text/plain": [
              "2136"
            ]
          },
          "metadata": {}
        }
      ],
      "execution_count": 22,
      "metadata": {
        "collapsed": false,
        "outputHidden": false,
        "inputHidden": false
      }
    },
    {
      "cell_type": "code",
      "source": [
        "# Save our progress\n",
        "\n",
        "import pickle\n",
        "pickle.dump((short_names, sampled_results), open('metadata.p', 'wb'))"
      ],
      "outputs": [],
      "execution_count": 23,
      "metadata": {
        "collapsed": false,
        "outputHidden": false,
        "inputHidden": false
      }
    },
    {
      "cell_type": "code",
      "source": [],
      "outputs": [],
      "execution_count": null,
      "metadata": {
        "collapsed": false,
        "outputHidden": false,
        "inputHidden": false
      }
    }
  ],
  "metadata": {
    "kernelspec": {
      "name": "python2",
      "language": "python",
      "display_name": "Python 2"
    },
    "kernel_info": {
      "name": "python2"
    },
    "language_info": {
      "mimetype": "text/x-python",
      "nbconvert_exporter": "python",
      "name": "python",
      "pygments_lexer": "ipython2",
      "version": "2.7.14",
      "file_extension": ".py",
      "codemirror_mode": {
        "version": 2,
        "name": "ipython"
      }
    },
    "nteract": {
      "version": "0.7.1"
    }
  },
  "nbformat": 4,
  "nbformat_minor": 4
}