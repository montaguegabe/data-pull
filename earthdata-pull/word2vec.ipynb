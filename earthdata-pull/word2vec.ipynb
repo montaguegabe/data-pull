{
  "cells": [
    {
      "cell_type": "markdown",
      "source": [
        "This notebook relies on sampling from the `sample.ipynb` notebook. We will extract metadata descriptions, then fit models on them."
      ],
      "metadata": {}
    },
    {
      "cell_type": "code",
      "source": [
        "# Import collection metadata\n",
        "import pickle\n",
        "from pyCMR.pyCMR import CMR\n",
        "long_names, metadata = pickle.load(open('metadata.p', 'rb'))"
      ],
      "outputs": [],
      "execution_count": 1,
      "metadata": {
        "collapsed": false,
        "outputHidden": false,
        "inputHidden": false
      }
    },
    {
      "cell_type": "markdown",
      "source": [
        "We now need to make a small corpus. First naive strategy: concatenate all the leaves of the structure in random order.\n",
        "\nNOTE: this discards important information along the paths to the leaves."
      ],
      "metadata": {}
    },
    {
      "cell_type": "code",
      "source": [
        "# source: https://stackoverflow.com/questions/12507206/python-recommended-way-to-walk-complex-dictionary-structures-imported-from-json\n",
        "\n",
        "# This code turns a dictionary into a list of paths to leaves\n",
        "def dict_generator(indict, pre=None):\n",
        "    pre = pre[:] if pre else []\n",
        "    if isinstance(indict, dict):\n",
        "        for key, value in indict.items():\n",
        "            if isinstance(value, dict):\n",
        "                for d in dict_generator(value, [key] + pre):\n",
        "                    yield d\n",
        "            elif isinstance(value, list) or isinstance(value, tuple):\n",
        "                for v in value:\n",
        "                    for d in dict_generator(v, [key] + pre):\n",
        "                        yield d\n",
        "            else:\n",
        "                yield pre + [key, value]\n",
        "    else:\n",
        "        yield indict"
      ],
      "outputs": [],
      "execution_count": 2,
      "metadata": {
        "collapsed": false,
        "outputHidden": false,
        "inputHidden": false
      }
    },
    {
      "cell_type": "code",
      "source": [
        "# source: https://stackoverflow.com/questions/354038/how-do-i-check-if-a-string-is-a-number-float\n",
        "def is_number(s):\n",
        "    try:\n",
        "        float(s)\n",
        "        return True\n",
        "    except ValueError:\n",
        "        return False"
      ],
      "outputs": [],
      "execution_count": 3,
      "metadata": {
        "collapsed": false,
        "outputHidden": false,
        "inputHidden": false
      }
    },
    {
      "cell_type": "code",
      "source": [
        "# WARNING: Naive implementation\n",
        "def struct2Doc(cln):\n",
        "    # Convert to javascript-style dictionary-array object\n",
        "    hierarchy = json.loads(json.dumps(cln))\n",
        "\n",
        "    path_gen = dict_generator(hierarchy)\n",
        "    leaves = []\n",
        "\n",
        "    for path in path_gen:\n",
        "        leaf = path[-1]\n",
        "\n",
        "        # Do some filtering on the leaves (see below)\n",
        "        if leaf == '' or leaf == None:\n",
        "            continue\n",
        "        if is_number(leaf):\n",
        "            continue\n",
        "        if validators.url(leaf):\n",
        "            continue\n",
        "\n",
        "        # TODO: Extend\n",
        "        leaf = re.sub(r'[^\\s\\w]+', ' ', leaf)\n",
        "        #print leaf\n",
        "        leaves.append(leaf.lower())\n",
        "\n",
        "    # Shuffle so that incidental proximity of leaves to eachother is not taken into account\n",
        "    shuffle(leaves)\n",
        "    document = ' '.join(leaves)\n",
        "    \n",
        "    return document\n",
        "\n",
        "# Just from looking at the result it seems we should filter out:\n",
        "#  - Empty leaves\n",
        "#  - Numbers\n",
        "#  - URL's and emails\n",
        "#  - Dates?\n",
        "    "
      ],
      "outputs": [],
      "execution_count": 4,
      "metadata": {
        "collapsed": false,
        "outputHidden": false,
        "inputHidden": false
      }
    },
    {
      "cell_type": "code",
      "source": [
        "import re\n",
        "\n",
        "# WARNING: This may be too reliant on structured data\n",
        "\n",
        "# Structured output\n",
        "def struct2Sentence(cln):\n",
        "    # Convert to javascript-style dictionary-array object\n",
        "    hierarchy = json.loads(json.dumps(cln))\n",
        "\n",
        "    path_gen = dict_generator(hierarchy)\n",
        "    sentences = []\n",
        "\n",
        "    for path in path_gen:\n",
        "        leaf = path[-1]\n",
        "\n",
        "        # Do some filtering on the leaves (see below)\n",
        "        if leaf == '' or leaf == None:\n",
        "            continue\n",
        "        if is_number(leaf):\n",
        "            continue\n",
        "        if validators.url(leaf):\n",
        "            continue\n",
        "\n",
        "        sentence = ' '.join(path)\n",
        "        \n",
        "        # Make sentence lowercase and remove periods\n",
        "        sentence = re.sub(r'[^\\s\\w]+', ' ', sentence)\n",
        "        sentences.append(sentence.lower())\n",
        "    \n",
        "    return sentences\n",
        "\n",
        "# Just from looking at the result it seems we should filter out:\n",
        "#  - Empty leaves\n",
        "#  - Numbers\n",
        "#  - URL's and emails\n",
        "#  - Dates?\n",
        "    "
      ],
      "outputs": [],
      "execution_count": 5,
      "metadata": {
        "collapsed": false,
        "outputHidden": false,
        "inputHidden": false
      }
    },
    {
      "cell_type": "code",
      "source": [
        "import json\n",
        "import validators\n",
        "cln = metadata[0]\n",
        "document = struct2Sentence(cln)\n",
        "print document"
      ],
      "outputs": [
        {
          "output_type": "stream",
          "name": "stdout",
          "text": [
            "[u'concept id c1000000000 cddis', u'instrument instruments platform platforms collection shortname doris receiver', u'platform platforms collection shortname cryosat 2', u'platform platforms collection type  ', u'platform platforms collection longname cryosat 2', u'instrument instruments platform platforms collection shortname doris beacon', u'platform platforms collection shortname ground stations', u'platform platforms collection type  ', u'platform platforms collection longname ground stations', u'instrument instruments platform platforms collection shortname doris receiver', u'platform platforms collection shortname hy 2a', u'platform platforms collection type  ', u'platform platforms collection longname haiyang 2a', u'instrument instruments platform platforms collection shortname doris receiver', u'platform platforms collection shortname jason 1', u'platform platforms collection type  ', u'platform platforms collection longname jason 1', u'instrument instruments platform platforms collection shortname doris receiver', u'platform platforms collection shortname jason 2', u'platform platforms collection type  ', u'platform platforms collection longname jason 2', u'instrument instruments platform platforms collection shortname doris receiver', u'platform platforms collection shortname spot 2', u'platform platforms collection type  ', u'platform platforms collection longname systeme probatoire pour l observation de la terre 2', u'instrument instruments platform platforms collection shortname doris receiver', u'platform platforms collection shortname spot 3', u'platform platforms collection type  ', u'platform platforms collection longname systeme probatoire pour l observation de la terre 3', u'instrument instruments platform platforms collection shortname doris receiver', u'platform platforms collection shortname spot 4', u'platform platforms collection type  ', u'platform platforms collection longname systeme probatoire pour l observation de la terre 4', u'instrument instruments platform platforms collection shortname doris receiver', u'platform platforms collection shortname spot 5', u'platform platforms collection type  ', u'platform platforms collection longname systeme probatoire pour l observation de la terre 5', u'instrument instruments platform platforms collection shortname doris receiver', u'platform platforms collection shortname topex poseidon', u'platform platforms collection type  ', u'platform platforms collection longname ocean topography experiment', u'collection lastupdate 2012 05 31t00 00 00', u'collection description the doppler orbitography by radiopositioning integrated on satellite  doris  was developed by the centre national d etudes spatiales  cnes  with cooperation from other french government agencies  the system was developed to provide precise orbit determination and high accuracy location of ground beacons for point positioning  doris is a dual frequency doppler system that has been included as an experiment on various space missions such as topex poseidon  spot 2   3   4  and  5  envisat  and jason satellites  unlike many other navigation systems  doris is based on an uplink device  the receivers are on board the satellite with the transmitters are on the ground  this creates a centralized system in which the complete set of observations is downloaded by the satellite to the ground center  from where they are distributed after editing and processing  an accurate measurment is made of the doppler shift on radiofrequency signals emitted by the ground beacons and received on the spacecraft ', u'contact contacts collection organizationname crustal dynamics data information system', u'phone organizationphones contact contacts collection type telephone', u'phone organizationphones contact contacts collection number 301 614 6542', u'phone organizationphones contact contacts collection type fax', u'phone organizationphones contact contacts collection number 301 614 6015', u'address organizationaddresses contact contacts collection city greenbelt', u'address organizationaddresses contact contacts collection streetaddress nasa goddard space flight center  code 690', u'address organizationaddresses contact contacts collection stateprovince md', u'address organizationaddresses contact contacts collection country usa', u'contactperson contactpersons contact contacts collection lastname noll', u'contactperson contactpersons contact contacts collection firstname carey', u'contact contacts collection role archiver', u'organizationemails contact contacts collection email carey e noll nasa gov', u'temporal collection endsatpresentflag true', u'rangedatetime temporal collection beginningdatetime 1990 03 31t00 00 00', u'campaign campaigns collection shortname ids', u'campaign campaigns collection longname international doris service', u'collection longname doppler orbitography by radiopositioning integrated on satellite range rate observation data  cycle format  from nasa cddis', u'collection inserttime 2003 01 23t17 00 00', u'geometry horizontalspatialdomain spatial collection coordinatesystem cartesian', u'spatial collection granulespatialrepresentation cartesian', u'verticalspatialdomain spatial collection type none', u'verticalspatialdomain spatial collection value none', u'collection shortname cddis_doris_data_cycle', u'collection archivecenter cddis gsfc', u'collection datasetid cddis_doris_data_cycle', u'dif associateddifs collection entryid cddis_doris_data', u'format application echo10 xml']\n"
          ]
        }
      ],
      "execution_count": 8,
      "metadata": {
        "collapsed": false,
        "outputHidden": false,
        "inputHidden": false
      }
    },
    {
      "cell_type": "markdown",
      "source": [
        "The next step is to convert collections in-bulk to documents"
      ],
      "metadata": {}
    },
    {
      "cell_type": "code",
      "source": [],
      "outputs": [],
      "execution_count": 9,
      "metadata": {
        "collapsed": false,
        "outputHidden": false,
        "inputHidden": false
      }
    },
    {
      "cell_type": "code",
      "source": [
        "import multiprocessing\n",
        "\n",
        "# Parallelize for speed\n",
        "pool = multiprocessing.Pool()\n",
        "#documents = pool.map(struct2Doc, metadata)\n",
        "sentences = pool.map(struct2Sentence, metadata)\n",
        "\nsentences[0]"
      ],
      "outputs": [
        {
          "output_type": "execute_result",
          "execution_count": 9,
          "data": {
            "text/plain": [
              "[u'concept id c1000000000 cddis',\n",
              " u'collection lastupdate 2012 05 31t00 00 00',\n",
              " u'collection description the doppler orbitography by radiopositioning integrated on satellite  doris  was developed by the centre national d etudes spatiales  cnes  with cooperation from other french government agencies  the system was developed to provide precise orbit determination and high accuracy location of ground beacons for point positioning  doris is a dual frequency doppler system that has been included as an experiment on various space missions such as topex poseidon  spot 2   3   4  and  5  envisat  and jason satellites  unlike many other navigation systems  doris is based on an uplink device  the receivers are on board the satellite with the transmitters are on the ground  this creates a centralized system in which the complete set of observations is downloaded by the satellite to the ground center  from where they are distributed after editing and processing  an accurate measurment is made of the doppler shift on radiofrequency signals emitted by the ground beacons and received on the spacecraft ',\n",
              " u'contact contacts collection organizationname crustal dynamics data information system',\n",
              " u'phone organizationphones contact contacts collection type telephone',\n",
              " u'phone organizationphones contact contacts collection number 301 614 6542',\n",
              " u'phone organizationphones contact contacts collection type fax',\n",
              " u'phone organizationphones contact contacts collection number 301 614 6015',\n",
              " u'address organizationaddresses contact contacts collection city greenbelt',\n",
              " u'address organizationaddresses contact contacts collection streetaddress nasa goddard space flight center  code 690',\n",
              " u'address organizationaddresses contact contacts collection stateprovince md',\n",
              " u'address organizationaddresses contact contacts collection country usa',\n",
              " u'contactperson contactpersons contact contacts collection lastname noll',\n",
              " u'contactperson contactpersons contact contacts collection firstname carey',\n",
              " u'contact contacts collection role archiver',\n",
              " u'organizationemails contact contacts collection email carey e noll nasa gov',\n",
              " u'temporal collection endsatpresentflag true',\n",
              " u'rangedatetime temporal collection beginningdatetime 1990 03 31t00 00 00',\n",
              " u'geometry horizontalspatialdomain spatial collection coordinatesystem cartesian',\n",
              " u'spatial collection granulespatialrepresentation cartesian',\n",
              " u'verticalspatialdomain spatial collection type none',\n",
              " u'verticalspatialdomain spatial collection value none',\n",
              " u'campaign campaigns collection shortname ids',\n",
              " u'campaign campaigns collection longname international doris service',\n",
              " u'instrument instruments platform platforms collection shortname doris receiver',\n",
              " u'platform platforms collection shortname cryosat 2',\n",
              " u'platform platforms collection type  ',\n",
              " u'platform platforms collection longname cryosat 2',\n",
              " u'instrument instruments platform platforms collection shortname doris beacon',\n",
              " u'platform platforms collection shortname ground stations',\n",
              " u'platform platforms collection type  ',\n",
              " u'platform platforms collection longname ground stations',\n",
              " u'instrument instruments platform platforms collection shortname doris receiver',\n",
              " u'platform platforms collection shortname hy 2a',\n",
              " u'platform platforms collection type  ',\n",
              " u'platform platforms collection longname haiyang 2a',\n",
              " u'instrument instruments platform platforms collection shortname doris receiver',\n",
              " u'platform platforms collection shortname jason 1',\n",
              " u'platform platforms collection type  ',\n",
              " u'platform platforms collection longname jason 1',\n",
              " u'instrument instruments platform platforms collection shortname doris receiver',\n",
              " u'platform platforms collection shortname jason 2',\n",
              " u'platform platforms collection type  ',\n",
              " u'platform platforms collection longname jason 2',\n",
              " u'instrument instruments platform platforms collection shortname doris receiver',\n",
              " u'platform platforms collection shortname spot 2',\n",
              " u'platform platforms collection type  ',\n",
              " u'platform platforms collection longname systeme probatoire pour l observation de la terre 2',\n",
              " u'instrument instruments platform platforms collection shortname doris receiver',\n",
              " u'platform platforms collection shortname spot 3',\n",
              " u'platform platforms collection type  ',\n",
              " u'platform platforms collection longname systeme probatoire pour l observation de la terre 3',\n",
              " u'instrument instruments platform platforms collection shortname doris receiver',\n",
              " u'platform platforms collection shortname spot 4',\n",
              " u'platform platforms collection type  ',\n",
              " u'platform platforms collection longname systeme probatoire pour l observation de la terre 4',\n",
              " u'instrument instruments platform platforms collection shortname doris receiver',\n",
              " u'platform platforms collection shortname spot 5',\n",
              " u'platform platforms collection type  ',\n",
              " u'platform platforms collection longname systeme probatoire pour l observation de la terre 5',\n",
              " u'instrument instruments platform platforms collection shortname doris receiver',\n",
              " u'platform platforms collection shortname topex poseidon',\n",
              " u'platform platforms collection type  ',\n",
              " u'platform platforms collection longname ocean topography experiment',\n",
              " u'collection inserttime 2003 01 23t17 00 00',\n",
              " u'collection longname doppler orbitography by radiopositioning integrated on satellite range rate observation data  cycle format  from nasa cddis',\n",
              " u'collection shortname cddis_doris_data_cycle',\n",
              " u'collection archivecenter cddis gsfc',\n",
              " u'collection datasetid cddis_doris_data_cycle',\n",
              " u'dif associateddifs collection entryid cddis_doris_data',\n",
              " u'format application echo10 xml']"
            ]
          },
          "metadata": {}
        }
      ],
      "execution_count": 9,
      "metadata": {
        "collapsed": false,
        "outputHidden": false,
        "inputHidden": false
      }
    },
    {
      "cell_type": "code",
      "source": [
        "def flattenGenerator(listOfLists):\n",
        "    for list2 in listOfLists:\n",
        "        for item in list2:\n",
        "            yield item\n",
        "\n",
        "sentenceGen = flattenGenerator(sentences)\n",
        "sentenceGen.next()"
      ],
      "outputs": [
        {
          "output_type": "execute_result",
          "execution_count": 10,
          "data": {
            "text/plain": [
              "u'concept id c1000000000 cddis'"
            ]
          },
          "metadata": {}
        }
      ],
      "execution_count": 10,
      "metadata": {
        "collapsed": false,
        "outputHidden": false,
        "inputHidden": false
      }
    },
    {
      "cell_type": "markdown",
      "source": [
        "For word2vec we need just a list of sentences"
      ],
      "metadata": {}
    },
    {
      "cell_type": "code",
      "source": [
        "sentences_flat = [filter(None, item.split(' ')) for sublist in sentences for item in sublist]"
      ],
      "outputs": [],
      "execution_count": 11,
      "metadata": {
        "collapsed": false,
        "outputHidden": false,
        "inputHidden": false
      }
    },
    {
      "cell_type": "markdown",
      "source": [
        "Now we can examine document similarity between collection metadata."
      ],
      "metadata": {}
    },
    {
      "cell_type": "code",
      "source": [
        "from gensim.models import word2vec\n",
        "logging.basicConfig(format='%(asctime)s : %(levelname)s : %(message)s', level=logging.INFO)"
      ],
      "outputs": [
        {
          "output_type": "error",
          "ename": "ImportError",
          "evalue": "No module named gensim.models",
          "traceback": [
            "\u001b[0;31m\u001b[0m",
            "\u001b[0;31mImportError\u001b[0mTraceback (most recent call last)",
            "\u001b[0;32m<ipython-input-6-a6f84b9761dc>\u001b[0m in \u001b[0;36m<module>\u001b[0;34m()\u001b[0m\n\u001b[0;32m----> 1\u001b[0;31m \u001b[0;32mfrom\u001b[0m \u001b[0mgensim\u001b[0m\u001b[0;34m.\u001b[0m\u001b[0mmodels\u001b[0m \u001b[0;32mimport\u001b[0m \u001b[0mword2vec\u001b[0m\u001b[0;34m\u001b[0m\u001b[0m\n\u001b[0m\u001b[1;32m      2\u001b[0m \u001b[0mlogging\u001b[0m\u001b[0;34m.\u001b[0m\u001b[0mbasicConfig\u001b[0m\u001b[0;34m(\u001b[0m\u001b[0mformat\u001b[0m\u001b[0;34m=\u001b[0m\u001b[0;34m'%(asctime)s : %(levelname)s : %(message)s'\u001b[0m\u001b[0;34m,\u001b[0m \u001b[0mlevel\u001b[0m\u001b[0;34m=\u001b[0m\u001b[0mlogging\u001b[0m\u001b[0;34m.\u001b[0m\u001b[0mINFO\u001b[0m\u001b[0;34m)\u001b[0m\u001b[0;34m\u001b[0m\u001b[0m\n",
            "\u001b[0;31mImportError\u001b[0m: No module named gensim.models"
          ]
        }
      ],
      "execution_count": 6,
      "metadata": {
        "collapsed": false,
        "outputHidden": false,
        "inputHidden": false
      }
    },
    {
      "cell_type": "markdown",
      "source": [
        "Try word2vec on sentences"
      ],
      "metadata": {}
    },
    {
      "cell_type": "code",
      "source": [
        "model = word2vec.Word2Vec(sentences_flat, size=100, window=5, min_count=5, workers=7)"
      ],
      "outputs": [
        {
          "output_type": "stream",
          "name": "stderr",
          "text": [
            "2018-02-21 21:43:13,182 : INFO : collecting all words and their counts\n",
            "2018-02-21 21:43:13,186 : INFO : PROGRESS: at sentence #0, processed 0 words, keeping 0 word types\n",
            "2018-02-21 21:43:13,236 : INFO : PROGRESS: at sentence #10000, processed 81270 words, keeping 4422 word types\n",
            "2018-02-21 21:43:13,285 : INFO : PROGRESS: at sentence #20000, processed 167911 words, keeping 6558 word types\n",
            "2018-02-21 21:43:13,332 : INFO : PROGRESS: at sentence #30000, processed 246934 words, keeping 8342 word types\n",
            "2018-02-21 21:43:13,385 : INFO : PROGRESS: at sentence #40000, processed 336864 words, keeping 8924 word types\n",
            "2018-02-21 21:43:13,431 : INFO : PROGRESS: at sentence #50000, processed 417518 words, keeping 10722 word types\n",
            "2018-02-21 21:43:13,485 : INFO : PROGRESS: at sentence #60000, processed 509788 words, keeping 12744 word types\n",
            "2018-02-21 21:43:13,542 : INFO : PROGRESS: at sentence #70000, processed 600369 words, keeping 14036 word types\n",
            "2018-02-21 21:43:13,599 : INFO : PROGRESS: at sentence #80000, processed 697531 words, keeping 16260 word types\n",
            "2018-02-21 21:43:13,651 : INFO : PROGRESS: at sentence #90000, processed 788324 words, keeping 17265 word types\n",
            "2018-02-21 21:43:13,705 : INFO : PROGRESS: at sentence #100000, processed 875589 words, keeping 18307 word types\n",
            "2018-02-21 21:43:13,765 : INFO : PROGRESS: at sentence #110000, processed 964222 words, keeping 19552 word types\n",
            "2018-02-21 21:43:13,825 : INFO : PROGRESS: at sentence #120000, processed 1061327 words, keeping 21195 word types\n",
            "2018-02-21 21:43:13,886 : INFO : PROGRESS: at sentence #130000, processed 1158176 words, keeping 22668 word types\n",
            "2018-02-21 21:43:13,940 : INFO : PROGRESS: at sentence #140000, processed 1251024 words, keeping 23527 word types\n",
            "2018-02-21 21:43:13,990 : INFO : PROGRESS: at sentence #150000, processed 1336395 words, keeping 24212 word types\n",
            "2018-02-21 21:43:14,044 : INFO : PROGRESS: at sentence #160000, processed 1421998 words, keeping 24825 word types\n",
            "2018-02-21 21:43:14,101 : INFO : PROGRESS: at sentence #170000, processed 1513340 words, keeping 25342 word types\n",
            "2018-02-21 21:43:14,151 : INFO : PROGRESS: at sentence #180000, processed 1596144 words, keeping 26314 word types\n",
            "2018-02-21 21:43:14,201 : INFO : PROGRESS: at sentence #190000, processed 1675733 words, keeping 27330 word types\n",
            "2018-02-21 21:43:14,247 : INFO : PROGRESS: at sentence #200000, processed 1757378 words, keeping 27980 word types\n",
            "2018-02-21 21:43:14,293 : INFO : PROGRESS: at sentence #210000, processed 1842490 words, keeping 28497 word types\n",
            "2018-02-21 21:43:14,347 : INFO : PROGRESS: at sentence #220000, processed 1928043 words, keeping 29450 word types\n",
            "2018-02-21 21:43:14,402 : INFO : PROGRESS: at sentence #230000, processed 2014487 words, keeping 31145 word types\n",
            "2018-02-21 21:43:14,455 : INFO : PROGRESS: at sentence #240000, processed 2098875 words, keeping 32109 word types\n",
            "2018-02-21 21:43:14,478 : INFO : collected 32460 word types from a corpus of 2130069 raw words and 243409 sentences\n",
            "2018-02-21 21:43:14,479 : INFO : Loading a fresh vocabulary\n",
            "2018-02-21 21:43:14,538 : INFO : min_count=5 retains 8952 unique words (27% of original 32460, drops 23508)\n",
            "2018-02-21 21:43:14,539 : INFO : min_count=5 leaves 2094262 word corpus (98% of original 2130069, drops 35807)\n",
            "2018-02-21 21:43:14,575 : INFO : deleting the raw counts dictionary of 32460 items\n",
            "2018-02-21 21:43:14,578 : INFO : sample=0.001 downsamples 58 most-common words\n",
            "2018-02-21 21:43:14,579 : INFO : downsampling leaves estimated 1422525 word corpus (67.9% of prior 2094262)\n",
            "2018-02-21 21:43:14,581 : INFO : estimated required memory for 8952 words and 100 dimensions: 11637600 bytes\n",
            "2018-02-21 21:43:14,626 : INFO : resetting layer weights\n",
            "2018-02-21 21:43:14,732 : INFO : training model with 7 workers on 8952 vocabulary and 100 features, using sg=0 hs=0 sample=0.001 negative=5 window=5\n",
            "2018-02-21 21:43:15,760 : INFO : PROGRESS: at 14.42% examples, 1032887 words/s, in_qsize 0, out_qsize 2\n",
            "2018-02-21 21:43:16,761 : INFO : PROGRESS: at 29.53% examples, 1038573 words/s, in_qsize 0, out_qsize 0\n",
            "2018-02-21 21:43:17,764 : INFO : PROGRESS: at 44.46% examples, 1038970 words/s, in_qsize 0, out_qsize 0\n",
            "2018-02-21 21:43:18,770 : INFO : PROGRESS: at 59.26% examples, 1045654 words/s, in_qsize 0, out_qsize 0\n",
            "2018-02-21 21:43:19,776 : INFO : PROGRESS: at 73.21% examples, 1037706 words/s, in_qsize 3, out_qsize 0\n",
            "2018-02-21 21:43:20,776 : INFO : PROGRESS: at 88.09% examples, 1037726 words/s, in_qsize 0, out_qsize 0\n",
            "2018-02-21 21:43:21,567 : INFO : worker thread finished; awaiting finish of 6 more threads\n",
            "2018-02-21 21:43:21,571 : INFO : worker thread finished; awaiting finish of 5 more threads\n",
            "2018-02-21 21:43:21,572 : INFO : worker thread finished; awaiting finish of 4 more threads\n",
            "2018-02-21 21:43:21,574 : INFO : worker thread finished; awaiting finish of 3 more threads\n",
            "2018-02-21 21:43:21,578 : INFO : worker thread finished; awaiting finish of 2 more threads\n",
            "2018-02-21 21:43:21,579 : INFO : worker thread finished; awaiting finish of 1 more threads\n",
            "2018-02-21 21:43:21,581 : INFO : worker thread finished; awaiting finish of 0 more threads\n",
            "2018-02-21 21:43:21,582 : INFO : training on 10650345 raw words (7114126 effective words) took 6.8s, 1039640 effective words/s\n"
          ]
        }
      ],
      "execution_count": 13,
      "metadata": {
        "collapsed": false,
        "outputHidden": false,
        "inputHidden": false
      }
    },
    {
      "cell_type": "code",
      "source": [
        "#model.save('word2vec_structured.m')\n",
        "from gensim.models import word2vec\n",
        "model = word2vec.load('simple_model.m')"
      ],
      "outputs": [
        {
          "output_type": "error",
          "ename": "ImportError",
          "evalue": "No module named gensim",
          "traceback": [
            "\u001b[0;31m\u001b[0m",
            "\u001b[0;31mImportError\u001b[0mTraceback (most recent call last)",
            "\u001b[0;32m<ipython-input-5-ccb1e8e0941d>\u001b[0m in \u001b[0;36m<module>\u001b[0;34m()\u001b[0m\n\u001b[1;32m      1\u001b[0m \u001b[0;31m#model.save('word2vec_structured.m')\u001b[0m\u001b[0;34m\u001b[0m\u001b[0;34m\u001b[0m\u001b[0m\n\u001b[0;32m----> 2\u001b[0;31m \u001b[0;32mimport\u001b[0m \u001b[0mgensim\u001b[0m\u001b[0;34m\u001b[0m\u001b[0m\n\u001b[0m\u001b[1;32m      3\u001b[0m \u001b[0;32mfrom\u001b[0m \u001b[0mgensim\u001b[0m\u001b[0;34m.\u001b[0m\u001b[0mmodels\u001b[0m \u001b[0;32mimport\u001b[0m \u001b[0mword2vec\u001b[0m\u001b[0;34m\u001b[0m\u001b[0m\n\u001b[1;32m      4\u001b[0m \u001b[0mmodel\u001b[0m \u001b[0;34m=\u001b[0m \u001b[0mword2vec\u001b[0m\u001b[0;34m.\u001b[0m\u001b[0mload\u001b[0m\u001b[0;34m(\u001b[0m\u001b[0;34m'simple_model.m'\u001b[0m\u001b[0;34m)\u001b[0m\u001b[0;34m\u001b[0m\u001b[0m\n",
            "\u001b[0;31mImportError\u001b[0m: No module named gensim"
          ]
        }
      ],
      "execution_count": 5,
      "metadata": {
        "collapsed": false,
        "outputHidden": false,
        "inputHidden": false
      }
    },
    {
      "cell_type": "code",
      "source": [
        "model.wv['rain']\n",
        "model.wv.most_similar('rainfall')"
      ],
      "outputs": [
        {
          "output_type": "stream",
          "name": "stderr",
          "text": [
            "2018-02-21 21:44:02,982 : INFO : precomputing L2-norms of word weight vectors\n"
          ]
        },
        {
          "output_type": "execute_result",
          "execution_count": 15,
          "data": {
            "text/plain": [
              "[(u'measurement', 0.6895172595977783),\n",
              " (u'volume', 0.635983943939209),\n",
              " (u'tropical', 0.6309189796447754),\n",
              " (u'monoxide', 0.6228217482566833),\n",
              " (u'tropospheric', 0.6224027276039124),\n",
              " (u'mission', 0.6212568879127502),\n",
              " (u'dioxide', 0.6178737878799438),\n",
              " (u'component', 0.6072835922241211),\n",
              " (u'no2', 0.6064711213111877),\n",
              " (u'hydrogen', 0.6028136610984802)]"
            ]
          },
          "metadata": {}
        }
      ],
      "execution_count": 15,
      "metadata": {
        "collapsed": false,
        "outputHidden": false,
        "inputHidden": false
      }
    },
    {
      "cell_type": "code",
      "source": [
        "vocab = list(model.wv.vocab)\n",
        "X = model[vocab]"
      ],
      "outputs": [],
      "execution_count": 16,
      "metadata": {
        "collapsed": false,
        "outputHidden": false,
        "inputHidden": false
      }
    },
    {
      "cell_type": "code",
      "source": [
        "from sklearn.manifold import TSNE\n",
        "tsne = TSNE(n_components=2)\n",
        "X_tsne = tsne.fit_transform(X)"
      ],
      "outputs": [],
      "execution_count": 19,
      "metadata": {
        "collapsed": false,
        "outputHidden": false,
        "inputHidden": false
      }
    },
    {
      "cell_type": "code",
      "source": [
        "import pickle\n",
        "#pickle.dump(X_tsne, open('X_tsne.p', 'wb'))\n",
        "X_tsne = pickle.load(open('X_tsne.p', 'rb'))"
      ],
      "outputs": [],
      "execution_count": 1,
      "metadata": {
        "collapsed": false,
        "outputHidden": false,
        "inputHidden": false
      }
    },
    {
      "cell_type": "code",
      "source": [
        "import pandas as pd\n",
        "df = pd.DataFrame(X_tsne, index=vocab, columns=['x', 'y'])"
      ],
      "outputs": [
        {
          "output_type": "error",
          "ename": "NameError",
          "evalue": "name 'vocab' is not defined",
          "traceback": [
            "\u001b[0;31m\u001b[0m",
            "\u001b[0;31mNameError\u001b[0mTraceback (most recent call last)",
            "\u001b[0;32m<ipython-input-2-c2ace89f2759>\u001b[0m in \u001b[0;36m<module>\u001b[0;34m()\u001b[0m\n\u001b[1;32m      1\u001b[0m \u001b[0;32mimport\u001b[0m \u001b[0mpandas\u001b[0m \u001b[0;32mas\u001b[0m \u001b[0mpd\u001b[0m\u001b[0;34m\u001b[0m\u001b[0m\n\u001b[0;32m----> 2\u001b[0;31m \u001b[0mdf\u001b[0m \u001b[0;34m=\u001b[0m \u001b[0mpd\u001b[0m\u001b[0;34m.\u001b[0m\u001b[0mDataFrame\u001b[0m\u001b[0;34m(\u001b[0m\u001b[0mX_tsne\u001b[0m\u001b[0;34m,\u001b[0m \u001b[0mindex\u001b[0m\u001b[0;34m=\u001b[0m\u001b[0mvocab\u001b[0m\u001b[0;34m,\u001b[0m \u001b[0mcolumns\u001b[0m\u001b[0;34m=\u001b[0m\u001b[0;34m[\u001b[0m\u001b[0;34m'x'\u001b[0m\u001b[0;34m,\u001b[0m \u001b[0;34m'y'\u001b[0m\u001b[0;34m]\u001b[0m\u001b[0;34m)\u001b[0m\u001b[0;34m\u001b[0m\u001b[0m\n\u001b[0m",
            "\u001b[0;31mNameError\u001b[0m: name 'vocab' is not defined"
          ]
        }
      ],
      "execution_count": 2,
      "metadata": {
        "collapsed": false,
        "outputHidden": false,
        "inputHidden": false
      }
    },
    {
      "cell_type": "code",
      "source": [
        "import matplotlib.patheffects as path_effects\n",
        "reload(path_effects)"
      ],
      "outputs": [
        {
          "output_type": "execute_result",
          "execution_count": 69,
          "data": {
            "text/plain": [
              "<module 'matplotlib.patheffects' from '/anaconda2/envs/earthdata/lib/python2.7/site-packages/matplotlib/patheffects.pyc'>"
            ]
          },
          "metadata": {}
        }
      ],
      "execution_count": 69,
      "metadata": {
        "collapsed": false,
        "outputHidden": false,
        "inputHidden": false
      }
    },
    {
      "cell_type": "code",
      "source": [
        "import matplotlib.pyplot as plt\n",
        "\n",
        "fig = plt.figure(figsize=(8, 6), dpi=150)\n",
        "ax = fig.add_subplot(1, 1, 1)\n",
        "\n",
        "ax.scatter(df['x'], df['y'], c='cyan', alpha=0.25)\n",
        "ax.set_facecolor('black')\n",
        "\n",
        "#idx = 6\n",
        "idx = 2\n",
        "\n",
        "for word, pos in df.iterrows():\n",
        "    #idx += 1\n",
        "    idx += 1\n",
        "    if idx % 160 != 0:\n",
        "        continue\n",
        "    \n",
        "    ax.annotate(word, pos, color='white', fontweight='bold', path_effects=[path_effects.SimpleLineShadow()])\n",
        "\n",
        "plt.show()\n",
        "\n"
      ],
      "outputs": [
        {
          "output_type": "error",
          "ename": "ValueError",
          "evalue": "'vertices' must be a 2D list or array with shape Nx2",
          "traceback": [
            "\u001b[0;31m\u001b[0m",
            "\u001b[0;31mValueError\u001b[0mTraceback (most recent call last)",
            "\u001b[0;32m/anaconda2/envs/earthdata/lib/python2.7/site-packages/IPython/core/formatters.pyc\u001b[0m in \u001b[0;36m__call__\u001b[0;34m(self, obj)\u001b[0m\n\u001b[1;32m    332\u001b[0m                 \u001b[0;32mpass\u001b[0m\u001b[0;34m\u001b[0m\u001b[0m\n\u001b[1;32m    333\u001b[0m             \u001b[0;32melse\u001b[0m\u001b[0;34m:\u001b[0m\u001b[0;34m\u001b[0m\u001b[0m\n\u001b[0;32m--> 334\u001b[0;31m                 \u001b[0;32mreturn\u001b[0m \u001b[0mprinter\u001b[0m\u001b[0;34m(\u001b[0m\u001b[0mobj\u001b[0m\u001b[0;34m)\u001b[0m\u001b[0;34m\u001b[0m\u001b[0m\n\u001b[0m\u001b[1;32m    335\u001b[0m             \u001b[0;31m# Finally look for special method names\u001b[0m\u001b[0;34m\u001b[0m\u001b[0;34m\u001b[0m\u001b[0m\n\u001b[1;32m    336\u001b[0m             \u001b[0mmethod\u001b[0m \u001b[0;34m=\u001b[0m \u001b[0mget_real_method\u001b[0m\u001b[0;34m(\u001b[0m\u001b[0mobj\u001b[0m\u001b[0;34m,\u001b[0m \u001b[0mself\u001b[0m\u001b[0;34m.\u001b[0m\u001b[0mprint_method\u001b[0m\u001b[0;34m)\u001b[0m\u001b[0;34m\u001b[0m\u001b[0m\n",
            "\u001b[0;32m/anaconda2/envs/earthdata/lib/python2.7/site-packages/IPython/core/pylabtools.pyc\u001b[0m in \u001b[0;36m<lambda>\u001b[0;34m(fig)\u001b[0m\n\u001b[1;32m    238\u001b[0m \u001b[0;34m\u001b[0m\u001b[0m\n\u001b[1;32m    239\u001b[0m     \u001b[0;32mif\u001b[0m \u001b[0;34m'png'\u001b[0m \u001b[0;32min\u001b[0m \u001b[0mformats\u001b[0m\u001b[0;34m:\u001b[0m\u001b[0;34m\u001b[0m\u001b[0m\n\u001b[0;32m--> 240\u001b[0;31m         \u001b[0mpng_formatter\u001b[0m\u001b[0;34m.\u001b[0m\u001b[0mfor_type\u001b[0m\u001b[0;34m(\u001b[0m\u001b[0mFigure\u001b[0m\u001b[0;34m,\u001b[0m \u001b[0;32mlambda\u001b[0m \u001b[0mfig\u001b[0m\u001b[0;34m:\u001b[0m \u001b[0mprint_figure\u001b[0m\u001b[0;34m(\u001b[0m\u001b[0mfig\u001b[0m\u001b[0;34m,\u001b[0m \u001b[0;34m'png'\u001b[0m\u001b[0;34m,\u001b[0m \u001b[0;34m**\u001b[0m\u001b[0mkwargs\u001b[0m\u001b[0;34m)\u001b[0m\u001b[0;34m)\u001b[0m\u001b[0;34m\u001b[0m\u001b[0m\n\u001b[0m\u001b[1;32m    241\u001b[0m     \u001b[0;32mif\u001b[0m \u001b[0;34m'retina'\u001b[0m \u001b[0;32min\u001b[0m \u001b[0mformats\u001b[0m \u001b[0;32mor\u001b[0m \u001b[0;34m'png2x'\u001b[0m \u001b[0;32min\u001b[0m \u001b[0mformats\u001b[0m\u001b[0;34m:\u001b[0m\u001b[0;34m\u001b[0m\u001b[0m\n\u001b[1;32m    242\u001b[0m         \u001b[0mpng_formatter\u001b[0m\u001b[0;34m.\u001b[0m\u001b[0mfor_type\u001b[0m\u001b[0;34m(\u001b[0m\u001b[0mFigure\u001b[0m\u001b[0;34m,\u001b[0m \u001b[0;32mlambda\u001b[0m \u001b[0mfig\u001b[0m\u001b[0;34m:\u001b[0m \u001b[0mretina_figure\u001b[0m\u001b[0;34m(\u001b[0m\u001b[0mfig\u001b[0m\u001b[0;34m,\u001b[0m \u001b[0;34m**\u001b[0m\u001b[0mkwargs\u001b[0m\u001b[0;34m)\u001b[0m\u001b[0;34m)\u001b[0m\u001b[0;34m\u001b[0m\u001b[0m\n",
            "\u001b[0;32m/anaconda2/envs/earthdata/lib/python2.7/site-packages/IPython/core/pylabtools.pyc\u001b[0m in \u001b[0;36mprint_figure\u001b[0;34m(fig, fmt, bbox_inches, **kwargs)\u001b[0m\n\u001b[1;32m    122\u001b[0m \u001b[0;34m\u001b[0m\u001b[0m\n\u001b[1;32m    123\u001b[0m     \u001b[0mbytes_io\u001b[0m \u001b[0;34m=\u001b[0m \u001b[0mBytesIO\u001b[0m\u001b[0;34m(\u001b[0m\u001b[0;34m)\u001b[0m\u001b[0;34m\u001b[0m\u001b[0m\n\u001b[0;32m--> 124\u001b[0;31m     \u001b[0mfig\u001b[0m\u001b[0;34m.\u001b[0m\u001b[0mcanvas\u001b[0m\u001b[0;34m.\u001b[0m\u001b[0mprint_figure\u001b[0m\u001b[0;34m(\u001b[0m\u001b[0mbytes_io\u001b[0m\u001b[0;34m,\u001b[0m \u001b[0;34m**\u001b[0m\u001b[0mkw\u001b[0m\u001b[0;34m)\u001b[0m\u001b[0;34m\u001b[0m\u001b[0m\n\u001b[0m\u001b[1;32m    125\u001b[0m     \u001b[0mdata\u001b[0m \u001b[0;34m=\u001b[0m \u001b[0mbytes_io\u001b[0m\u001b[0;34m.\u001b[0m\u001b[0mgetvalue\u001b[0m\u001b[0;34m(\u001b[0m\u001b[0;34m)\u001b[0m\u001b[0;34m\u001b[0m\u001b[0m\n\u001b[1;32m    126\u001b[0m     \u001b[0;32mif\u001b[0m \u001b[0mfmt\u001b[0m \u001b[0;34m==\u001b[0m \u001b[0;34m'svg'\u001b[0m\u001b[0;34m:\u001b[0m\u001b[0;34m\u001b[0m\u001b[0m\n",
            "\u001b[0;32m/anaconda2/envs/earthdata/lib/python2.7/site-packages/matplotlib/backend_bases.pyc\u001b[0m in \u001b[0;36mprint_figure\u001b[0;34m(self, filename, dpi, facecolor, edgecolor, orientation, format, **kwargs)\u001b[0m\n\u001b[1;32m   2214\u001b[0m                     \u001b[0morientation\u001b[0m\u001b[0;34m=\u001b[0m\u001b[0morientation\u001b[0m\u001b[0;34m,\u001b[0m\u001b[0;34m\u001b[0m\u001b[0m\n\u001b[1;32m   2215\u001b[0m                     \u001b[0mdryrun\u001b[0m\u001b[0;34m=\u001b[0m\u001b[0mTrue\u001b[0m\u001b[0;34m,\u001b[0m\u001b[0;34m\u001b[0m\u001b[0m\n\u001b[0;32m-> 2216\u001b[0;31m                     **kwargs)\n\u001b[0m\u001b[1;32m   2217\u001b[0m                 \u001b[0mrenderer\u001b[0m \u001b[0;34m=\u001b[0m \u001b[0mself\u001b[0m\u001b[0;34m.\u001b[0m\u001b[0mfigure\u001b[0m\u001b[0;34m.\u001b[0m\u001b[0m_cachedRenderer\u001b[0m\u001b[0;34m\u001b[0m\u001b[0m\n\u001b[1;32m   2218\u001b[0m                 \u001b[0mbbox_inches\u001b[0m \u001b[0;34m=\u001b[0m \u001b[0mself\u001b[0m\u001b[0;34m.\u001b[0m\u001b[0mfigure\u001b[0m\u001b[0;34m.\u001b[0m\u001b[0mget_tightbbox\u001b[0m\u001b[0;34m(\u001b[0m\u001b[0mrenderer\u001b[0m\u001b[0;34m)\u001b[0m\u001b[0;34m\u001b[0m\u001b[0m\n",
            "\u001b[0;32m/anaconda2/envs/earthdata/lib/python2.7/site-packages/matplotlib/backends/backend_agg.pyc\u001b[0m in \u001b[0;36mprint_png\u001b[0;34m(self, filename_or_obj, *args, **kwargs)\u001b[0m\n\u001b[1;32m    505\u001b[0m \u001b[0;34m\u001b[0m\u001b[0m\n\u001b[1;32m    506\u001b[0m     \u001b[0;32mdef\u001b[0m \u001b[0mprint_png\u001b[0m\u001b[0;34m(\u001b[0m\u001b[0mself\u001b[0m\u001b[0;34m,\u001b[0m \u001b[0mfilename_or_obj\u001b[0m\u001b[0;34m,\u001b[0m \u001b[0;34m*\u001b[0m\u001b[0margs\u001b[0m\u001b[0;34m,\u001b[0m \u001b[0;34m**\u001b[0m\u001b[0mkwargs\u001b[0m\u001b[0;34m)\u001b[0m\u001b[0;34m:\u001b[0m\u001b[0;34m\u001b[0m\u001b[0m\n\u001b[0;32m--> 507\u001b[0;31m         \u001b[0mFigureCanvasAgg\u001b[0m\u001b[0;34m.\u001b[0m\u001b[0mdraw\u001b[0m\u001b[0;34m(\u001b[0m\u001b[0mself\u001b[0m\u001b[0;34m)\u001b[0m\u001b[0;34m\u001b[0m\u001b[0m\n\u001b[0m\u001b[1;32m    508\u001b[0m         \u001b[0mrenderer\u001b[0m \u001b[0;34m=\u001b[0m \u001b[0mself\u001b[0m\u001b[0;34m.\u001b[0m\u001b[0mget_renderer\u001b[0m\u001b[0;34m(\u001b[0m\u001b[0;34m)\u001b[0m\u001b[0;34m\u001b[0m\u001b[0m\n\u001b[1;32m    509\u001b[0m         \u001b[0moriginal_dpi\u001b[0m \u001b[0;34m=\u001b[0m \u001b[0mrenderer\u001b[0m\u001b[0;34m.\u001b[0m\u001b[0mdpi\u001b[0m\u001b[0;34m\u001b[0m\u001b[0m\n",
            "\u001b[0;32m/anaconda2/envs/earthdata/lib/python2.7/site-packages/matplotlib/backends/backend_agg.pyc\u001b[0m in \u001b[0;36mdraw\u001b[0;34m(self)\u001b[0m\n\u001b[1;32m    428\u001b[0m             \u001b[0;31m# if toolbar:\u001b[0m\u001b[0;34m\u001b[0m\u001b[0;34m\u001b[0m\u001b[0m\n\u001b[1;32m    429\u001b[0m             \u001b[0;31m#     toolbar.set_cursor(cursors.WAIT)\u001b[0m\u001b[0;34m\u001b[0m\u001b[0;34m\u001b[0m\u001b[0m\n\u001b[0;32m--> 430\u001b[0;31m             \u001b[0mself\u001b[0m\u001b[0;34m.\u001b[0m\u001b[0mfigure\u001b[0m\u001b[0;34m.\u001b[0m\u001b[0mdraw\u001b[0m\u001b[0;34m(\u001b[0m\u001b[0mself\u001b[0m\u001b[0;34m.\u001b[0m\u001b[0mrenderer\u001b[0m\u001b[0;34m)\u001b[0m\u001b[0;34m\u001b[0m\u001b[0m\n\u001b[0m\u001b[1;32m    431\u001b[0m         \u001b[0;32mfinally\u001b[0m\u001b[0;34m:\u001b[0m\u001b[0;34m\u001b[0m\u001b[0m\n\u001b[1;32m    432\u001b[0m             \u001b[0;31m# if toolbar:\u001b[0m\u001b[0;34m\u001b[0m\u001b[0;34m\u001b[0m\u001b[0m\n",
            "\u001b[0;32m/anaconda2/envs/earthdata/lib/python2.7/site-packages/matplotlib/artist.pyc\u001b[0m in \u001b[0;36mdraw_wrapper\u001b[0;34m(artist, renderer, *args, **kwargs)\u001b[0m\n\u001b[1;32m     53\u001b[0m                 \u001b[0mrenderer\u001b[0m\u001b[0;34m.\u001b[0m\u001b[0mstart_filter\u001b[0m\u001b[0;34m(\u001b[0m\u001b[0;34m)\u001b[0m\u001b[0;34m\u001b[0m\u001b[0m\n\u001b[1;32m     54\u001b[0m \u001b[0;34m\u001b[0m\u001b[0m\n\u001b[0;32m---> 55\u001b[0;31m             \u001b[0;32mreturn\u001b[0m \u001b[0mdraw\u001b[0m\u001b[0;34m(\u001b[0m\u001b[0martist\u001b[0m\u001b[0;34m,\u001b[0m \u001b[0mrenderer\u001b[0m\u001b[0;34m,\u001b[0m \u001b[0;34m*\u001b[0m\u001b[0margs\u001b[0m\u001b[0;34m,\u001b[0m \u001b[0;34m**\u001b[0m\u001b[0mkwargs\u001b[0m\u001b[0;34m)\u001b[0m\u001b[0;34m\u001b[0m\u001b[0m\n\u001b[0m\u001b[1;32m     56\u001b[0m         \u001b[0;32mfinally\u001b[0m\u001b[0;34m:\u001b[0m\u001b[0;34m\u001b[0m\u001b[0m\n\u001b[1;32m     57\u001b[0m             \u001b[0;32mif\u001b[0m \u001b[0martist\u001b[0m\u001b[0;34m.\u001b[0m\u001b[0mget_agg_filter\u001b[0m\u001b[0;34m(\u001b[0m\u001b[0;34m)\u001b[0m \u001b[0;32mis\u001b[0m \u001b[0;32mnot\u001b[0m \u001b[0mNone\u001b[0m\u001b[0;34m:\u001b[0m\u001b[0;34m\u001b[0m\u001b[0m\n",
            "\u001b[0;32m/anaconda2/envs/earthdata/lib/python2.7/site-packages/matplotlib/figure.pyc\u001b[0m in \u001b[0;36mdraw\u001b[0;34m(self, renderer)\u001b[0m\n\u001b[1;32m   1297\u001b[0m \u001b[0;34m\u001b[0m\u001b[0m\n\u001b[1;32m   1298\u001b[0m             mimage._draw_list_compositing_images(\n\u001b[0;32m-> 1299\u001b[0;31m                 renderer, self, artists, self.suppressComposite)\n\u001b[0m\u001b[1;32m   1300\u001b[0m \u001b[0;34m\u001b[0m\u001b[0m\n\u001b[1;32m   1301\u001b[0m             \u001b[0mrenderer\u001b[0m\u001b[0;34m.\u001b[0m\u001b[0mclose_group\u001b[0m\u001b[0;34m(\u001b[0m\u001b[0;34m'figure'\u001b[0m\u001b[0;34m)\u001b[0m\u001b[0;34m\u001b[0m\u001b[0m\n",
            "\u001b[0;32m/anaconda2/envs/earthdata/lib/python2.7/site-packages/matplotlib/image.pyc\u001b[0m in \u001b[0;36m_draw_list_compositing_images\u001b[0;34m(renderer, parent, artists, suppress_composite)\u001b[0m\n\u001b[1;32m    136\u001b[0m     \u001b[0;32mif\u001b[0m \u001b[0mnot_composite\u001b[0m \u001b[0;32mor\u001b[0m \u001b[0;32mnot\u001b[0m \u001b[0mhas_images\u001b[0m\u001b[0;34m:\u001b[0m\u001b[0;34m\u001b[0m\u001b[0m\n\u001b[1;32m    137\u001b[0m         \u001b[0;32mfor\u001b[0m \u001b[0ma\u001b[0m \u001b[0;32min\u001b[0m \u001b[0martists\u001b[0m\u001b[0;34m:\u001b[0m\u001b[0;34m\u001b[0m\u001b[0m\n\u001b[0;32m--> 138\u001b[0;31m             \u001b[0ma\u001b[0m\u001b[0;34m.\u001b[0m\u001b[0mdraw\u001b[0m\u001b[0;34m(\u001b[0m\u001b[0mrenderer\u001b[0m\u001b[0;34m)\u001b[0m\u001b[0;34m\u001b[0m\u001b[0m\n\u001b[0m\u001b[1;32m    139\u001b[0m     \u001b[0;32melse\u001b[0m\u001b[0;34m:\u001b[0m\u001b[0;34m\u001b[0m\u001b[0m\n\u001b[1;32m    140\u001b[0m         \u001b[0;31m# Composite any adjacent images together\u001b[0m\u001b[0;34m\u001b[0m\u001b[0;34m\u001b[0m\u001b[0m\n",
            "\u001b[0;32m/anaconda2/envs/earthdata/lib/python2.7/site-packages/matplotlib/artist.pyc\u001b[0m in \u001b[0;36mdraw_wrapper\u001b[0;34m(artist, renderer, *args, **kwargs)\u001b[0m\n\u001b[1;32m     53\u001b[0m                 \u001b[0mrenderer\u001b[0m\u001b[0;34m.\u001b[0m\u001b[0mstart_filter\u001b[0m\u001b[0;34m(\u001b[0m\u001b[0;34m)\u001b[0m\u001b[0;34m\u001b[0m\u001b[0m\n\u001b[1;32m     54\u001b[0m \u001b[0;34m\u001b[0m\u001b[0m\n\u001b[0;32m---> 55\u001b[0;31m             \u001b[0;32mreturn\u001b[0m \u001b[0mdraw\u001b[0m\u001b[0;34m(\u001b[0m\u001b[0martist\u001b[0m\u001b[0;34m,\u001b[0m \u001b[0mrenderer\u001b[0m\u001b[0;34m,\u001b[0m \u001b[0;34m*\u001b[0m\u001b[0margs\u001b[0m\u001b[0;34m,\u001b[0m \u001b[0;34m**\u001b[0m\u001b[0mkwargs\u001b[0m\u001b[0;34m)\u001b[0m\u001b[0;34m\u001b[0m\u001b[0m\n\u001b[0m\u001b[1;32m     56\u001b[0m         \u001b[0;32mfinally\u001b[0m\u001b[0;34m:\u001b[0m\u001b[0;34m\u001b[0m\u001b[0m\n\u001b[1;32m     57\u001b[0m             \u001b[0;32mif\u001b[0m \u001b[0martist\u001b[0m\u001b[0;34m.\u001b[0m\u001b[0mget_agg_filter\u001b[0m\u001b[0;34m(\u001b[0m\u001b[0;34m)\u001b[0m \u001b[0;32mis\u001b[0m \u001b[0;32mnot\u001b[0m \u001b[0mNone\u001b[0m\u001b[0;34m:\u001b[0m\u001b[0;34m\u001b[0m\u001b[0m\n",
            "\u001b[0;32m/anaconda2/envs/earthdata/lib/python2.7/site-packages/matplotlib/axes/_base.pyc\u001b[0m in \u001b[0;36mdraw\u001b[0;34m(self, renderer, inframe)\u001b[0m\n\u001b[1;32m   2435\u001b[0m             \u001b[0mrenderer\u001b[0m\u001b[0;34m.\u001b[0m\u001b[0mstop_rasterizing\u001b[0m\u001b[0;34m(\u001b[0m\u001b[0;34m)\u001b[0m\u001b[0;34m\u001b[0m\u001b[0m\n\u001b[1;32m   2436\u001b[0m \u001b[0;34m\u001b[0m\u001b[0m\n\u001b[0;32m-> 2437\u001b[0;31m         \u001b[0mmimage\u001b[0m\u001b[0;34m.\u001b[0m\u001b[0m_draw_list_compositing_images\u001b[0m\u001b[0;34m(\u001b[0m\u001b[0mrenderer\u001b[0m\u001b[0;34m,\u001b[0m \u001b[0mself\u001b[0m\u001b[0;34m,\u001b[0m \u001b[0martists\u001b[0m\u001b[0;34m)\u001b[0m\u001b[0;34m\u001b[0m\u001b[0m\n\u001b[0m\u001b[1;32m   2438\u001b[0m \u001b[0;34m\u001b[0m\u001b[0m\n\u001b[1;32m   2439\u001b[0m         \u001b[0mrenderer\u001b[0m\u001b[0;34m.\u001b[0m\u001b[0mclose_group\u001b[0m\u001b[0;34m(\u001b[0m\u001b[0;34m'axes'\u001b[0m\u001b[0;34m)\u001b[0m\u001b[0;34m\u001b[0m\u001b[0m\n",
            "\u001b[0;32m/anaconda2/envs/earthdata/lib/python2.7/site-packages/matplotlib/image.pyc\u001b[0m in \u001b[0;36m_draw_list_compositing_images\u001b[0;34m(renderer, parent, artists, suppress_composite)\u001b[0m\n\u001b[1;32m    136\u001b[0m     \u001b[0;32mif\u001b[0m \u001b[0mnot_composite\u001b[0m \u001b[0;32mor\u001b[0m \u001b[0;32mnot\u001b[0m \u001b[0mhas_images\u001b[0m\u001b[0;34m:\u001b[0m\u001b[0;34m\u001b[0m\u001b[0m\n\u001b[1;32m    137\u001b[0m         \u001b[0;32mfor\u001b[0m \u001b[0ma\u001b[0m \u001b[0;32min\u001b[0m \u001b[0martists\u001b[0m\u001b[0;34m:\u001b[0m\u001b[0;34m\u001b[0m\u001b[0m\n\u001b[0;32m--> 138\u001b[0;31m             \u001b[0ma\u001b[0m\u001b[0;34m.\u001b[0m\u001b[0mdraw\u001b[0m\u001b[0;34m(\u001b[0m\u001b[0mrenderer\u001b[0m\u001b[0;34m)\u001b[0m\u001b[0;34m\u001b[0m\u001b[0m\n\u001b[0m\u001b[1;32m    139\u001b[0m     \u001b[0;32melse\u001b[0m\u001b[0;34m:\u001b[0m\u001b[0;34m\u001b[0m\u001b[0m\n\u001b[1;32m    140\u001b[0m         \u001b[0;31m# Composite any adjacent images together\u001b[0m\u001b[0;34m\u001b[0m\u001b[0;34m\u001b[0m\u001b[0m\n",
            "\u001b[0;32m/anaconda2/envs/earthdata/lib/python2.7/site-packages/matplotlib/artist.pyc\u001b[0m in \u001b[0;36mdraw_wrapper\u001b[0;34m(artist, renderer, *args, **kwargs)\u001b[0m\n\u001b[1;32m     53\u001b[0m                 \u001b[0mrenderer\u001b[0m\u001b[0;34m.\u001b[0m\u001b[0mstart_filter\u001b[0m\u001b[0;34m(\u001b[0m\u001b[0;34m)\u001b[0m\u001b[0;34m\u001b[0m\u001b[0m\n\u001b[1;32m     54\u001b[0m \u001b[0;34m\u001b[0m\u001b[0m\n\u001b[0;32m---> 55\u001b[0;31m             \u001b[0;32mreturn\u001b[0m \u001b[0mdraw\u001b[0m\u001b[0;34m(\u001b[0m\u001b[0martist\u001b[0m\u001b[0;34m,\u001b[0m \u001b[0mrenderer\u001b[0m\u001b[0;34m,\u001b[0m \u001b[0;34m*\u001b[0m\u001b[0margs\u001b[0m\u001b[0;34m,\u001b[0m \u001b[0;34m**\u001b[0m\u001b[0mkwargs\u001b[0m\u001b[0;34m)\u001b[0m\u001b[0;34m\u001b[0m\u001b[0m\n\u001b[0m\u001b[1;32m     56\u001b[0m         \u001b[0;32mfinally\u001b[0m\u001b[0;34m:\u001b[0m\u001b[0;34m\u001b[0m\u001b[0m\n\u001b[1;32m     57\u001b[0m             \u001b[0;32mif\u001b[0m \u001b[0martist\u001b[0m\u001b[0;34m.\u001b[0m\u001b[0mget_agg_filter\u001b[0m\u001b[0;34m(\u001b[0m\u001b[0;34m)\u001b[0m \u001b[0;32mis\u001b[0m \u001b[0;32mnot\u001b[0m \u001b[0mNone\u001b[0m\u001b[0;34m:\u001b[0m\u001b[0;34m\u001b[0m\u001b[0m\n",
            "\u001b[0;32m/anaconda2/envs/earthdata/lib/python2.7/site-packages/matplotlib/text.pyc\u001b[0m in \u001b[0;36mdraw\u001b[0;34m(self, renderer)\u001b[0m\n\u001b[1;32m   2311\u001b[0m         \u001b[0;31m# Draw text, including FancyBboxPatch, after FancyArrowPatch.\u001b[0m\u001b[0;34m\u001b[0m\u001b[0;34m\u001b[0m\u001b[0m\n\u001b[1;32m   2312\u001b[0m         \u001b[0;31m# Otherwise, a wedge arrowstyle can land partly on top of the Bbox.\u001b[0m\u001b[0;34m\u001b[0m\u001b[0;34m\u001b[0m\u001b[0m\n\u001b[0;32m-> 2313\u001b[0;31m         \u001b[0mText\u001b[0m\u001b[0;34m.\u001b[0m\u001b[0mdraw\u001b[0m\u001b[0;34m(\u001b[0m\u001b[0mself\u001b[0m\u001b[0;34m,\u001b[0m \u001b[0mrenderer\u001b[0m\u001b[0;34m)\u001b[0m\u001b[0;34m\u001b[0m\u001b[0m\n\u001b[0m\u001b[1;32m   2314\u001b[0m \u001b[0;34m\u001b[0m\u001b[0m\n\u001b[1;32m   2315\u001b[0m     \u001b[0;32mdef\u001b[0m \u001b[0mget_window_extent\u001b[0m\u001b[0;34m(\u001b[0m\u001b[0mself\u001b[0m\u001b[0;34m,\u001b[0m \u001b[0mrenderer\u001b[0m\u001b[0;34m=\u001b[0m\u001b[0mNone\u001b[0m\u001b[0;34m)\u001b[0m\u001b[0;34m:\u001b[0m\u001b[0;34m\u001b[0m\u001b[0m\n",
            "\u001b[0;32m/anaconda2/envs/earthdata/lib/python2.7/site-packages/matplotlib/artist.pyc\u001b[0m in \u001b[0;36mdraw_wrapper\u001b[0;34m(artist, renderer, *args, **kwargs)\u001b[0m\n\u001b[1;32m     53\u001b[0m                 \u001b[0mrenderer\u001b[0m\u001b[0;34m.\u001b[0m\u001b[0mstart_filter\u001b[0m\u001b[0;34m(\u001b[0m\u001b[0;34m)\u001b[0m\u001b[0;34m\u001b[0m\u001b[0m\n\u001b[1;32m     54\u001b[0m \u001b[0;34m\u001b[0m\u001b[0m\n\u001b[0;32m---> 55\u001b[0;31m             \u001b[0;32mreturn\u001b[0m \u001b[0mdraw\u001b[0m\u001b[0;34m(\u001b[0m\u001b[0martist\u001b[0m\u001b[0;34m,\u001b[0m \u001b[0mrenderer\u001b[0m\u001b[0;34m,\u001b[0m \u001b[0;34m*\u001b[0m\u001b[0margs\u001b[0m\u001b[0;34m,\u001b[0m \u001b[0;34m**\u001b[0m\u001b[0mkwargs\u001b[0m\u001b[0;34m)\u001b[0m\u001b[0;34m\u001b[0m\u001b[0m\n\u001b[0m\u001b[1;32m     56\u001b[0m         \u001b[0;32mfinally\u001b[0m\u001b[0;34m:\u001b[0m\u001b[0;34m\u001b[0m\u001b[0m\n\u001b[1;32m     57\u001b[0m             \u001b[0;32mif\u001b[0m \u001b[0martist\u001b[0m\u001b[0;34m.\u001b[0m\u001b[0mget_agg_filter\u001b[0m\u001b[0;34m(\u001b[0m\u001b[0;34m)\u001b[0m \u001b[0;32mis\u001b[0m \u001b[0;32mnot\u001b[0m \u001b[0mNone\u001b[0m\u001b[0;34m:\u001b[0m\u001b[0;34m\u001b[0m\u001b[0m\n",
            "\u001b[0;32m/anaconda2/envs/earthdata/lib/python2.7/site-packages/matplotlib/text.pyc\u001b[0m in \u001b[0;36mdraw\u001b[0;34m(self, renderer)\u001b[0m\n\u001b[1;32m    764\u001b[0m                     textrenderer.draw_text(gc, x, y, clean_line,\n\u001b[1;32m    765\u001b[0m                                            \u001b[0mtextobj\u001b[0m\u001b[0;34m.\u001b[0m\u001b[0m_fontproperties\u001b[0m\u001b[0;34m,\u001b[0m \u001b[0mangle\u001b[0m\u001b[0;34m,\u001b[0m\u001b[0;34m\u001b[0m\u001b[0m\n\u001b[0;32m--> 766\u001b[0;31m                                            ismath=ismath, mtext=mtext)\n\u001b[0m\u001b[1;32m    767\u001b[0m \u001b[0;34m\u001b[0m\u001b[0m\n\u001b[1;32m    768\u001b[0m         \u001b[0mgc\u001b[0m\u001b[0;34m.\u001b[0m\u001b[0mrestore\u001b[0m\u001b[0;34m(\u001b[0m\u001b[0;34m)\u001b[0m\u001b[0;34m\u001b[0m\u001b[0m\n",
            "\u001b[0;32m/anaconda2/envs/earthdata/lib/python2.7/site-packages/matplotlib/backend_bases.pyc\u001b[0m in \u001b[0;36mdraw_text\u001b[0;34m(self, gc, x, y, s, prop, angle, ismath, mtext)\u001b[0m\n\u001b[1;32m    672\u001b[0m         \"\"\"\n\u001b[1;32m    673\u001b[0m \u001b[0;34m\u001b[0m\u001b[0m\n\u001b[0;32m--> 674\u001b[0;31m         \u001b[0mself\u001b[0m\u001b[0;34m.\u001b[0m\u001b[0m_draw_text_as_path\u001b[0m\u001b[0;34m(\u001b[0m\u001b[0mgc\u001b[0m\u001b[0;34m,\u001b[0m \u001b[0mx\u001b[0m\u001b[0;34m,\u001b[0m \u001b[0my\u001b[0m\u001b[0;34m,\u001b[0m \u001b[0ms\u001b[0m\u001b[0;34m,\u001b[0m \u001b[0mprop\u001b[0m\u001b[0;34m,\u001b[0m \u001b[0mangle\u001b[0m\u001b[0;34m,\u001b[0m \u001b[0mismath\u001b[0m\u001b[0;34m)\u001b[0m\u001b[0;34m\u001b[0m\u001b[0m\n\u001b[0m\u001b[1;32m    675\u001b[0m \u001b[0;34m\u001b[0m\u001b[0m\n\u001b[1;32m    676\u001b[0m     \u001b[0;32mdef\u001b[0m \u001b[0m_get_text_path_transform\u001b[0m\u001b[0;34m(\u001b[0m\u001b[0mself\u001b[0m\u001b[0;34m,\u001b[0m \u001b[0mx\u001b[0m\u001b[0;34m,\u001b[0m \u001b[0my\u001b[0m\u001b[0;34m,\u001b[0m \u001b[0ms\u001b[0m\u001b[0;34m,\u001b[0m \u001b[0mprop\u001b[0m\u001b[0;34m,\u001b[0m \u001b[0mangle\u001b[0m\u001b[0;34m,\u001b[0m \u001b[0mismath\u001b[0m\u001b[0;34m)\u001b[0m\u001b[0;34m:\u001b[0m\u001b[0;34m\u001b[0m\u001b[0m\n",
            "\u001b[0;32m/anaconda2/envs/earthdata/lib/python2.7/site-packages/matplotlib/patheffects.pyc\u001b[0m in \u001b[0;36m_draw_text_as_path\u001b[0;34m(self, gc, x, y, s, prop, angle, ismath)\u001b[0m\n\u001b[1;32m    154\u001b[0m         \u001b[0;31m# Implements the naive text drawing as is found in RendererBase.\u001b[0m\u001b[0;34m\u001b[0m\u001b[0;34m\u001b[0m\u001b[0m\n\u001b[1;32m    155\u001b[0m         path, transform = self._get_text_path_transform(x, y, s, prop,\n\u001b[0;32m--> 156\u001b[0;31m                                                         angle, ismath)\n\u001b[0m\u001b[1;32m    157\u001b[0m         \u001b[0mcolor\u001b[0m \u001b[0;34m=\u001b[0m \u001b[0mgc\u001b[0m\u001b[0;34m.\u001b[0m\u001b[0mget_rgb\u001b[0m\u001b[0;34m(\u001b[0m\u001b[0;34m)\u001b[0m\u001b[0;34m\u001b[0m\u001b[0m\n\u001b[1;32m    158\u001b[0m         \u001b[0mgc\u001b[0m\u001b[0;34m.\u001b[0m\u001b[0mset_linewidth\u001b[0m\u001b[0;34m(\u001b[0m\u001b[0;36m0.0\u001b[0m\u001b[0;34m)\u001b[0m\u001b[0;34m\u001b[0m\u001b[0m\n",
            "\u001b[0;32m/anaconda2/envs/earthdata/lib/python2.7/site-packages/matplotlib/backend_bases.pyc\u001b[0m in \u001b[0;36m_get_text_path_transform\u001b[0;34m(self, x, y, s, prop, angle, ismath)\u001b[0m\n\u001b[1;32m    703\u001b[0m                                                    usetex=False)\n\u001b[1;32m    704\u001b[0m \u001b[0;34m\u001b[0m\u001b[0m\n\u001b[0;32m--> 705\u001b[0;31m         \u001b[0mpath\u001b[0m \u001b[0;34m=\u001b[0m \u001b[0mPath\u001b[0m\u001b[0;34m(\u001b[0m\u001b[0mverts\u001b[0m\u001b[0;34m,\u001b[0m \u001b[0mcodes\u001b[0m\u001b[0;34m)\u001b[0m\u001b[0;34m\u001b[0m\u001b[0m\n\u001b[0m\u001b[1;32m    706\u001b[0m         \u001b[0mangle\u001b[0m \u001b[0;34m=\u001b[0m \u001b[0mnp\u001b[0m\u001b[0;34m.\u001b[0m\u001b[0mdeg2rad\u001b[0m\u001b[0;34m(\u001b[0m\u001b[0mangle\u001b[0m\u001b[0;34m)\u001b[0m\u001b[0;34m\u001b[0m\u001b[0m\n\u001b[1;32m    707\u001b[0m         \u001b[0;32mif\u001b[0m \u001b[0mself\u001b[0m\u001b[0;34m.\u001b[0m\u001b[0mflipy\u001b[0m\u001b[0;34m(\u001b[0m\u001b[0;34m)\u001b[0m\u001b[0;34m:\u001b[0m\u001b[0;34m\u001b[0m\u001b[0m\n",
            "\u001b[0;32m/anaconda2/envs/earthdata/lib/python2.7/site-packages/matplotlib/path.pyc\u001b[0m in \u001b[0;36m__init__\u001b[0;34m(self, vertices, codes, _interpolation_steps, closed, readonly)\u001b[0m\n\u001b[1;32m    137\u001b[0m         \u001b[0;32mif\u001b[0m \u001b[0;34m(\u001b[0m\u001b[0mvertices\u001b[0m\u001b[0;34m.\u001b[0m\u001b[0mndim\u001b[0m \u001b[0;34m!=\u001b[0m \u001b[0;36m2\u001b[0m\u001b[0;34m)\u001b[0m \u001b[0;32mor\u001b[0m \u001b[0;34m(\u001b[0m\u001b[0mvertices\u001b[0m\u001b[0;34m.\u001b[0m\u001b[0mshape\u001b[0m\u001b[0;34m[\u001b[0m\u001b[0;36m1\u001b[0m\u001b[0;34m]\u001b[0m \u001b[0;34m!=\u001b[0m \u001b[0;36m2\u001b[0m\u001b[0;34m)\u001b[0m\u001b[0;34m:\u001b[0m\u001b[0;34m\u001b[0m\u001b[0m\n\u001b[1;32m    138\u001b[0m             \u001b[0mmsg\u001b[0m \u001b[0;34m=\u001b[0m \u001b[0;34m\"'vertices' must be a 2D list or array with shape Nx2\"\u001b[0m\u001b[0;34m\u001b[0m\u001b[0m\n\u001b[0;32m--> 139\u001b[0;31m             \u001b[0;32mraise\u001b[0m \u001b[0mValueError\u001b[0m\u001b[0;34m(\u001b[0m\u001b[0mmsg\u001b[0m\u001b[0;34m)\u001b[0m\u001b[0;34m\u001b[0m\u001b[0m\n\u001b[0m\u001b[1;32m    140\u001b[0m \u001b[0;34m\u001b[0m\u001b[0m\n\u001b[1;32m    141\u001b[0m         \u001b[0;32mif\u001b[0m \u001b[0mcodes\u001b[0m \u001b[0;32mis\u001b[0m \u001b[0;32mnot\u001b[0m \u001b[0mNone\u001b[0m\u001b[0;34m:\u001b[0m\u001b[0;34m\u001b[0m\u001b[0m\n",
            "\u001b[0;31mValueError\u001b[0m: 'vertices' must be a 2D list or array with shape Nx2"
          ]
        },
        {
          "output_type": "display_data",
          "data": {
            "text/plain": [
              "<matplotlib.figure.Figure at 0x1a33f3c550>"
            ]
          },
          "metadata": {}
        }
      ],
      "execution_count": 70,
      "metadata": {
        "collapsed": false,
        "outputHidden": false,
        "inputHidden": false
      }
    },
    {
      "cell_type": "code",
      "source": [
        "fig.savefig('MINE')"
      ],
      "outputs": [],
      "execution_count": 59,
      "metadata": {
        "collapsed": false,
        "outputHidden": false,
        "inputHidden": false
      }
    },
    {
      "cell_type": "markdown",
      "source": [
        "Time for doc2vec"
      ],
      "metadata": {}
    },
    {
      "cell_type": "code",
      "source": [
        "from gensim.models import doc2vec\n",
        "from gensim.models.doc2vec import TaggedDocument\n",
        "\n",
        "# We need to feed it labeled sentences\n",
        "idx = 0\n",
        "doc_sentences = []\n",
        "for sentence_list in sentences:\n",
        "    \n",
        "    ln = metadata[idx]['Collection']['LongName']\n",
        "    \n",
        "    for sentence in sentence_list:\n",
        "        ls = TaggedDocument(words=filter(None, sentence.split(' ')), tags=[unicode(idx), ln])\n",
        "        doc_sentences.append(ls)\n",
        "        \n",
        "    idx += 1\n",
        "\n"
      ],
      "outputs": [],
      "execution_count": null,
      "metadata": {
        "collapsed": false,
        "outputHidden": false,
        "inputHidden": false
      }
    },
    {
      "cell_type": "code",
      "source": [
        "doc_sentences[0]"
      ],
      "outputs": [],
      "execution_count": null,
      "metadata": {
        "collapsed": false,
        "outputHidden": false,
        "inputHidden": false
      }
    },
    {
      "cell_type": "code",
      "source": [
        "model = doc2vec.Doc2Vec(doc_sentences, size=100, window=8, min_count=5, workers=7)"
      ],
      "outputs": [],
      "execution_count": null,
      "metadata": {
        "collapsed": false,
        "outputHidden": false,
        "inputHidden": false
      }
    },
    {
      "cell_type": "code",
      "source": [
        "model.save('doc2vec_structured.m')"
      ],
      "outputs": [],
      "execution_count": null,
      "metadata": {
        "collapsed": false,
        "outputHidden": false,
        "inputHidden": false
      }
    },
    {
      "cell_type": "code",
      "source": [
        "# Now lets see which is the most similiar to a chosen document\n",
        "\nmodel.docvecs.most_similar(200) "
      ],
      "outputs": [],
      "execution_count": null,
      "metadata": {
        "collapsed": false,
        "outputHidden": false,
        "inputHidden": false
      }
    },
    {
      "cell_type": "code",
      "source": [
        "print metadata[200]['Collection']['ShortName']"
      ],
      "outputs": [],
      "execution_count": null,
      "metadata": {
        "collapsed": false,
        "outputHidden": false,
        "inputHidden": false
      }
    },
    {
      "cell_type": "markdown",
      "source": [
        "This works, but what would have happened if we had used a different representation of documents that captured less of the structure?"
      ],
      "metadata": {}
    },
    {
      "cell_type": "code",
      "source": [
        "documents[0]"
      ],
      "outputs": [],
      "execution_count": null,
      "metadata": {
        "collapsed": false,
        "outputHidden": false,
        "inputHidden": false
      }
    },
    {
      "cell_type": "code",
      "source": [
        "import multiprocessing\n",
        "\n",
        "# Parallelize for speed\n",
        "pool = multiprocessing.Pool()\n",
        "documents = pool.map(struct2Doc, metadata)"
      ],
      "outputs": [],
      "execution_count": null,
      "metadata": {
        "collapsed": false,
        "outputHidden": false,
        "inputHidden": false
      }
    },
    {
      "cell_type": "code",
      "source": [
        "from gensim.models import doc2vec\n",
        "from gensim.models.doc2vec import TaggedDocument\n",
        "\n",
        "# We need to feed it labeled sentences\n",
        "idx = 0\n",
        "doc_sentences2 = []\n",
        "for document in documents:\n",
        "    ln = metadata[idx]['Collection']['LongName']\n",
        "    sentence = filter(None, document.split(' '))\n",
        "    td = TaggedDocument(words=sentence, tags=[unicode(idx), ln])\n",
        "    doc_sentences2.append(td)\n",
        "    idx += 1"
      ],
      "outputs": [],
      "execution_count": null,
      "metadata": {
        "collapsed": false,
        "outputHidden": false,
        "inputHidden": false
      }
    },
    {
      "cell_type": "code",
      "source": [
        "model_simplified = doc2vec.Doc2Vec(doc_sentences2, size=100, window=8, min_count=5, workers=7)"
      ],
      "outputs": [],
      "execution_count": null,
      "metadata": {
        "collapsed": false,
        "outputHidden": false,
        "inputHidden": false
      }
    },
    {
      "cell_type": "code",
      "source": [
        "model_simplified.save('doc2vec_simple.m')"
      ],
      "outputs": [],
      "execution_count": null,
      "metadata": {
        "collapsed": false,
        "outputHidden": false,
        "inputHidden": false
      }
    },
    {
      "cell_type": "markdown",
      "source": [
        "Let's compare how this version of documents compares"
      ],
      "metadata": {}
    },
    {
      "cell_type": "code",
      "source": [
        "model_simplified.docvecs.most_similar(200) "
      ],
      "outputs": [],
      "execution_count": null,
      "metadata": {
        "collapsed": false,
        "outputHidden": false,
        "inputHidden": false
      }
    },
    {
      "cell_type": "code",
      "source": [
        "model.docvecs.most_similar(200)"
      ],
      "outputs": [],
      "execution_count": null,
      "metadata": {
        "collapsed": false,
        "outputHidden": false,
        "inputHidden": false
      }
    },
    {
      "cell_type": "markdown",
      "source": [
        "Looks about the same."
      ],
      "metadata": {}
    },
    {
      "cell_type": "markdown",
      "source": [
        "Now let's use LDA on the data. First we have to make a corpus."
      ],
      "metadata": {}
    },
    {
      "cell_type": "code",
      "source": [
        "from gensim import corpora\n",
        "\n",
        "plain_sentences = [filter(None, document.split(' ')) for document in documents]\n",
        "dictionary = corpora.Dictionary(plain_sentences)\n",
        "corpus = [dictionary.doc2bow(sentence) for sentence in plain_sentences]"
      ],
      "outputs": [],
      "execution_count": null,
      "metadata": {
        "collapsed": false,
        "outputHidden": false,
        "inputHidden": false
      }
    },
    {
      "cell_type": "code",
      "source": [],
      "outputs": [],
      "execution_count": null,
      "metadata": {
        "collapsed": false,
        "outputHidden": false,
        "inputHidden": false
      }
    },
    {
      "cell_type": "code",
      "source": [
        "lda = gensim.models.ldamodel.LdaModel(corpus=corpus, num_topics=100, id2word=dictionary)"
      ],
      "outputs": [],
      "execution_count": null,
      "metadata": {
        "collapsed": false,
        "outputHidden": false,
        "inputHidden": false
      }
    },
    {
      "cell_type": "code",
      "source": [
        "lda.print_topics(10)"
      ],
      "outputs": [],
      "execution_count": null,
      "metadata": {
        "collapsed": false,
        "outputHidden": false,
        "inputHidden": false
      }
    },
    {
      "cell_type": "markdown",
      "source": [
        "topic #25 (0.010): 0.045*\"fertilizer\" + 0.018*\"and\" + 0.016*\"image\" + 0.015*\"the\" + 0.014*\"data\" + 0.010*\"00z\" + 0.009*\"p\" + 0.009*\"daac\" + 0.009*\"for\" + 0.008*\"soil\""
      ],
      "metadata": {}
    },
    {
      "cell_type": "markdown",
      "source": [
        "Clearly this needs a lot more fine-tuning and removal of common words."
      ],
      "metadata": {}
    },
    {
      "cell_type": "code",
      "source": [
        "lda.save('lda_simple.m')"
      ],
      "outputs": [],
      "execution_count": null,
      "metadata": {
        "collapsed": false,
        "outputHidden": false,
        "inputHidden": false
      }
    },
    {
      "cell_type": "code",
      "source": [],
      "outputs": [],
      "execution_count": null,
      "metadata": {
        "collapsed": false,
        "outputHidden": false,
        "inputHidden": false
      }
    }
  ],
  "metadata": {
    "kernelspec": {
      "name": "python2",
      "language": "python",
      "display_name": "Python 2"
    },
    "kernel_info": {
      "name": "python2"
    },
    "language_info": {
      "mimetype": "text/x-python",
      "nbconvert_exporter": "python",
      "name": "python",
      "pygments_lexer": "ipython2",
      "version": "2.7.14",
      "file_extension": ".py",
      "codemirror_mode": {
        "version": 2,
        "name": "ipython"
      }
    },
    "nteract": {
      "version": "0.7.1"
    }
  },
  "nbformat": 4,
  "nbformat_minor": 4
}