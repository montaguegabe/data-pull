{
  "cells": [
    {
      "cell_type": "markdown",
      "source": [
        "This notebook deals with authenticating download requests, allowing for programmatic bulk-downloading without having to resort to Selenium.\n",
        "\n",
        "See: https://github.com/n8henrie/pycookiecheat\n",
        "\nNote: This requires Python 3, whereas for all else I am using Python 2"
      ],
      "metadata": {}
    },
    {
      "cell_type": "code",
      "source": [
        "from pycookiecheat import chrome_cookies\n",
        "import requests\n",
        "\n",
        "# You want to visit the actual URL before running this\n",
        "#url = 'http://www.nature.com.ezp-prod1.hul.harvard.edu/articles/nature10381.pdf'\n",
        "url = 'http://www.nature.com.ezp-prod1.hul.harvard.edu/articles/srep44529.pdf'\n",
        "\n",
        "# Uses Chrome's default cookies filepath by default\n",
        "cookies = chrome_cookies(url)"
      ],
      "outputs": [],
      "execution_count": 1,
      "metadata": {
        "collapsed": false,
        "outputHidden": false,
        "inputHidden": false
      }
    },
    {
      "cell_type": "markdown",
      "source": [
        "Here we could potentially prolong the expiration of the cookie. But I'm not sure of the consequences of doing that."
      ],
      "metadata": {}
    },
    {
      "cell_type": "code",
      "source": [
        "# Let's do it anyways\n",
        "# WARNING: This is specific to the NATURE source\n",
        "cookies['PS_TOKENEXPIRE'] = '20_Feb_2019_01:38:49_GMT'"
      ],
      "outputs": [],
      "execution_count": 2,
      "metadata": {
        "collapsed": false,
        "outputHidden": false,
        "inputHidden": false
      }
    },
    {
      "cell_type": "code",
      "source": [
        "# For now, we save the credentials as JSON to be used later\n",
        "import json\n",
        "import os.path\n",
        "cred_str = json.dumps(cookies)\n",
        "\n",
        "# IMPORTANT: DO NOT CHECK CREDENTIALS INTO THE REPOSITORY\n",
        "# the credentials directory is ignored so it is safe.\n",
        "out_name = 'gabe_nature'\n",
        "fname = 'credentials/' + out_name + '.json'\n",
        "\n",
        "# Prevents overwriting\n",
        "#assert not os.path.isfile(fname)\n",
        "\n",
        "with open(fname, 'w') as f:\n",
        "    f.write(cred_str)"
      ],
      "outputs": [],
      "execution_count": 3,
      "metadata": {
        "collapsed": false,
        "outputHidden": false,
        "inputHidden": false
      }
    },
    {
      "cell_type": "code",
      "source": [
        "# We can now use the cookies, for example:\n",
        "\n",
        "# Read file\n",
        "import json\n",
        "with open(fname, 'r') as f:\n",
        "    json_str=f.read().replace('\\n', '')\n",
        "\n",
        "cookies = json.loads(json_str)\n",
        "\n",
        "# Note: I've made a util for doing the above\n",
        "\n",
        "#r = requests.get(url, cookies=cookies)\n",
        "#r\n",
        "from importlib import reload\n",
        "import util\n",
        "reload(util);\n",
        "download_file(url, cookies)\n"
      ],
      "outputs": [
        {
          "output_type": "execute_result",
          "execution_count": 25,
          "data": {
            "text/plain": [
              "'nature10381.pdf'"
            ]
          },
          "metadata": {}
        }
      ],
      "execution_count": 25,
      "metadata": {
        "collapsed": false,
        "outputHidden": false,
        "inputHidden": false
      }
    },
    {
      "cell_type": "markdown",
      "source": [
        "`<Response [200]>` should indicate all is well and that the credentials have not expired."
      ],
      "metadata": {}
    },
    {
      "cell_type": "code",
      "source": [],
      "outputs": [],
      "execution_count": null,
      "metadata": {
        "collapsed": false,
        "outputHidden": false,
        "inputHidden": false
      }
    }
  ],
  "metadata": {
    "kernelspec": {
      "name": "python3",
      "language": "python",
      "display_name": "Python 3"
    },
    "kernel_info": {
      "name": "python3"
    },
    "language_info": {
      "name": "python",
      "version": "3.6.2",
      "mimetype": "text/x-python",
      "codemirror_mode": {
        "name": "ipython",
        "version": 3
      },
      "pygments_lexer": "ipython3",
      "nbconvert_exporter": "python",
      "file_extension": ".py"
    },
    "nteract": {
      "version": "0.7.1"
    }
  },
  "nbformat": 4,
  "nbformat_minor": 4
}